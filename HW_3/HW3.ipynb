{
  "nbformat": 4,
  "nbformat_minor": 0,
  "metadata": {
    "colab": {
      "name": "HW3.ipynb",
      "provenance": [],
      "collapsed_sections": [],
      "authorship_tag": "ABX9TyNskYuyczqJUwgSLPEL+kcV",
      "include_colab_link": true
    },
    "kernelspec": {
      "name": "python3",
      "display_name": "Python 3"
    }
  },
  "cells": [
    {
      "cell_type": "markdown",
      "metadata": {
        "id": "view-in-github",
        "colab_type": "text"
      },
      "source": [
        "<a href=\"https://colab.research.google.com/github/anhtel94/CAP4630---Machine-Learning/blob/master/HW_3/HW3.ipynb\" target=\"_parent\"><img src=\"https://colab.research.google.com/assets/colab-badge.svg\" alt=\"Open In Colab\"/></a>"
      ]
    },
    {
      "cell_type": "markdown",
      "metadata": {
        "id": "vJ0d2R9G0hzQ",
        "colab_type": "text"
      },
      "source": [
        "**Problem 1**"
      ]
    },
    {
      "cell_type": "markdown",
      "metadata": {
        "id": "IawPlvscAYF0",
        "colab_type": "text"
      },
      "source": [
        "Imports\n",
        "\n"
      ]
    },
    {
      "cell_type": "code",
      "metadata": {
        "id": "RGEFCDBp_8e7",
        "colab_type": "code",
        "colab": {}
      },
      "source": [
        "from tensorflow import keras\n",
        "from keras.models import Sequential\n",
        "from keras.layers import Dense\n",
        "from keras.regularizers import L1L2\n",
        "import random\n",
        "import numpy as np\n",
        "%matplotlib inline\n",
        "import matplotlib as mpl\n",
        "import matplotlib.pyplot as plt"
      ],
      "execution_count": 0,
      "outputs": []
    },
    {
      "cell_type": "code",
      "metadata": {
        "id": "5_PXMKmXNTkp",
        "colab_type": "code",
        "colab": {}
      },
      "source": [
        "def get_random_data(w, b, mu, sigma, m):\n",
        "  data = np.random.rand(m, 2)\n",
        "  labels = np.random.randint(2, size=(m, 1))\n",
        "\n",
        "  samples = np.random.default_rng().normal(mu, sigma, 1000)\n",
        "\n",
        "  for d, l, s in zip(data, labels, samples):\n",
        "    if(l[0]):\n",
        "      d[1] = w * d[0] + b + -1 * s\n",
        "    else:\n",
        "      d[1] = w * d[0] + b + s\n",
        "\n",
        "  ##print(labels, data)\n",
        "  return labels, data\n",
        "\n",
        "  "
      ],
      "execution_count": 0,
      "outputs": []
    },
    {
      "cell_type": "code",
      "metadata": {
        "id": "JLXws7NePF26",
        "colab_type": "code",
        "colab": {}
      },
      "source": [
        "def display_random_data(labels, data):\n",
        "  for label, d in zip(labels, data):\n",
        "    if(label):\n",
        "      plt.plot(d[0], d[1], \"r.\")\n",
        "    else:\n",
        "      plt.plot(d[0], d[1], \"b.\")\n",
        "\n",
        "  plt.xlabel(\"$x_1$\", fontsize=18)\n",
        "  plt.ylabel(\"$x_2$\", rotation=0, fontsize=18)\n",
        "  plt.axis([0, 1, -15, 15])\n",
        "  plt.show()"
      ],
      "execution_count": 0,
      "outputs": []
    },
    {
      "cell_type": "code",
      "metadata": {
        "id": "Y5hbiG_Ra7GF",
        "colab_type": "code",
        "colab": {}
      },
      "source": [
        "## Constant for generate random data\n",
        "w = 15\n",
        "b = -8\n",
        "mu = 2\n",
        "sigma = 1\n",
        "m = 100"
      ],
      "execution_count": 0,
      "outputs": []
    },
    {
      "cell_type": "code",
      "metadata": {
        "id": "NMgKMV9eUx8r",
        "colab_type": "code",
        "colab": {
          "base_uri": "https://localhost:8080/",
          "height": 291
        },
        "outputId": "62d4f10e-7807-4c76-8b36-9ea3cf405580"
      },
      "source": [
        "## Generate random data\n",
        "labels, data = get_random_data(w, b, mu, sigma, m)\n",
        "\n",
        "## Display scatter plot\n",
        "display_random_data(labels, data)"
      ],
      "execution_count": 270,
      "outputs": [
        {
          "output_type": "display_data",
          "data": {
            "image/png": "[encoded data removed]",
            "text/plain": [
              "<Figure size 432x288 with 1 Axes>"
            ]
          },
          "metadata": {
            "tags": []
          }
        }
      ]
    },
    {
      "cell_type": "code",
      "metadata": {
        "id": "B130QbEE2Iu9",
        "colab_type": "code",
        "colab": {}
      },
      "source": [
        "from sklearn.model_selection import train_test_split\n",
        "\n",
        "train_data, test_data, train_labels, test_labels = train_test_split(data, labels, train_size=0.8, test_size=0.2)"
      ],
      "execution_count": 0,
      "outputs": []
    },
    {
      "cell_type": "markdown",
      "metadata": {
        "id": "prBxPKIO0cHZ",
        "colab_type": "text"
      },
      "source": [
        "**Problem 2**"
      ]
    },
    {
      "cell_type": "code",
      "metadata": {
        "id": "Mcc4MNXk1DHp",
        "colab_type": "code",
        "colab": {}
      },
      "source": [
        "from tensorflow.keras import models\n",
        "from tensorflow.keras import layers"
      ],
      "execution_count": 0,
      "outputs": []
    },
    {
      "cell_type": "code",
      "metadata": {
        "id": "SkSrLRnS0ndZ",
        "colab_type": "code",
        "colab": {
          "base_uri": "https://localhost:8080/",
          "height": 734
        },
        "outputId": "021b23a0-3ec5-4297-dc92-8f056375042d"
      },
      "source": [
        "model = models.Sequential()\n",
        "model.add(layers.Dense(train_labels.shape[1],\n",
        "                activation='sigmoid',\n",
        "                kernel_regularizer=L1L2(l1=0.0,l2=0.1),\n",
        "                input_dim=(train_data.shape[1])))\n",
        "model.compile(optimizer='sgd',\n",
        "              loss='binary_crossentropy',\n",
        "              metrics=['accuracy'])\n",
        "model.fit(train_data, train_labels, epochs=20, batch_size=8,\n",
        "          validation_data=(test_data,test_labels), verbos=1)"
      ],
      "execution_count": 273,
      "outputs": [
        {
          "output_type": "stream",
          "text": [
            "Epoch 1/20\n",
            "10/10 [==============================] - 0s 12ms/step - loss: 2.9377 - accuracy: 0.4250 - val_loss: 2.5365 - val_accuracy: 0.4500\n",
            "Epoch 2/20\n",
            "10/10 [==============================] - 0s 5ms/step - loss: 2.1904 - accuracy: 0.4375 - val_loss: 1.8238 - val_accuracy: 0.4500\n",
            "Epoch 3/20\n",
            "10/10 [==============================] - 0s 4ms/step - loss: 1.5472 - accuracy: 0.4500 - val_loss: 1.2456 - val_accuracy: 0.5000\n",
            "Epoch 4/20\n",
            "10/10 [==============================] - 0s 4ms/step - loss: 1.0692 - accuracy: 0.4625 - val_loss: 0.8795 - val_accuracy: 0.5000\n",
            "Epoch 5/20\n",
            "10/10 [==============================] - 0s 5ms/step - loss: 0.8040 - accuracy: 0.5000 - val_loss: 0.7251 - val_accuracy: 0.5500\n",
            "Epoch 6/20\n",
            "10/10 [==============================] - 0s 4ms/step - loss: 0.7042 - accuracy: 0.5250 - val_loss: 0.6724 - val_accuracy: 0.5500\n",
            "Epoch 7/20\n",
            "10/10 [==============================] - 0s 5ms/step - loss: 0.6731 - accuracy: 0.6500 - val_loss: 0.6539 - val_accuracy: 0.7000\n",
            "Epoch 8/20\n",
            "10/10 [==============================] - 0s 4ms/step - loss: 0.6609 - accuracy: 0.6625 - val_loss: 0.6435 - val_accuracy: 0.7500\n",
            "Epoch 9/20\n",
            "10/10 [==============================] - 0s 4ms/step - loss: 0.6571 - accuracy: 0.6875 - val_loss: 0.6395 - val_accuracy: 0.7500\n",
            "Epoch 10/20\n",
            "10/10 [==============================] - 0s 5ms/step - loss: 0.6544 - accuracy: 0.6750 - val_loss: 0.6370 - val_accuracy: 0.7500\n",
            "Epoch 11/20\n",
            "10/10 [==============================] - 0s 5ms/step - loss: 0.6538 - accuracy: 0.6750 - val_loss: 0.6351 - val_accuracy: 0.7500\n",
            "Epoch 12/20\n",
            "10/10 [==============================] - 0s 6ms/step - loss: 0.6531 - accuracy: 0.6750 - val_loss: 0.6332 - val_accuracy: 0.7500\n",
            "Epoch 13/20\n",
            "10/10 [==============================] - 0s 4ms/step - loss: 0.6519 - accuracy: 0.6750 - val_loss: 0.6324 - val_accuracy: 0.7000\n",
            "Epoch 14/20\n",
            "10/10 [==============================] - 0s 4ms/step - loss: 0.6511 - accuracy: 0.6750 - val_loss: 0.6314 - val_accuracy: 0.7000\n",
            "Epoch 15/20\n",
            "10/10 [==============================] - 0s 5ms/step - loss: 0.6519 - accuracy: 0.6750 - val_loss: 0.6297 - val_accuracy: 0.7000\n",
            "Epoch 16/20\n",
            "10/10 [==============================] - 0s 5ms/step - loss: 0.6491 - accuracy: 0.6750 - val_loss: 0.6285 - val_accuracy: 0.6500\n",
            "Epoch 17/20\n",
            "10/10 [==============================] - 0s 4ms/step - loss: 0.6500 - accuracy: 0.6750 - val_loss: 0.6280 - val_accuracy: 0.6500\n",
            "Epoch 18/20\n",
            "10/10 [==============================] - 0s 4ms/step - loss: 0.6485 - accuracy: 0.6750 - val_loss: 0.6272 - val_accuracy: 0.6500\n",
            "Epoch 19/20\n",
            "10/10 [==============================] - 0s 5ms/step - loss: 0.6501 - accuracy: 0.6625 - val_loss: 0.6268 - val_accuracy: 0.6500\n",
            "Epoch 20/20\n",
            "10/10 [==============================] - 0s 5ms/step - loss: 0.6476 - accuracy: 0.6750 - val_loss: 0.6259 - val_accuracy: 0.6500\n"
          ],
          "name": "stdout"
        },
        {
          "output_type": "execute_result",
          "data": {
            "text/plain": [
              "<tensorflow.python.keras.callbacks.History at 0x7fb1e9bc3390>"
            ]
          },
          "metadata": {
            "tags": []
          },
          "execution_count": 273
        }
      ]
    },
    {
      "cell_type": "code",
      "metadata": {
        "id": "Jxv5scM43yZY",
        "colab_type": "code",
        "colab": {
          "base_uri": "https://localhost:8080/",
          "height": 34
        },
        "outputId": "ba7d4bce-d56f-4969-e12b-ad390f6e4892"
      },
      "source": [
        "accuracy, loss = model.evaluate(test_data, test_labels, verbose=2)"
      ],
      "execution_count": 274,
      "outputs": [
        {
          "output_type": "stream",
          "text": [
            "1/1 - 0s - loss: 0.6239 - accuracy: 0.6500\n"
          ],
          "name": "stdout"
        }
      ]
    },
    {
      "cell_type": "code",
      "metadata": {
        "id": "eh9vsvOK23Ng",
        "colab_type": "code",
        "colab": {}
      },
      "source": [
        "def display_data(labels, data, w, b):\n",
        "  for label, d in zip(labels, data):\n",
        "    if(label):\n",
        "      plt.plot(d[0], d[1], \"r.\")\n",
        "    else:\n",
        "      plt.plot(d[0], d[1], \"b.\")\n",
        "\n",
        "  x = np.array(np.arrange(0, 1.1, 0.1))\n",
        "  def true_line(x):\n",
        "    return w * x + b\n",
        "\n",
        "  y = true_line(x)\n",
        "\n",
        "  plt.plot(x, y, 'c')\n",
        "\n",
        "  weights = model.layers[0].get_weights()[0]\n",
        "  bias = model.layers[0].get_weights()[1]\n",
        "\n",
        "  x2 = data\n",
        "\n",
        "  def model_line(x ,w ,b):\n",
        "    return -1 * (w[0] * x + b) / w[1]\n",
        "  y = model_line(x, weights, bias)\n",
        "  \n",
        "  plt.plot(x, y, 'm')\n",
        "\n",
        "  plt.xlabel(\"$x_1$\", fontsize=18)\n",
        "  plt.ylabel(\"$x_2$\", rotation=0, fontsize=18)\n",
        "  plt.axis([0, 1, -15, 15])\n",
        "  plt.show()\n",
        "\n",
        "  display_data(labels, data, w, b)"
      ],
      "execution_count": 0,
      "outputs": []
    }
  ]
}