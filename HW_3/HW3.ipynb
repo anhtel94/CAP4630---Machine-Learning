{
  "nbformat": 4,
  "nbformat_minor": 0,
  "metadata": {
    "colab": {
      "name": "HW3.ipynb",
      "provenance": [],
      "collapsed_sections": [],
      "authorship_tag": "ABX9TyPhuZjnO+s49ZZAxuXCfYoA",
      "include_colab_link": true
    },
    "kernelspec": {
      "name": "python3",
      "display_name": "Python 3"
    }
  },
  "cells": [
    {
      "cell_type": "markdown",
      "metadata": {
        "id": "view-in-github",
        "colab_type": "text"
      },
      "source": [
        "<a href=\"https://colab.research.google.com/github/anhtel94/CAP4630---Machine-Learning/blob/master/HW_3/HW3.ipynb\" target=\"_parent\"><img src=\"https://colab.research.google.com/assets/colab-badge.svg\" alt=\"Open In Colab\"/></a>"
      ]
    },
    {
      "cell_type": "markdown",
      "metadata": {
        "id": "vJ0d2R9G0hzQ",
        "colab_type": "text"
      },
      "source": [
        "**Problem 1**"
      ]
    },
    {
      "cell_type": "markdown",
      "metadata": {
        "id": "IawPlvscAYF0",
        "colab_type": "text"
      },
      "source": [
        "Imports\n",
        "\n"
      ]
    },
    {
      "cell_type": "code",
      "metadata": {
        "id": "RGEFCDBp_8e7",
        "colab_type": "code",
        "colab": {}
      },
      "source": [
        "from tensorflow import keras\n",
        "from keras.models import Sequential\n",
        "from keras.layers import Dense\n",
        "from keras.regularizers import L1L2\n",
        "import random\n",
        "import numpy as np\n",
        "%matplotlib inline\n",
        "import matplotlib as mpl\n",
        "import matplotlib.pyplot as plt"
      ],
      "execution_count": 0,
      "outputs": []
    },
    {
      "cell_type": "code",
      "metadata": {
        "id": "5_PXMKmXNTkp",
        "colab_type": "code",
        "colab": {}
      },
      "source": [
        "def get_random_data(w, b, mu, sigma, m):\n",
        "  data = np.random.rand(m, 2)\n",
        "  labels = np.random.randint(2, size=(m, 1))\n",
        "\n",
        "  samples = np.random.default_rng().normal(mu, sigma, 1000)\n",
        "\n",
        "  for d, l, s in zip(data, labels, samples):\n",
        "    if(l[0]):\n",
        "      d[1] = w * d[0] + b + -1 * s\n",
        "    else:\n",
        "      d[1] = w * d[0] + b + s\n",
        "\n",
        "  ##print(labels, data)\n",
        "  return labels, data\n",
        "\n",
        "  "
      ],
      "execution_count": 0,
      "outputs": []
    },
    {
      "cell_type": "code",
      "metadata": {
        "id": "JLXws7NePF26",
        "colab_type": "code",
        "colab": {}
      },
      "source": [
        "def display_random_data(labels, data):\n",
        "  for label, d in zip(labels, data):\n",
        "    if(label):\n",
        "      plt.plot(d[0], d[1], \"r.\")\n",
        "    else:\n",
        "      plt.plot(d[0], d[1], \"b.\")\n",
        "\n",
        "  plt.xlabel(\"$x_1$\", fontsize=18)\n",
        "  plt.ylabel(\"$x_2$\", rotation=0, fontsize=18)\n",
        "  plt.axis([0, 1, -15, 15])\n",
        "  plt.show()"
      ],
      "execution_count": 0,
      "outputs": []
    },
    {
      "cell_type": "code",
      "metadata": {
        "id": "Y5hbiG_Ra7GF",
        "colab_type": "code",
        "colab": {}
      },
      "source": [
        "## Constant for generate random data\n",
        "w = 15\n",
        "b = -8\n",
        "mu = 2\n",
        "sigma = 1\n",
        "m = 100"
      ],
      "execution_count": 0,
      "outputs": []
    },
    {
      "cell_type": "code",
      "metadata": {
        "id": "NMgKMV9eUx8r",
        "colab_type": "code",
        "outputId": "261b4458-f0e8-4e22-aaf5-8abbe5809a1c",
        "colab": {
          "base_uri": "https://localhost:8080/",
          "height": 291
        }
      },
      "source": [
        "## Generate random data\n",
        "labels, data = get_random_data(w, b, mu, sigma, m)\n",
        "\n",
        "## Display scatter plot\n",
        "display_random_data(labels, data)"
      ],
      "execution_count": 340,
      "outputs": [
        {
          "output_type": "display_data",
          "data": {
            "image/png": "[encoded data removed]",
            "text/plain": [
              "<Figure size 432x288 with 1 Axes>"
            ]
          },
          "metadata": {
            "tags": [],
            "needs_background": "light"
          }
        }
      ]
    },
    {
      "cell_type": "code",
      "metadata": {
        "id": "B130QbEE2Iu9",
        "colab_type": "code",
        "colab": {}
      },
      "source": [
        "from sklearn.model_selection import train_test_split\n",
        "\n",
        "train_data, test_data, train_labels, test_labels = train_test_split(data, labels, train_size=0.8, test_size=0.2)"
      ],
      "execution_count": 0,
      "outputs": []
    },
    {
      "cell_type": "markdown",
      "metadata": {
        "id": "prBxPKIO0cHZ",
        "colab_type": "text"
      },
      "source": [
        "**Problem 2**"
      ]
    },
    {
      "cell_type": "code",
      "metadata": {
        "id": "Mcc4MNXk1DHp",
        "colab_type": "code",
        "colab": {}
      },
      "source": [
        "from tensorflow.keras import models\n",
        "from tensorflow.keras import layers"
      ],
      "execution_count": 0,
      "outputs": []
    },
    {
      "cell_type": "code",
      "metadata": {
        "id": "SkSrLRnS0ndZ",
        "colab_type": "code",
        "outputId": "94fcf51c-a67f-4fa3-b8ca-52db7f09f6d2",
        "colab": {
          "base_uri": "https://localhost:8080/",
          "height": 734
        }
      },
      "source": [
        "model = models.Sequential()\n",
        "model.add(layers.Dense(train_labels.shape[1],\n",
        "                activation='relu',\n",
        "                kernel_regularizer=L1L2(l1=0.0,l2=0.1),\n",
        "                input_dim=(train_data.shape[1])))\n",
        "model.compile(optimizer='sgd',\n",
        "              loss='binary_crossentropy',\n",
        "              metrics=['accuracy'])\n",
        "model.fit(train_data, train_labels, epochs=20, batch_size=8,\n",
        "          validation_data=(test_data,test_labels), verbos=1)"
      ],
      "execution_count": 343,
      "outputs": [
        {
          "output_type": "stream",
          "text": [
            "Epoch 1/20\n",
            "10/10 [==============================] - 0s 12ms/step - loss: 9.0454 - accuracy: 0.3875 - val_loss: 10.5354 - val_accuracy: 0.3000\n",
            "Epoch 2/20\n",
            "10/10 [==============================] - 0s 5ms/step - loss: 8.8385 - accuracy: 0.3875 - val_loss: 10.0350 - val_accuracy: 0.3000\n",
            "Epoch 3/20\n",
            "10/10 [==============================] - 0s 5ms/step - loss: 8.6542 - accuracy: 0.3875 - val_loss: 9.9377 - val_accuracy: 0.3000\n",
            "Epoch 4/20\n",
            "10/10 [==============================] - 0s 4ms/step - loss: 8.2958 - accuracy: 0.3875 - val_loss: 9.8802 - val_accuracy: 0.3000\n",
            "Epoch 5/20\n",
            "10/10 [==============================] - 0s 5ms/step - loss: 6.5230 - accuracy: 0.4125 - val_loss: 1.0516 - val_accuracy: 0.8500\n",
            "Epoch 6/20\n",
            "10/10 [==============================] - 0s 4ms/step - loss: 1.2748 - accuracy: 0.5625 - val_loss: 0.9953 - val_accuracy: 0.8000\n",
            "Epoch 7/20\n",
            "10/10 [==============================] - 0s 4ms/step - loss: 0.9477 - accuracy: 0.8000 - val_loss: 0.4106 - val_accuracy: 0.8500\n",
            "Epoch 8/20\n",
            "10/10 [==============================] - 0s 4ms/step - loss: 0.5849 - accuracy: 0.7875 - val_loss: 0.4144 - val_accuracy: 0.8000\n",
            "Epoch 9/20\n",
            "10/10 [==============================] - 0s 5ms/step - loss: 0.5192 - accuracy: 0.7750 - val_loss: 0.4715 - val_accuracy: 0.9000\n",
            "Epoch 10/20\n",
            "10/10 [==============================] - 0s 4ms/step - loss: 0.5170 - accuracy: 0.8000 - val_loss: 0.4229 - val_accuracy: 0.8000\n",
            "Epoch 11/20\n",
            "10/10 [==============================] - 0s 6ms/step - loss: 0.5086 - accuracy: 0.8250 - val_loss: 0.4279 - val_accuracy: 0.7500\n",
            "Epoch 12/20\n",
            "10/10 [==============================] - 0s 4ms/step - loss: 0.5128 - accuracy: 0.8125 - val_loss: 0.4778 - val_accuracy: 0.8000\n",
            "Epoch 13/20\n",
            "10/10 [==============================] - 0s 5ms/step - loss: 0.5019 - accuracy: 0.8125 - val_loss: 0.5242 - val_accuracy: 0.9500\n",
            "Epoch 14/20\n",
            "10/10 [==============================] - 0s 4ms/step - loss: 0.5455 - accuracy: 0.8375 - val_loss: 0.4562 - val_accuracy: 0.7500\n",
            "Epoch 15/20\n",
            "10/10 [==============================] - 0s 5ms/step - loss: 0.4997 - accuracy: 0.8000 - val_loss: 0.4590 - val_accuracy: 0.7500\n",
            "Epoch 16/20\n",
            "10/10 [==============================] - 0s 4ms/step - loss: 0.4975 - accuracy: 0.8000 - val_loss: 0.4353 - val_accuracy: 0.8500\n",
            "Epoch 17/20\n",
            "10/10 [==============================] - 0s 4ms/step - loss: 0.5028 - accuracy: 0.8125 - val_loss: 0.4408 - val_accuracy: 0.8500\n",
            "Epoch 18/20\n",
            "10/10 [==============================] - 0s 4ms/step - loss: 0.5147 - accuracy: 0.8500 - val_loss: 0.5027 - val_accuracy: 0.8000\n",
            "Epoch 19/20\n",
            "10/10 [==============================] - 0s 4ms/step - loss: 0.5092 - accuracy: 0.8125 - val_loss: 0.4421 - val_accuracy: 0.7500\n",
            "Epoch 20/20\n",
            "10/10 [==============================] - 0s 5ms/step - loss: 0.5175 - accuracy: 0.8125 - val_loss: 1.5961 - val_accuracy: 0.7500\n"
          ],
          "name": "stdout"
        },
        {
          "output_type": "execute_result",
          "data": {
            "text/plain": [
              "<tensorflow.python.keras.callbacks.History at 0x7f6fe2f00780>"
            ]
          },
          "metadata": {
            "tags": []
          },
          "execution_count": 343
        }
      ]
    },
    {
      "cell_type": "code",
      "metadata": {
        "id": "Jxv5scM43yZY",
        "colab_type": "code",
        "outputId": "9cbbd3ac-3756-44fe-e69b-d45175ead9ca",
        "colab": {
          "base_uri": "https://localhost:8080/",
          "height": 34
        }
      },
      "source": [
        "accuracy, loss = model.evaluate(test_data, test_labels, verbose=2)"
      ],
      "execution_count": 344,
      "outputs": [
        {
          "output_type": "stream",
          "text": [
            "1/1 - 0s - loss: 1.8893 - accuracy: 0.7500\n"
          ],
          "name": "stdout"
        }
      ]
    },
    {
      "cell_type": "code",
      "metadata": {
        "id": "eh9vsvOK23Ng",
        "colab_type": "code",
        "colab": {}
      },
      "source": [
        "def display_data(labels, data, w, b):\n",
        "  for label, d in zip(labels, data):\n",
        "    if(label):\n",
        "      plt.plot(d[0], d[1], \"r.\")\n",
        "    else:\n",
        "      plt.plot(d[0], d[1], \"b.\")\n",
        "\n",
        "  x = np.array(np.arange(0, 1.1, 0.1))\n",
        "  def true_line(x):\n",
        "    return w * x + b\n",
        "\n",
        "  y = true_line(x)\n",
        "\n",
        "  plt.plot(x, y, 'c')\n",
        "\n",
        "  w = model.layers[0].get_weights()[0]\n",
        "  b = model.layers[0].get_weights()[1]\n",
        "\n",
        "  def model_line(x ,w ,b):\n",
        "    return -1 * (w[0] * x + b) / w[1]\n",
        "  y = model_line(x, w, b)\n",
        "  \n",
        "  plt.plot(x, y, 'm')\n",
        "\n",
        "  plt.xlabel(\"$x_1$\", fontsize=18)\n",
        "  plt.ylabel(\"$x_2$\", rotation=0, fontsize=18)\n",
        "  plt.axis([0, 1, -15, 15])\n",
        "  plt.show()"
      ],
      "execution_count": 0,
      "outputs": []
    },
    {
      "cell_type": "code",
      "metadata": {
        "id": "5HcjFcl77ljT",
        "colab_type": "code",
        "outputId": "a889492f-fc60-4649-cc2d-6310b73bb602",
        "colab": {
          "base_uri": "https://localhost:8080/",
          "height": 291
        }
      },
      "source": [
        "display_data(labels, data, w, b)"
      ],
      "execution_count": 346,
      "outputs": [
        {
          "output_type": "display_data",
          "data": {
            "image/png": "[encoded data removed]",
            "text/plain": [
              "<Figure size 432x288 with 1 Axes>"
            ]
          },
          "metadata": {
            "tags": [],
            "needs_background": "light"
          }
        }
      ]
    }
  ]
}