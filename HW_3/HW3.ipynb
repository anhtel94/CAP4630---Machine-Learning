{
  "nbformat": 4,
  "nbformat_minor": 0,
  "metadata": {
    "colab": {
      "name": "HW3.ipynb",
      "provenance": [],
      "collapsed_sections": [],
      "authorship_tag": "ABX9TyNrn8sNasDP6pdMtK42R1x5",
      "include_colab_link": true
    },
    "kernelspec": {
      "name": "python3",
      "display_name": "Python 3"
    }
  },
  "cells": [
    {
      "cell_type": "markdown",
      "metadata": {
        "id": "view-in-github",
        "colab_type": "text"
      },
      "source": [
        "<a href=\"https://colab.research.google.com/github/anhtel94/CAP4630---Machine-Learning/blob/master/HW_3/HW3.ipynb\" target=\"_parent\"><img src=\"https://colab.research.google.com/assets/colab-badge.svg\" alt=\"Open In Colab\"/></a>"
      ]
    },
    {
      "cell_type": "markdown",
      "metadata": {
        "id": "vJ0d2R9G0hzQ",
        "colab_type": "text"
      },
      "source": [
        "**Problem 1**"
      ]
    },
    {
      "cell_type": "markdown",
      "metadata": {
        "id": "IawPlvscAYF0",
        "colab_type": "text"
      },
      "source": [
        "Imports\n",
        "\n"
      ]
    },
    {
      "cell_type": "code",
      "metadata": {
        "id": "RGEFCDBp_8e7",
        "colab_type": "code",
        "colab": {}
      },
      "source": [
        "from tensorflow import keras\n",
        "from keras.models import Sequential\n",
        "from keras.layers import Dense\n",
        "from keras.regularizers import L1L2\n",
        "import random\n",
        "import numpy as np\n",
        "%matplotlib inline\n",
        "import matplotlib as mpl\n",
        "import matplotlib.pyplot as plt"
      ],
      "execution_count": 0,
      "outputs": []
    },
    {
      "cell_type": "code",
      "metadata": {
        "id": "5_PXMKmXNTkp",
        "colab_type": "code",
        "colab": {}
      },
      "source": [
        "def get_random_data(w, b, mu, sigma, m):\n",
        "  data = np.random.rand(m, 2)\n",
        "  labels = np.random.randint(2, size=(m, 1))\n",
        "\n",
        "  samples = np.random.default_rng().normal(mu, sigma, 1000)\n",
        "\n",
        "  for d, l, s in zip(data, labels, samples):\n",
        "    if(l[0]):\n",
        "      d[1] = w * d[0] + b + -1 * s\n",
        "    else:\n",
        "      d[1] = w * d[0] + b + s\n",
        "\n",
        "  ##print(labels, data)\n",
        "  return labels, data\n",
        "\n",
        "  "
      ],
      "execution_count": 0,
      "outputs": []
    },
    {
      "cell_type": "code",
      "metadata": {
        "id": "JLXws7NePF26",
        "colab_type": "code",
        "colab": {}
      },
      "source": [
        "def display_random_data(labels, data):\n",
        "  for label, d in zip(labels, data):\n",
        "    if(label):\n",
        "      plt.plot(d[0], d[1], \"r.\")\n",
        "    else:\n",
        "      plt.plot(d[0], d[1], \"b.\")\n",
        "\n",
        "  plt.xlabel(\"$x_1$\", fontsize=18)\n",
        "  plt.ylabel(\"$x_2$\", rotation=0, fontsize=18)\n",
        "  plt.axis([0, 1, -15, 15])\n",
        "  plt.show()"
      ],
      "execution_count": 0,
      "outputs": []
    },
    {
      "cell_type": "code",
      "metadata": {
        "id": "Y5hbiG_Ra7GF",
        "colab_type": "code",
        "colab": {}
      },
      "source": [
        "## Constant for generate random data\n",
        "w = 15\n",
        "b = -8\n",
        "mu = 2\n",
        "sigma = 1\n",
        "m = 100"
      ],
      "execution_count": 0,
      "outputs": []
    },
    {
      "cell_type": "code",
      "metadata": {
        "id": "NMgKMV9eUx8r",
        "colab_type": "code",
        "outputId": "eb4b4aac-20b3-4ffc-df45-6ac809432978",
        "colab": {
          "base_uri": "https://localhost:8080/",
          "height": 291
        }
      },
      "source": [
        "## Generate random data\n",
        "labels, data = get_random_data(w, b, mu, sigma, m)\n",
        "\n",
        "## Display scatter plot\n",
        "display_random_data(labels, data)"
      ],
      "execution_count": 351,
      "outputs": [
        {
          "output_type": "display_data",
          "data": {
            "image/png": "[encoded data removed]",
            "text/plain": [
              "<Figure size 432x288 with 1 Axes>"
            ]
          },
          "metadata": {
            "tags": [],
            "needs_background": "light"
          }
        }
      ]
    },
    {
      "cell_type": "code",
      "metadata": {
        "id": "B130QbEE2Iu9",
        "colab_type": "code",
        "colab": {}
      },
      "source": [
        "from sklearn.model_selection import train_test_split\n",
        "\n",
        "train_data, test_data, train_labels, test_labels = train_test_split(data, labels, train_size=0.8, test_size=0.2)"
      ],
      "execution_count": 0,
      "outputs": []
    },
    {
      "cell_type": "markdown",
      "metadata": {
        "id": "prBxPKIO0cHZ",
        "colab_type": "text"
      },
      "source": [
        "**Problem 2**"
      ]
    },
    {
      "cell_type": "code",
      "metadata": {
        "id": "Mcc4MNXk1DHp",
        "colab_type": "code",
        "colab": {}
      },
      "source": [
        "from tensorflow.keras import models\n",
        "from tensorflow.keras import layers"
      ],
      "execution_count": 0,
      "outputs": []
    },
    {
      "cell_type": "code",
      "metadata": {
        "id": "SkSrLRnS0ndZ",
        "colab_type": "code",
        "outputId": "a3f6300b-cf8b-4ccc-b650-4c2ef5dbf869",
        "colab": {
          "base_uri": "https://localhost:8080/",
          "height": 734
        }
      },
      "source": [
        "model = models.Sequential()\n",
        "model.add(layers.Dense(train_labels.shape[1],\n",
        "                activation='relu',\n",
        "                kernel_regularizer=L1L2(l1=0.0,l2=0.1),\n",
        "                input_dim=(train_data.shape[1])))\n",
        "model.compile(optimizer='sgd',\n",
        "              loss='binary_crossentropy',\n",
        "              metrics=['accuracy'])\n",
        "model.fit(train_data, train_labels, epochs=20, batch_size=8,\n",
        "          validation_data=(test_data,test_labels), verbos=1)"
      ],
      "execution_count": 354,
      "outputs": [
        {
          "output_type": "stream",
          "text": [
            "Epoch 1/20\n",
            "10/10 [==============================] - 0s 11ms/step - loss: 7.6255 - accuracy: 0.4750 - val_loss: 9.0136 - val_accuracy: 0.4500\n",
            "Epoch 2/20\n",
            "10/10 [==============================] - 0s 4ms/step - loss: 7.5351 - accuracy: 0.5125 - val_loss: 9.0130 - val_accuracy: 0.4500\n",
            "Epoch 3/20\n",
            "10/10 [==============================] - 0s 5ms/step - loss: 7.5345 - accuracy: 0.5125 - val_loss: 9.0124 - val_accuracy: 0.4500\n",
            "Epoch 4/20\n",
            "10/10 [==============================] - 0s 4ms/step - loss: 7.5340 - accuracy: 0.5125 - val_loss: 9.0119 - val_accuracy: 0.4500\n",
            "Epoch 5/20\n",
            "10/10 [==============================] - 0s 5ms/step - loss: 7.5334 - accuracy: 0.5125 - val_loss: 9.0113 - val_accuracy: 0.4500\n",
            "Epoch 6/20\n",
            "10/10 [==============================] - 0s 5ms/step - loss: 7.5329 - accuracy: 0.5125 - val_loss: 9.0108 - val_accuracy: 0.4500\n",
            "Epoch 7/20\n",
            "10/10 [==============================] - 0s 4ms/step - loss: 7.5323 - accuracy: 0.5125 - val_loss: 9.0103 - val_accuracy: 0.4500\n",
            "Epoch 8/20\n",
            "10/10 [==============================] - 0s 4ms/step - loss: 7.5318 - accuracy: 0.5125 - val_loss: 9.0098 - val_accuracy: 0.4500\n",
            "Epoch 9/20\n",
            "10/10 [==============================] - 0s 5ms/step - loss: 7.5314 - accuracy: 0.5125 - val_loss: 9.0093 - val_accuracy: 0.4500\n",
            "Epoch 10/20\n",
            "10/10 [==============================] - 0s 4ms/step - loss: 7.5309 - accuracy: 0.5125 - val_loss: 9.0089 - val_accuracy: 0.4500\n",
            "Epoch 11/20\n",
            "10/10 [==============================] - 0s 5ms/step - loss: 7.5305 - accuracy: 0.5125 - val_loss: 9.0084 - val_accuracy: 0.4500\n",
            "Epoch 12/20\n",
            "10/10 [==============================] - 0s 4ms/step - loss: 7.5300 - accuracy: 0.5125 - val_loss: 9.0080 - val_accuracy: 0.4500\n",
            "Epoch 13/20\n",
            "10/10 [==============================] - 0s 4ms/step - loss: 7.5296 - accuracy: 0.5125 - val_loss: 9.0076 - val_accuracy: 0.4500\n",
            "Epoch 14/20\n",
            "10/10 [==============================] - 0s 5ms/step - loss: 7.5292 - accuracy: 0.5125 - val_loss: 9.0073 - val_accuracy: 0.4500\n",
            "Epoch 15/20\n",
            "10/10 [==============================] - 0s 4ms/step - loss: 7.5289 - accuracy: 0.5125 - val_loss: 9.0069 - val_accuracy: 0.4500\n",
            "Epoch 16/20\n",
            "10/10 [==============================] - 0s 4ms/step - loss: 7.5285 - accuracy: 0.5125 - val_loss: 9.0065 - val_accuracy: 0.4500\n",
            "Epoch 17/20\n",
            "10/10 [==============================] - 0s 4ms/step - loss: 7.5282 - accuracy: 0.5125 - val_loss: 9.0062 - val_accuracy: 0.4500\n",
            "Epoch 18/20\n",
            "10/10 [==============================] - 0s 4ms/step - loss: 7.5278 - accuracy: 0.5125 - val_loss: 9.0059 - val_accuracy: 0.4500\n",
            "Epoch 19/20\n",
            "10/10 [==============================] - 0s 4ms/step - loss: 7.5275 - accuracy: 0.5125 - val_loss: 9.0056 - val_accuracy: 0.4500\n",
            "Epoch 20/20\n",
            "10/10 [==============================] - 0s 5ms/step - loss: 7.5272 - accuracy: 0.5125 - val_loss: 9.0053 - val_accuracy: 0.4500\n"
          ],
          "name": "stdout"
        },
        {
          "output_type": "execute_result",
          "data": {
            "text/plain": [
              "<tensorflow.python.keras.callbacks.History at 0x7f6fcc622048>"
            ]
          },
          "metadata": {
            "tags": []
          },
          "execution_count": 354
        }
      ]
    },
    {
      "cell_type": "code",
      "metadata": {
        "id": "Jxv5scM43yZY",
        "colab_type": "code",
        "outputId": "c72ae1d2-404b-48a0-b3bd-9c75a7e8f892",
        "colab": {
          "base_uri": "https://localhost:8080/",
          "height": 34
        }
      },
      "source": [
        "accuracy, loss = model.evaluate(test_data, test_labels, verbose=2)"
      ],
      "execution_count": 355,
      "outputs": [
        {
          "output_type": "stream",
          "text": [
            "1/1 - 0s - loss: 8.4911 - accuracy: 0.4500\n"
          ],
          "name": "stdout"
        }
      ]
    },
    {
      "cell_type": "code",
      "metadata": {
        "id": "eh9vsvOK23Ng",
        "colab_type": "code",
        "colab": {}
      },
      "source": [
        "def display_data(labels, data, w, b):\n",
        "  for label, d in zip(labels, data):\n",
        "    if(label):\n",
        "      plt.plot(d[0], d[1], \"r.\")\n",
        "    else:\n",
        "      plt.plot(d[0], d[1], \"b.\")\n",
        "\n",
        "  x = np.array(np.arange(0, 1.1, 0.1))\n",
        "  def true_line(x):\n",
        "    return w * x + b\n",
        "\n",
        "  y = true_line(x)\n",
        "\n",
        "  plt.plot(x, y, 'c')\n",
        "\n",
        "  w = model.layers[0].get_weights()[0]\n",
        "  b = model.layers[0].get_weights()[1]\n",
        "\n",
        "  def model_line(x ,w ,b):\n",
        "    return -1 * (w[0] * x + b) / w[1]\n",
        "  y = model_line(x, w, b)\n",
        "  \n",
        "  plt.plot(x, y, 'm')\n",
        "\n",
        "  plt.xlabel(\"$x_1$\", fontsize=18)\n",
        "  plt.ylabel(\"$x_2$\", rotation=0, fontsize=18)\n",
        "  plt.axis([0, 1, -15, 15])\n",
        "  plt.show()"
      ],
      "execution_count": 0,
      "outputs": []
    },
    {
      "cell_type": "code",
      "metadata": {
        "id": "5HcjFcl77ljT",
        "colab_type": "code",
        "outputId": "00f694b0-cad2-435e-def2-b26a758ff6b1",
        "colab": {
          "base_uri": "https://localhost:8080/",
          "height": 291
        }
      },
      "source": [
        "display_data(labels, data, w, b)"
      ],
      "execution_count": 357,
      "outputs": [
        {
          "output_type": "display_data",
          "data": {
            "image/png": "[encoded data removed]",
            "text/plain": [
              "<Figure size 432x288 with 1 Axes>"
            ]
          },
          "metadata": {
            "tags": [],
            "needs_background": "light"
          }
        }
      ]
    },
    {
      "cell_type": "markdown",
      "metadata": {
        "id": "L7n1PcUiIVi-",
        "colab_type": "text"
      },
      "source": [
        "**Problem 3**"
      ]
    },
    {
      "cell_type": "code",
      "metadata": {
        "id": "NVx9QTZXPwJt",
        "colab_type": "code",
        "colab": {}
      },
      "source": [
        "from sklearn.datasets import load_iris"
      ],
      "execution_count": 0,
      "outputs": []
    },
    {
      "cell_type": "code",
      "metadata": {
        "id": "nn2wmfppIafm",
        "colab_type": "code",
        "colab": {}
      },
      "source": [
        "epochs = 20\n",
        "learning_rate = 0.01"
      ],
      "execution_count": 0,
      "outputs": []
    },
    {
      "cell_type": "code",
      "metadata": {
        "id": "WXDWBnBvK7nk",
        "colab_type": "code",
        "colab": {
          "base_uri": "https://localhost:8080/",
          "height": 287
        },
        "outputId": "eebbaf43-adf4-4b15-ffda-ce11febf0328"
      },
      "source": [
        "\n",
        "for label, d in zip(labels, data):\n",
        "    if(label):\n",
        "      plt.plot(d[0], d[1], \"r.\")\n",
        "    else:\n",
        "      plt.plot(d[0], d[1], \"b.\")\n",
        "\n",
        "\n",
        "\n",
        "\n",
        "\n",
        "plt.xlabel(\"$x_1$\", fontsize=18)\n",
        "plt.ylabel(\"$y$\", rotation=0, fontsize=18)\n",
        "plt.axis([0, 2, 0, 15])\n",
        "plt.show()"
      ],
      "execution_count": 368,
      "outputs": [
        {
          "output_type": "display_data",
          "data": {
            "image/png": "[encoded data removed]",
            "text/plain": [
              "<Figure size 432x288 with 1 Axes>"
            ]
          },
          "metadata": {
            "tags": [],
            "needs_background": "light"
          }
        }
      ]
    }
  ]
}