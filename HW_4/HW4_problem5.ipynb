{
  "nbformat": 4,
  "nbformat_minor": 0,
  "metadata": {
    "colab": {
      "name": "HW4_problem5.ipynb",
      "provenance": [],
      "collapsed_sections": [],
      "authorship_tag": "ABX9TyPlZDF/PYZLavcNN3Hxs6zo",
      "include_colab_link": true
    },
    "kernelspec": {
      "name": "python3",
      "display_name": "Python 3"
    }
  },
  "cells": [
    {
      "cell_type": "markdown",
      "metadata": {
        "id": "view-in-github",
        "colab_type": "text"
      },
      "source": [
        "<a href=\"https://colab.research.google.com/github/anhtel94/CAP4630---Machine-Learning/blob/master/HW_4/HW4_problem5.ipynb\" target=\"_parent\"><img src=\"https://colab.research.google.com/assets/colab-badge.svg\" alt=\"Open In Colab\"/></a>"
      ]
    },
    {
      "cell_type": "markdown",
      "metadata": {
        "id": "5ngaFbNj9xCH",
        "colab_type": "text"
      },
      "source": [
        "# **Problem 5**"
      ]
    },
    {
      "cell_type": "markdown",
      "metadata": {
        "id": "fTwKIrcJ-Epk",
        "colab_type": "text"
      },
      "source": [
        "# **1. General concepts**"
      ]
    },
    {
      "cell_type": "markdown",
      "metadata": {
        "id": "CD648zih-K2A",
        "colab_type": "text"
      },
      "source": [
        "**Artificial intelligence** is a concept defined in serveral ways by serveral people, but John McCarthy's definition is the most encompassing one, which is \"the science and engineering of making intelligent machines\"."
      ]
    },
    {
      "cell_type": "markdown",
      "metadata": {
        "id": "WlYiGz2z_mFa",
        "colab_type": "text"
      },
      "source": [
        "Another way to define the study of AI is that it is the study of designing computer systems that able to perform tasks that traditional programming virtually unable to emulate but human intelligence is good at."
      ]
    },
    {
      "cell_type": "markdown",
      "metadata": {
        "id": "dQl2WO1EA1c2",
        "colab_type": "text"
      },
      "source": [
        "**Machine Learning** is one component of AI. According to Arthur Samuel, it is a study field that allow computers to have ability learning without being explicitly programmed. The purposes of ML is to design programs that adjust their output data in respone to a given set of input data, like human's ability of learning over their lifetimes. These kind of programs are usually more flexible than regular program that designed by people programmers, they able to change themselves over the data they generated and thus create possible solitions to solve problems of AI."
      ]
    },
    {
      "cell_type": "markdown",
      "metadata": {
        "id": "ddavBV_Vd3LR",
        "colab_type": "text"
      },
      "source": [
        "**Deep Learning** is a component of ML. This is a field that breaking up an algorithm into sereral layers, each layer can handle different part of the process."
      ]
    },
    {
      "cell_type": "markdown",
      "metadata": {
        "id": "Ax080BwngNvo",
        "colab_type": "text"
      },
      "source": [
        "# **2. Basic Concepts**"
      ]
    },
    {
      "cell_type": "markdown",
      "metadata": {
        "id": "EGL2osPkgVTK",
        "colab_type": "text"
      },
      "source": [
        "**Linear regression** is a statistical tool that approach to modeling the relationship between a dependent variable and one or more independent variables."
      ]
    },
    {
      "cell_type": "markdown",
      "metadata": {
        "id": "e9cvg6TTj9Of",
        "colab_type": "text"
      },
      "source": [
        "**Logistic regression** is a statistical model that used to model the probability of a certain class or event existing such as pass/fail, win/lose, alive/dead or healthy/sick. It also can be extended to model several classes of events such as determining an image contains animals"
      ]
    },
    {
      "cell_type": "markdown",
      "metadata": {
        "id": "KlkiZb6Dp9z0",
        "colab_type": "text"
      },
      "source": [
        "**Gradient** of a function is the collection of all its partial derivatives into a vector. The gradient vector's direction is equal to the direction of fastest increase of f, and the rate of increasing in that direction equal to the gradient vector's magnitude."
      ]
    },
    {
      "cell_type": "markdown",
      "metadata": {
        "id": "PcyWhr_hr8tt",
        "colab_type": "text"
      },
      "source": [
        "**Gradient descent** is an algorithm for finding local minimum of a differentiable function. It can be computationally expensive. To reduce this, dataset can be broken down into smaller batches, which approaching same amount of accuracy with less computing over iterations."
      ]
    },
    {
      "cell_type": "markdown",
      "metadata": {
        "id": "-9Cn3mbqtPe0",
        "colab_type": "text"
      },
      "source": [
        "# **3. Building a model**"
      ]
    },
    {
      "cell_type": "markdown",
      "metadata": {
        "id": "zcPctVF9tUDh",
        "colab_type": "text"
      },
      "source": [
        "Keras model consists of sereral types of layers for different use cases:"
      ]
    },
    {
      "cell_type": "markdown",
      "metadata": {
        "id": "m5qiquDet_zh",
        "colab_type": "text"
      },
      "source": [
        "**Convolutional layers (Conv2D)**"
      ]
    },
    {
      "cell_type": "markdown",
      "metadata": {
        "id": "5ryfDzGwuLP7",
        "colab_type": "text"
      },
      "source": [
        "These layers usually process image data, which stored in 4D tensors. They perform a convolution operation that applying a filter on the input matrix to create an appropriate output matrix. This output must be flattened before being passed to different layers."
      ]
    },
    {
      "cell_type": "markdown",
      "metadata": {
        "id": "272VRTT9xDvb",
        "colab_type": "text"
      },
      "source": [
        "**Fully connected layers (Dense)**"
      ]
    },
    {
      "cell_type": "markdown",
      "metadata": {
        "id": "mLPbIRKxxMIm",
        "colab_type": "text"
      },
      "source": [
        "These layers consist of simple vector data, which stored in 2D tensors of shape (samples, features) and of often processed by densely connected layers."
      ]
    },
    {
      "cell_type": "markdown",
      "metadata": {
        "id": "Y1MplZoY1A_M",
        "colab_type": "text"
      },
      "source": [
        "**Recurrent layers**"
      ]
    },
    {
      "cell_type": "markdown",
      "metadata": {
        "id": "hMgUS11L1rg2",
        "colab_type": "text"
      },
      "source": [
        "These layers typically processed sequence data, which store in 3D tensors of shape (samples, timesteps, features)."
      ]
    },
    {
      "cell_type": "code",
      "metadata": {
        "id": "BUiVM_Mq9YvC",
        "colab_type": "code",
        "colab": {}
      },
      "source": [
        "# Example with a convolution layer and two fully connected layers\n",
        "\n",
        "# Create the model\n",
        "model = models.Sequential()\n",
        "\n",
        "# Add convolution layer and flatten its output\n",
        "model.add(Conv2D)\n",
        "model.add(layers.Flatten())\n",
        "\n",
        "# Add 2 fully connected layers with output of 256 and ReLU activation function,\n",
        "# and 10 and sigmoid activation function\n",
        "model.add(layers.Dense(256, activation='relu'))\n",
        "model.add(layers.Dense(10, activation='sigmoid'))"
      ],
      "execution_count": 0,
      "outputs": []
    },
    {
      "cell_type": "markdown",
      "metadata": {
        "id": "8RiWXhPa375U",
        "colab_type": "text"
      },
      "source": [
        "# **4. Comping a model**"
      ]
    },
    {
      "cell_type": "markdown",
      "metadata": {
        "id": "K9TOkNe_4J9R",
        "colab_type": "text"
      },
      "source": [
        "Once the network architecture is defined, we have to choose a loss function and optimizer to use while training\n",
        "\n",
        "\n",
        "*   The loss function is the function that will be minimized during training. For supervised learning problems, it measures the deviation between the predicted value and the target for the training examples.\n",
        "*   The optimizer determines how the network will be updated based on the loss function. it implements a specific variant of stochastic gradient descent (SGD).\n",
        "*   Also choose a metric function used to judge the performance of the model.\n",
        "\n",
        "\n",
        "\n",
        "\n"
      ]
    },
    {
      "cell_type": "code",
      "metadata": {
        "id": "hlMHoNIK_LJ_",
        "colab_type": "code",
        "colab": {}
      },
      "source": [
        "network.compile(optimizer='rmsprop'\n",
        "                loss='categorical_crossentropy'\n",
        "                metrics=['accuracy'])"
      ],
      "execution_count": 0,
      "outputs": []
    },
    {
      "cell_type": "markdown",
      "metadata": {
        "id": "V3gc5LniAgCP",
        "colab_type": "text"
      },
      "source": [
        "\n",
        "\n",
        "*   Choosing the right objective function for the right problem is extremely important. There are simple guidelines we can use to choose the correct loss for common problems such as classification, regression, and sequence prediction.\n"
      ]
    },
    {
      "cell_type": "markdown",
      "metadata": {
        "id": "BhLyn-hU_iY0",
        "colab_type": "text"
      },
      "source": [
        "| Problem type              | Last layer activation  | Loss function              | \n",
        "|:-:                        |:-:                     |:-:                         |\n",
        "| Binary classification     | sigmoid                | binary_crossentropy        |\n",
        "| Multiclass, single-label  | softmax                | categorical_crossentropy   |\n",
        "| Mutlticlass, multi-label  | sigmoid                | binary_crossentropy        |\n",
        "| Regression to real values | none                   | mse                        |\n",
        "| Regression to \\[0,1\\]     | sigmoid                | mse or binary_crossentropy |"
      ]
    },
    {
      "cell_type": "markdown",
      "metadata": {
        "id": "am29_rBWA56R",
        "colab_type": "text"
      },
      "source": [
        "# **5. Training a model**"
      ]
    },
    {
      "cell_type": "markdown",
      "metadata": {
        "id": "sAqNyw_RA-nr",
        "colab_type": "text"
      },
      "source": [
        "After comping a model, we pass the training data, validation data, number of epochs, steps, and other parameters into the fit() or fit_generator() function. Output generated by the functions will be stored into a \"history\" variable that allow us to examine the loss/accuracy curves when training is complete."
      ]
    },
    {
      "cell_type": "markdown",
      "metadata": {
        "id": "xUP8I2bCDPVq",
        "colab_type": "text"
      },
      "source": [
        "\n",
        "\n",
        "*   **Overfitting** is a problem in training that when model is only able to make correct predictions on the training dataset. but unable to generate predictions on data outside of that set. There are some methods that help overfitting: early stopping, dropout, data augmentation.\n",
        "*   **Underfitting** is problem when model not complex enough for the dataset it is analyzing. It is unable to train well enough the input dataset."
      ]
    },
    {
      "cell_type": "code",
      "metadata": {
        "id": "-8SPgwVtGn6n",
        "colab_type": "code",
        "colab": {}
      },
      "source": [
        "# Example for early stopping\n",
        "es = EarlyStopping(monitor='val_loss', mode='min', patience=50)\n",
        "cb_list = [cb, ...]"
      ],
      "execution_count": 0,
      "outputs": []
    },
    {
      "cell_type": "code",
      "metadata": {
        "id": "M1RjqFgHG0Sb",
        "colab_type": "code",
        "colab": {}
      },
      "source": [
        "# Example for dropout layer\n",
        "model.add(layers.Dropout(0.2))"
      ],
      "execution_count": 0,
      "outputs": []
    },
    {
      "cell_type": "code",
      "metadata": {
        "id": "FMPIuHTtHB1z",
        "colab_type": "code",
        "colab": {}
      },
      "source": [
        "# Example for data augmentation\n",
        "train_datagen = ImageDataGenerator(\n",
        "    rescale=1./255, \n",
        "    rotation_range=40,\n",
        "    width_shift_range=0.2,\n",
        "    height_shift_range=0.2,\n",
        "    shear_range=0.2,\n",
        "    zoom_range=0.2,\n",
        "    horizontal_flip=True,\n",
        "    fill_mode='nearest'\n",
        ")\n",
        "\n",
        "train_generator = train_datagen.flow_from_directory(\n",
        "    train_dir,\n",
        "    target_size=(150, 150),\n",
        "    batch_size=20,\n",
        "    class_mode='binary')\n",
        "\n",
        "validation_datagen = ImageDataGenerator(rescale=1./255)\n",
        "\n",
        "validation_generator = validation_datagen.flow_from_directory(\n",
        "    validation_dir,\n",
        "    target_size=(150, 150),\n",
        "    batch_size=20,\n",
        "    class_mode='binary')"
      ],
      "execution_count": 0,
      "outputs": []
    },
    {
      "cell_type": "code",
      "metadata": {
        "id": "C8cRpkL_HfHR",
        "colab_type": "code",
        "colab": {}
      },
      "source": [
        "# Training model with callback list created\n",
        "history = model.fit_generator(\n",
        "    train_generator,\n",
        "    steps_per_epoch=100,\n",
        "    epochs=30,\n",
        "    validation_data=validation_generator,\n",
        "    validation_steps=50\n",
        "    callbacks=cb_list\n",
        ")\n",
        "\n",
        "# Training without data augmentation\n",
        "history = model.fit(\n",
        "    training_data,\n",
        "    training_labels,\n",
        "    epochs=30,\n",
        "    batch_size = 128,\n",
        "    validation_data=(test_data, test_labels)\n",
        ")"
      ],
      "execution_count": 0,
      "outputs": []
    },
    {
      "cell_type": "markdown",
      "metadata": {
        "id": "UjIaReFQGdaM",
        "colab_type": "text"
      },
      "source": [
        "# **6. Finetuning a pretrained model**"
      ]
    },
    {
      "cell_type": "markdown",
      "metadata": {
        "id": "Z9Sa-NMnIgkv",
        "colab_type": "text"
      },
      "source": [
        "Before completeing training a model, we need to freeze the pretrained model from the training steps and only train what we add onto it."
      ]
    },
    {
      "cell_type": "code",
      "metadata": {
        "id": "Y0FgtANCXm_H",
        "colab_type": "code",
        "colab": {}
      },
      "source": [
        "from keras.applications import VGG16\n",
        "from keras import layers\n",
        "from keras import models\n",
        "from keras import optimizers\n",
        "\n",
        "conv_base = VGG16(\n",
        "    weights='imagenet', \n",
        "    include_top=False, \n",
        "    input_shape=(150, 150, 3))\n",
        "\n",
        "conv_base.trainable = False\n",
        "\n",
        "model = models.Sequential()\n",
        "model.add(conv_base)\n",
        "model.add(layers.Flatten())\n",
        "model.add(layers.Dense(256, activation='relu'))\n",
        "#model.add(layers.Dropout(0.1))\n",
        "model.add(layers.Dense(1, activation='sigmoid'))"
      ],
      "execution_count": 0,
      "outputs": []
    },
    {
      "cell_type": "markdown",
      "metadata": {
        "id": "47nDuxOiLXk8",
        "colab_type": "text"
      },
      "source": [
        "After training, we need to unfreeze some layers at the end of the pretrained model that can increase the accuracy of the model."
      ]
    },
    {
      "cell_type": "code",
      "metadata": {
        "id": "PwkVMx8N8qMw",
        "colab_type": "code",
        "colab": {}
      },
      "source": [
        "conv_base.trainable = True\n",
        "\n",
        "set_trainable = False\n",
        "for layer in conv_base.layers:\n",
        "  if layer.name == 'block5_conv1':\n",
        "    set_trainable = True\n",
        "  if set_trainable:\n",
        "    layer.trainable = True\n",
        "  else:\n",
        "    layer.trainable = False"
      ],
      "execution_count": 0,
      "outputs": []
    },
    {
      "cell_type": "markdown",
      "metadata": {
        "id": "pJusZJKrMQiq",
        "colab_type": "text"
      },
      "source": [
        "After fine-tuning, we can use a smaller learning rate to re-compile and re-train this model."
      ]
    },
    {
      "cell_type": "code",
      "metadata": {
        "id": "DyN-J7rs9cvo",
        "colab_type": "code",
        "colab": {}
      },
      "source": [
        "# compile model\n",
        "\n",
        "model.compile(\n",
        "    loss='binary_crossentropy',\n",
        "    #\n",
        "    # choose a smaller learning rate\n",
        "    #\n",
        "    optimizer=optimizers.RMSprop(lr=1e-5), \n",
        "    metrics=['acc'])\n",
        "\n",
        "# train\n",
        "\n",
        "history = model.fit_generator(\n",
        "    train_generator,\n",
        "    steps_per_epoch=100,\n",
        "    epochs=100,\n",
        "    validation_data=validation_generator,\n",
        "    validation_steps=50)"
      ],
      "execution_count": 0,
      "outputs": []
    },
    {
      "cell_type": "markdown",
      "metadata": {
        "id": "OBhjAH9nMllB",
        "colab_type": "text"
      },
      "source": [
        "**References**\n",
        "\n",
        "*   Professor's slide  \n",
        "  *   https://github.com/schneider128k/machine_learning_course/blob/master/slides/1_a_slides.pdf\n",
        "  *   https://github.com/schneider128k/machine_learning_course/blob/master/slides/2_e_slides.pdf\n",
        "  *   https://github.com/schneider128k/machine_learning_course/blob/master/keras_basics.md\n",
        "  *   https://colab.research.google.com/drive/1F-RWvoxH8MmT7c1UmNy41iuOp-ejiLoF#scrollTo=Fh6gZSeAjF7c\n",
        "\n",
        "*   Online sources\n",
        "  *   https://machinelearningmastery.com/how-to-stop-training-deep-neural-networks-at-the-right-time-using-early-stopping/\n",
        "  *   https://en.wikipedia.org/wiki/Linear_regression\n",
        "  *   https://en.wikipedia.org/wiki/Logistic_regression\n",
        "  *   https://en.wikipedia.org/wiki/Gradient_descent"
      ]
    }
  ]
}