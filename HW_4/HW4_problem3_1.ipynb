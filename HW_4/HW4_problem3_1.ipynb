{
  "nbformat": 4,
  "nbformat_minor": 0,
  "metadata": {
    "colab": {
      "name": "HW4-problem3-1.ipynb",
      "provenance": [],
      "collapsed_sections": [],
      "authorship_tag": "ABX9TyNkOn0tejiAajSsU5eUzplY",
      "include_colab_link": true
    },
    "kernelspec": {
      "name": "python3",
      "display_name": "Python 3"
    }
  },
  "cells": [
    {
      "cell_type": "markdown",
      "metadata": {
        "id": "view-in-github",
        "colab_type": "text"
      },
      "source": [
        "<a href=\"https://colab.research.google.com/github/anhtel94/CAP4630---Machine-Learning/blob/master/HW_4/HW4_problem3_1.ipynb\" target=\"_parent\"><img src=\"https://colab.research.google.com/assets/colab-badge.svg\" alt=\"Open In Colab\"/></a>"
      ]
    },
    {
      "cell_type": "markdown",
      "metadata": {
        "id": "KKCv0lc3ie4j",
        "colab_type": "text"
      },
      "source": [
        "**Download the data**"
      ]
    },
    {
      "cell_type": "markdown",
      "metadata": {
        "id": "t3I1jd7cKV6_",
        "colab_type": "text"
      },
      "source": [
        "Download the example data, a zip. of 2,000 JPG pictures of cats and dogs and extract it locally in ```/tmp```.\n",
        "\n"
      ]
    },
    {
      "cell_type": "code",
      "metadata": {
        "id": "JWjprHEXJ5Qi",
        "colab_type": "code",
        "outputId": "e114b72e-60ee-4269-d813-2ae80bcf10ac",
        "colab": {
          "base_uri": "https://localhost:8080/",
          "height": 204
        }
      },
      "source": [
        "!wget --no-check-certificate \\\n",
        "    https://storage.googleapis.com/mledu-datasets/cats_and_dogs_filtered.zip \\\n",
        "    -O /tmp/cats_and_dogs_filtered.zip"
      ],
      "execution_count": 10,
      "outputs": [
        {
          "output_type": "stream",
          "text": [
            "--2020-04-22 02:29:26--  https://storage.googleapis.com/mledu-datasets/cats_and_dogs_filtered.zip\n",
            "Resolving storage.googleapis.com (storage.googleapis.com)... 74.125.203.128, 2404:6800:4008:c03::80\n",
            "Connecting to storage.googleapis.com (storage.googleapis.com)|74.125.203.128|:443... connected.\n",
            "HTTP request sent, awaiting response... 200 OK\n",
            "Length: 68606236 (65M) [application/zip]\n",
            "Saving to: ‘/tmp/cats_and_dogs_filtered.zip’\n",
            "\n",
            "/tmp/cats_and_dogs_ 100%[===================>]  65.43M   156MB/s    in 0.4s    \n",
            "\n",
            "2020-04-22 02:29:27 (156 MB/s) - ‘/tmp/cats_and_dogs_filtered.zip’ saved [68606236/68606236]\n",
            "\n"
          ],
          "name": "stdout"
        }
      ]
    },
    {
      "cell_type": "code",
      "metadata": {
        "id": "WvoHtdA-K6Rw",
        "colab_type": "code",
        "colab": {}
      },
      "source": [
        "import os\n",
        "import zipfile\n",
        "\n",
        "local_zip = '/tmp/cats_and_dogs_filtered.zip'\n",
        "zip_ref = zipfile.ZipFile(local_zip, 'r')\n",
        "zip_ref.extractall('/tmp')\n",
        "zip_ref.close()"
      ],
      "execution_count": 0,
      "outputs": []
    },
    {
      "cell_type": "markdown",
      "metadata": {
        "id": "SxvUbVvejJHY",
        "colab_type": "text"
      },
      "source": [
        "Note that the data provided by Google does not have a test set."
      ]
    },
    {
      "cell_type": "code",
      "metadata": {
        "id": "dL8ikM89LlsH",
        "colab_type": "code",
        "colab": {}
      },
      "source": [
        "base_dir = '/tmp/cats_and_dogs_filtered'\n",
        "train_dir = os.path.join(base_dir, 'train')\n",
        "validation_dir = os.path.join(base_dir, 'validation')\n",
        "\n",
        "# Directory with our training cat pictures\n",
        "train_cats_dir = os.path.join(train_dir, 'cats')\n",
        "\n",
        "# Directory with our training dog pictures\n",
        "train_dogs_dir = os.path.join(train_dir, 'dogs')\n",
        "\n",
        "# Directory with our validation cat pictures\n",
        "validation_cats_dir = os.path.join(validation_dir, 'cats')\n",
        "\n",
        "# Directory with our validation dog pictures\n",
        "validation_dogs_dir = os.path.join(validation_dir, 'dogs')"
      ],
      "execution_count": 0,
      "outputs": []
    },
    {
      "cell_type": "markdown",
      "metadata": {
        "id": "inyP8bcdXnn-",
        "colab_type": "text"
      },
      "source": [
        "## Build network with pre-trained convolution base and custom densely connected layers"
      ]
    },
    {
      "cell_type": "markdown",
      "metadata": {
        "id": "jHknKUD_jb-7",
        "colab_type": "text"
      },
      "source": [
        "Using: ResNet50v2"
      ]
    },
    {
      "cell_type": "markdown",
      "metadata": {
        "id": "kQ48W5T9rHWu",
        "colab_type": "text"
      },
      "source": [
        "### Load the convolutional base"
      ]
    },
    {
      "cell_type": "code",
      "metadata": {
        "id": "Y0FgtANCXm_H",
        "colab_type": "code",
        "colab": {}
      },
      "source": [
        "from keras.applications import VGG16\n",
        "from keras.applications import ResNet50V2\n",
        "\n",
        "conv_base = ResNet50V2(\n",
        "    weights='imagenet', \n",
        "    include_top=False, \n",
        "    input_shape=(150, 150, 3))"
      ],
      "execution_count": 0,
      "outputs": []
    },
    {
      "cell_type": "markdown",
      "metadata": {
        "id": "D6OBHOO9q1ou",
        "colab_type": "text"
      },
      "source": [
        "### Freeze the convolutional base"
      ]
    },
    {
      "cell_type": "code",
      "metadata": {
        "colab_type": "code",
        "id": "Xi3nxThuj1L2",
        "colab": {}
      },
      "source": [
        "conv_base.trainable = False"
      ],
      "execution_count": 0,
      "outputs": []
    },
    {
      "cell_type": "markdown",
      "metadata": {
        "id": "Qfx6PqhPrb7Q",
        "colab_type": "text"
      },
      "source": [
        "### Concatenate the convolutional base and densely connected layers"
      ]
    },
    {
      "cell_type": "code",
      "metadata": {
        "id": "qUpmocDAO3xm",
        "colab_type": "code",
        "colab": {}
      },
      "source": [
        "from keras import layers\n",
        "from keras import models\n",
        "from keras import optimizers\n",
        "\n",
        "model = models.Sequential()\n",
        "model.add(conv_base)\n",
        "model.add(layers.Flatten())\n",
        "model.add(layers.Dense(256, activation='relu'))\n",
        "#model.add(layers.Dropout(0.1))\n",
        "model.add(layers.Dense(1, activation='sigmoid'))"
      ],
      "execution_count": 0,
      "outputs": []
    },
    {
      "cell_type": "code",
      "metadata": {
        "id": "Fh6gZSeAjF7c",
        "colab_type": "code",
        "outputId": "d99e8b83-160d-4cf6-cd9a-f3418edd66b4",
        "colab": {
          "base_uri": "https://localhost:8080/",
          "height": 289
        }
      },
      "source": [
        "model.summary()"
      ],
      "execution_count": 16,
      "outputs": [
        {
          "output_type": "stream",
          "text": [
            "Model: \"sequential_2\"\n",
            "_________________________________________________________________\n",
            "Layer (type)                 Output Shape              Param #   \n",
            "=================================================================\n",
            "resnet50v2 (Model)           (None, 5, 5, 2048)        23564800  \n",
            "_________________________________________________________________\n",
            "flatten_2 (Flatten)          (None, 51200)             0         \n",
            "_________________________________________________________________\n",
            "dense_3 (Dense)              (None, 256)               13107456  \n",
            "_________________________________________________________________\n",
            "dense_4 (Dense)              (None, 1)                 257       \n",
            "=================================================================\n",
            "Total params: 36,672,513\n",
            "Trainable params: 13,107,713\n",
            "Non-trainable params: 23,564,800\n",
            "_________________________________________________________________\n"
          ],
          "name": "stdout"
        }
      ]
    },
    {
      "cell_type": "markdown",
      "metadata": {
        "id": "eZjBiddhi5Qj",
        "colab_type": "text"
      },
      "source": [
        "## Train the model end to end with frozen convolutional base"
      ]
    },
    {
      "cell_type": "code",
      "metadata": {
        "id": "tfAQlC2Oi41L",
        "colab_type": "code",
        "outputId": "5458ba18-de35-43a4-e83a-a85a7cb40c98",
        "colab": {
          "base_uri": "https://localhost:8080/",
          "height": 1000
        }
      },
      "source": [
        "from keras.preprocessing.image import ImageDataGenerator\n",
        "from keras import optimizers\n",
        "\n",
        "# data augmentation\n",
        "\n",
        "train_datagen = ImageDataGenerator(\n",
        "    rescale=1./255, \n",
        "    rotation_range=40,\n",
        "    width_shift_range=0.2,\n",
        "    height_shift_range=0.2,\n",
        "    shear_range=0.2,\n",
        "    zoom_range=0.2,\n",
        "    horizontal_flip=True,\n",
        "    fill_mode='nearest'\n",
        ")\n",
        "\n",
        "train_generator = train_datagen.flow_from_directory(\n",
        "    train_dir,\n",
        "    target_size=(150, 150),\n",
        "    batch_size=20,\n",
        "    class_mode='binary')\n",
        "\n",
        "validation_datagen = ImageDataGenerator(rescale=1./255)\n",
        "\n",
        "validation_generator = validation_datagen.flow_from_directory(\n",
        "    validation_dir,\n",
        "    target_size=(150, 150),\n",
        "    batch_size=20,\n",
        "    class_mode='binary')\n",
        "\n",
        "# compile model\n",
        "\n",
        "model.compile(\n",
        "    loss='binary_crossentropy', \n",
        "    optimizer=optimizers.RMSprop(lr=2e-5), \n",
        "    metrics=['acc'])\n",
        "\n",
        "# train\n",
        "\n",
        "history = model.fit_generator(\n",
        "    train_generator,\n",
        "    steps_per_epoch=100,\n",
        "    epochs=30,\n",
        "    validation_data=validation_generator,\n",
        "    validation_steps=50\n",
        ")"
      ],
      "execution_count": 17,
      "outputs": [
        {
          "output_type": "stream",
          "text": [
            "Found 2000 images belonging to 2 classes.\n",
            "Found 1000 images belonging to 2 classes.\n",
            "Epoch 1/30\n",
            "100/100 [==============================] - 256s 3s/step - loss: 0.4967 - acc: 0.7605 - val_loss: 0.0757 - val_acc: 0.9490\n",
            "Epoch 2/30\n",
            "100/100 [==============================] - 251s 3s/step - loss: 0.3832 - acc: 0.8300 - val_loss: 0.1927 - val_acc: 0.9500\n",
            "Epoch 3/30\n",
            "100/100 [==============================] - 254s 3s/step - loss: 0.3306 - acc: 0.8560 - val_loss: 4.3472e-07 - val_acc: 0.9560\n",
            "Epoch 4/30\n",
            "100/100 [==============================] - 248s 2s/step - loss: 0.3257 - acc: 0.8710 - val_loss: 0.0309 - val_acc: 0.9610\n",
            "Epoch 5/30\n",
            "100/100 [==============================] - 251s 3s/step - loss: 0.3251 - acc: 0.8585 - val_loss: 0.1028 - val_acc: 0.9630\n",
            "Epoch 6/30\n",
            "100/100 [==============================] - 249s 2s/step - loss: 0.2742 - acc: 0.8845 - val_loss: 0.0023 - val_acc: 0.9630\n",
            "Epoch 7/30\n",
            "100/100 [==============================] - 248s 2s/step - loss: 0.2853 - acc: 0.8840 - val_loss: 9.9955e-04 - val_acc: 0.9600\n",
            "Epoch 8/30\n",
            "100/100 [==============================] - 249s 2s/step - loss: 0.2889 - acc: 0.8725 - val_loss: 0.2108 - val_acc: 0.9660\n",
            "Epoch 9/30\n",
            "100/100 [==============================] - 248s 2s/step - loss: 0.2742 - acc: 0.8785 - val_loss: 5.6095e-05 - val_acc: 0.9620\n",
            "Epoch 10/30\n",
            "100/100 [==============================] - 249s 2s/step - loss: 0.2755 - acc: 0.8880 - val_loss: 0.2152 - val_acc: 0.9610\n",
            "Epoch 11/30\n",
            "100/100 [==============================] - 249s 2s/step - loss: 0.2684 - acc: 0.8945 - val_loss: 0.0365 - val_acc: 0.9690\n",
            "Epoch 12/30\n",
            "100/100 [==============================] - 253s 3s/step - loss: 0.2599 - acc: 0.8980 - val_loss: 0.0047 - val_acc: 0.9660\n",
            "Epoch 13/30\n",
            "100/100 [==============================] - 250s 3s/step - loss: 0.2595 - acc: 0.8885 - val_loss: 9.1613e-04 - val_acc: 0.9660\n",
            "Epoch 14/30\n",
            "100/100 [==============================] - 249s 2s/step - loss: 0.2633 - acc: 0.8940 - val_loss: 0.0183 - val_acc: 0.9670\n",
            "Epoch 15/30\n",
            "100/100 [==============================] - 253s 3s/step - loss: 0.2663 - acc: 0.8950 - val_loss: 0.5574 - val_acc: 0.9660\n",
            "Epoch 16/30\n",
            "100/100 [==============================] - 250s 2s/step - loss: 0.2356 - acc: 0.9025 - val_loss: 2.0670e-04 - val_acc: 0.9690\n",
            "Epoch 17/30\n",
            "100/100 [==============================] - 249s 2s/step - loss: 0.2530 - acc: 0.8950 - val_loss: 0.0192 - val_acc: 0.9690\n",
            "Epoch 18/30\n",
            "100/100 [==============================] - 249s 2s/step - loss: 0.2550 - acc: 0.9000 - val_loss: 1.7660e-04 - val_acc: 0.9660\n",
            "Epoch 19/30\n",
            "100/100 [==============================] - 249s 2s/step - loss: 0.2457 - acc: 0.8940 - val_loss: 0.7966 - val_acc: 0.9700\n",
            "Epoch 20/30\n",
            "100/100 [==============================] - 249s 2s/step - loss: 0.2492 - acc: 0.8995 - val_loss: 1.1072 - val_acc: 0.9690\n",
            "Epoch 21/30\n",
            "100/100 [==============================] - 249s 2s/step - loss: 0.2540 - acc: 0.9010 - val_loss: 9.2039e-04 - val_acc: 0.9700\n",
            "Epoch 22/30\n",
            "100/100 [==============================] - 248s 2s/step - loss: 0.2151 - acc: 0.9060 - val_loss: 0.0059 - val_acc: 0.9700\n",
            "Epoch 23/30\n",
            "100/100 [==============================] - 249s 2s/step - loss: 0.2248 - acc: 0.9110 - val_loss: 1.4651e-07 - val_acc: 0.9720\n",
            "Epoch 24/30\n",
            "100/100 [==============================] - 250s 2s/step - loss: 0.2238 - acc: 0.9130 - val_loss: 0.9859 - val_acc: 0.9750\n",
            "Epoch 25/30\n",
            "100/100 [==============================] - 251s 3s/step - loss: 0.2205 - acc: 0.9085 - val_loss: 1.5933e-05 - val_acc: 0.9710\n",
            "Epoch 26/30\n",
            "100/100 [==============================] - 254s 3s/step - loss: 0.2269 - acc: 0.9055 - val_loss: 0.0243 - val_acc: 0.9740\n",
            "Epoch 27/30\n",
            "100/100 [==============================] - 250s 3s/step - loss: 0.2101 - acc: 0.9185 - val_loss: 7.9265e-04 - val_acc: 0.9680\n",
            "Epoch 28/30\n",
            "100/100 [==============================] - 249s 2s/step - loss: 0.2171 - acc: 0.9190 - val_loss: 0.4912 - val_acc: 0.9720\n",
            "Epoch 29/30\n",
            "100/100 [==============================] - 252s 3s/step - loss: 0.1970 - acc: 0.9215 - val_loss: 1.6754e-07 - val_acc: 0.9710\n",
            "Epoch 30/30\n",
            "100/100 [==============================] - 248s 2s/step - loss: 0.2461 - acc: 0.9055 - val_loss: 5.0826e-07 - val_acc: 0.9730\n"
          ],
          "name": "stdout"
        }
      ]
    },
    {
      "cell_type": "markdown",
      "metadata": {
        "id": "xqRc_vHKc92U",
        "colab_type": "text"
      },
      "source": [
        "## Display curves of loss and accuracy during training"
      ]
    },
    {
      "cell_type": "code",
      "metadata": {
        "id": "ybWwdzz9bwuQ",
        "colab_type": "code",
        "outputId": "722695e3-def0-44c4-99ef-a304bf655974",
        "colab": {
          "base_uri": "https://localhost:8080/",
          "height": 545
        }
      },
      "source": [
        "%matplotlib inline\n",
        "\n",
        "import matplotlib.pyplot as plt\n",
        "\n",
        "acc = history.history['acc']\n",
        "val_acc = history.history['val_acc']\n",
        "\n",
        "loss = history.history['loss']\n",
        "val_loss = history.history['val_loss']\n",
        "\n",
        "epochs = range(1, len(acc) + 1)\n",
        "\n",
        "# training and validation accuracy\n",
        "\n",
        "plt.plot(epochs, acc, 'bo', label='training acc')\n",
        "plt.plot(epochs, val_acc, 'b', label='validation acc')\n",
        "plt.title('training and validation accuracy')\n",
        "plt.legend()\n",
        "\n",
        "plt.figure()\n",
        "\n",
        "# training and validation loss\n",
        "\n",
        "plt.plot(epochs, loss, 'bo', label='training loss')\n",
        "plt.plot(epochs, val_loss, 'b', label='validation loss')\n",
        "plt.title('training and validation loss')\n",
        "plt.legend()\n",
        "\n",
        "plt.show()"
      ],
      "execution_count": 18,
      "outputs": [
        {
          "output_type": "display_data",
          "data": {
            "image/png": "[encoded data removed]",
            "text/plain": [
              "<Figure size 432x288 with 1 Axes>"
            ]
          },
          "metadata": {
            "tags": [],
            "needs_background": "light"
          }
        },
        {
          "output_type": "display_data",
          "data": {
            "image/png": "[encoded data removed]",
            "text/plain": [
              "<Figure size 432x288 with 1 Axes>"
            ]
          },
          "metadata": {
            "tags": [],
            "needs_background": "light"
          }
        }
      ]
    },
    {
      "cell_type": "markdown",
      "metadata": {
        "id": "lOWsxpey8lN0",
        "colab_type": "text"
      },
      "source": [
        "## Fine-tuning"
      ]
    },
    {
      "cell_type": "code",
      "metadata": {
        "id": "PwkVMx8N8qMw",
        "colab_type": "code",
        "colab": {}
      },
      "source": [
        "conv_base.trainable = True\n",
        "\n",
        "set_trainable = False\n",
        "for layer in conv_base.layers:\n",
        "  if layer.name == 'block5_conv1':\n",
        "    set_trainable = True\n",
        "  if set_trainable:\n",
        "    layer.trainable = True\n",
        "  else:\n",
        "    layer.trainable = False"
      ],
      "execution_count": 0,
      "outputs": []
    },
    {
      "cell_type": "code",
      "metadata": {
        "id": "DyN-J7rs9cvo",
        "colab_type": "code",
        "outputId": "dbddf876-b04b-4ff6-da4b-ffc4e3fab501",
        "colab": {
          "base_uri": "https://localhost:8080/",
          "height": 1000
        }
      },
      "source": [
        "# compile model\n",
        "\n",
        "model.compile(\n",
        "    loss='binary_crossentropy',\n",
        "    #\n",
        "    # choose a smaller learning rate\n",
        "    #\n",
        "    optimizer=optimizers.RMSprop(lr=1e-5), \n",
        "    metrics=['acc'])\n",
        "\n",
        "# train\n",
        "\n",
        "history = model.fit_generator(\n",
        "    train_generator,\n",
        "    steps_per_epoch=100,\n",
        "    epochs=100,\n",
        "    validation_data=validation_generator,\n",
        "    validation_steps=50)"
      ],
      "execution_count": 20,
      "outputs": [
        {
          "output_type": "stream",
          "text": [
            "Epoch 1/100\n",
            "100/100 [==============================] - 256s 3s/step - loss: 0.1899 - acc: 0.9295 - val_loss: 1.6133e-04 - val_acc: 0.9430\n",
            "Epoch 2/100\n",
            "100/100 [==============================] - 249s 2s/step - loss: 0.2252 - acc: 0.9105 - val_loss: 0.0332 - val_acc: 0.9260\n",
            "Epoch 3/100\n",
            "100/100 [==============================] - 249s 2s/step - loss: 0.2114 - acc: 0.9165 - val_loss: 0.1000 - val_acc: 0.9340\n",
            "Epoch 4/100\n",
            "100/100 [==============================] - 252s 3s/step - loss: 0.1939 - acc: 0.9275 - val_loss: 0.1771 - val_acc: 0.9300\n",
            "Epoch 5/100\n",
            "100/100 [==============================] - 250s 2s/step - loss: 0.1964 - acc: 0.9260 - val_loss: 0.0419 - val_acc: 0.9340\n",
            "Epoch 6/100\n",
            "100/100 [==============================] - 254s 3s/step - loss: 0.2112 - acc: 0.9285 - val_loss: 0.0793 - val_acc: 0.9270\n",
            "Epoch 7/100\n",
            "100/100 [==============================] - 249s 2s/step - loss: 0.2151 - acc: 0.9125 - val_loss: 0.1191 - val_acc: 0.9370\n",
            "Epoch 8/100\n",
            "100/100 [==============================] - 255s 3s/step - loss: 0.2188 - acc: 0.9130 - val_loss: 0.1101 - val_acc: 0.9320\n",
            "Epoch 9/100\n",
            "100/100 [==============================] - 251s 3s/step - loss: 0.1855 - acc: 0.9275 - val_loss: 0.5171 - val_acc: 0.9350\n",
            "Epoch 10/100\n",
            "100/100 [==============================] - 251s 3s/step - loss: 0.1798 - acc: 0.9225 - val_loss: 0.0557 - val_acc: 0.9370\n",
            "Epoch 11/100\n",
            "100/100 [==============================] - 254s 3s/step - loss: 0.1959 - acc: 0.9320 - val_loss: 0.0679 - val_acc: 0.9390\n",
            "Epoch 12/100\n",
            "100/100 [==============================] - 250s 2s/step - loss: 0.1940 - acc: 0.9190 - val_loss: 0.1847 - val_acc: 0.9360\n",
            "Epoch 13/100\n",
            "100/100 [==============================] - 254s 3s/step - loss: 0.1890 - acc: 0.9270 - val_loss: 0.1217 - val_acc: 0.9360\n",
            "Epoch 14/100\n",
            "100/100 [==============================] - 249s 2s/step - loss: 0.1754 - acc: 0.9330 - val_loss: 0.2234 - val_acc: 0.9300\n",
            "Epoch 15/100\n",
            "100/100 [==============================] - 249s 2s/step - loss: 0.1701 - acc: 0.9315 - val_loss: 0.0983 - val_acc: 0.9280\n",
            "Epoch 16/100\n",
            "100/100 [==============================] - 253s 3s/step - loss: 0.1785 - acc: 0.9280 - val_loss: 0.1146 - val_acc: 0.9350\n",
            "Epoch 17/100\n",
            "100/100 [==============================] - 250s 2s/step - loss: 0.1809 - acc: 0.9350 - val_loss: 0.4702 - val_acc: 0.9350\n",
            "Epoch 18/100\n",
            "100/100 [==============================] - 252s 3s/step - loss: 0.1850 - acc: 0.9310 - val_loss: 0.1626 - val_acc: 0.9330\n",
            "Epoch 19/100\n",
            "100/100 [==============================] - 249s 2s/step - loss: 0.1631 - acc: 0.9335 - val_loss: 0.1408 - val_acc: 0.9360\n",
            "Epoch 20/100\n",
            "100/100 [==============================] - 250s 2s/step - loss: 0.1706 - acc: 0.9315 - val_loss: 0.0698 - val_acc: 0.9350\n",
            "Epoch 21/100\n",
            "100/100 [==============================] - 252s 3s/step - loss: 0.1899 - acc: 0.9310 - val_loss: 0.2539 - val_acc: 0.9300\n",
            "Epoch 22/100\n",
            "100/100 [==============================] - 249s 2s/step - loss: 0.1959 - acc: 0.9260 - val_loss: 0.5414 - val_acc: 0.9390\n",
            "Epoch 23/100\n",
            "100/100 [==============================] - 255s 3s/step - loss: 0.1743 - acc: 0.9345 - val_loss: 0.2816 - val_acc: 0.9370\n",
            "Epoch 24/100\n",
            "100/100 [==============================] - 252s 3s/step - loss: 0.1758 - acc: 0.9355 - val_loss: 0.1950 - val_acc: 0.9390\n",
            "Epoch 25/100\n",
            "100/100 [==============================] - 256s 3s/step - loss: 0.1866 - acc: 0.9290 - val_loss: 0.2218 - val_acc: 0.9400\n",
            "Epoch 26/100\n",
            "100/100 [==============================] - 253s 3s/step - loss: 0.2024 - acc: 0.9335 - val_loss: 0.3753 - val_acc: 0.9370\n",
            "Epoch 27/100\n",
            "100/100 [==============================] - 254s 3s/step - loss: 0.1760 - acc: 0.9290 - val_loss: 0.0978 - val_acc: 0.9390\n",
            "Epoch 28/100\n",
            "100/100 [==============================] - 259s 3s/step - loss: 0.1673 - acc: 0.9320 - val_loss: 0.3649 - val_acc: 0.9370\n",
            "Epoch 29/100\n",
            "100/100 [==============================] - 253s 3s/step - loss: 0.1812 - acc: 0.9285 - val_loss: 0.0290 - val_acc: 0.9390\n",
            "Epoch 30/100\n",
            "100/100 [==============================] - 256s 3s/step - loss: 0.1933 - acc: 0.9265 - val_loss: 0.2548 - val_acc: 0.9380\n",
            "Epoch 31/100\n",
            "100/100 [==============================] - 251s 3s/step - loss: 0.1730 - acc: 0.9350 - val_loss: 0.2073 - val_acc: 0.9410\n",
            "Epoch 32/100\n",
            "100/100 [==============================] - 252s 3s/step - loss: 0.1703 - acc: 0.9380 - val_loss: 0.0197 - val_acc: 0.9340\n",
            "Epoch 33/100\n",
            "100/100 [==============================] - 257s 3s/step - loss: 0.1972 - acc: 0.9235 - val_loss: 0.3620 - val_acc: 0.9370\n",
            "Epoch 34/100\n",
            "100/100 [==============================] - 252s 3s/step - loss: 0.1726 - acc: 0.9385 - val_loss: 0.0775 - val_acc: 0.9390\n",
            "Epoch 35/100\n",
            "100/100 [==============================] - 256s 3s/step - loss: 0.1744 - acc: 0.9350 - val_loss: 0.2527 - val_acc: 0.9360\n",
            "Epoch 36/100\n",
            "100/100 [==============================] - 253s 3s/step - loss: 0.1662 - acc: 0.9290 - val_loss: 0.2226 - val_acc: 0.9380\n",
            "Epoch 37/100\n",
            "100/100 [==============================] - 257s 3s/step - loss: 0.1745 - acc: 0.9350 - val_loss: 0.0320 - val_acc: 0.9400\n",
            "Epoch 38/100\n",
            "100/100 [==============================] - 253s 3s/step - loss: 0.1646 - acc: 0.9380 - val_loss: 0.4383 - val_acc: 0.9410\n",
            "Epoch 39/100\n",
            "100/100 [==============================] - 251s 3s/step - loss: 0.1588 - acc: 0.9390 - val_loss: 0.1440 - val_acc: 0.9410\n",
            "Epoch 40/100\n",
            "100/100 [==============================] - 255s 3s/step - loss: 0.1633 - acc: 0.9375 - val_loss: 0.0874 - val_acc: 0.9410\n",
            "Epoch 41/100\n",
            "100/100 [==============================] - 253s 3s/step - loss: 0.1630 - acc: 0.9330 - val_loss: 0.3537 - val_acc: 0.9430\n",
            "Epoch 42/100\n",
            "100/100 [==============================] - 255s 3s/step - loss: 0.1762 - acc: 0.9320 - val_loss: 0.0020 - val_acc: 0.9440\n",
            "Epoch 43/100\n",
            "100/100 [==============================] - 250s 3s/step - loss: 0.1831 - acc: 0.9395 - val_loss: 0.0160 - val_acc: 0.9420\n",
            "Epoch 44/100\n",
            "100/100 [==============================] - 251s 3s/step - loss: 0.1602 - acc: 0.9400 - val_loss: 0.2159 - val_acc: 0.9370\n",
            "Epoch 45/100\n",
            "100/100 [==============================] - 257s 3s/step - loss: 0.1818 - acc: 0.9385 - val_loss: 0.0093 - val_acc: 0.9370\n",
            "Epoch 46/100\n",
            "100/100 [==============================] - 252s 3s/step - loss: 0.1674 - acc: 0.9385 - val_loss: 0.0491 - val_acc: 0.9380\n",
            "Epoch 47/100\n",
            "100/100 [==============================] - 256s 3s/step - loss: 0.1581 - acc: 0.9405 - val_loss: 0.1213 - val_acc: 0.9420\n",
            "Epoch 48/100\n",
            "100/100 [==============================] - 253s 3s/step - loss: 0.1771 - acc: 0.9400 - val_loss: 0.0533 - val_acc: 0.9430\n",
            "Epoch 49/100\n",
            "100/100 [==============================] - 254s 3s/step - loss: 0.1485 - acc: 0.9505 - val_loss: 0.3318 - val_acc: 0.9420\n",
            "Epoch 50/100\n",
            "100/100 [==============================] - 249s 2s/step - loss: 0.1459 - acc: 0.9420 - val_loss: 0.0609 - val_acc: 0.9430\n",
            "Epoch 51/100\n",
            "100/100 [==============================] - 252s 3s/step - loss: 0.1579 - acc: 0.9380 - val_loss: 0.3100 - val_acc: 0.9330\n",
            "Epoch 52/100\n",
            "100/100 [==============================] - 255s 3s/step - loss: 0.1655 - acc: 0.9340 - val_loss: 0.2029 - val_acc: 0.9320\n",
            "Epoch 53/100\n",
            "100/100 [==============================] - 251s 3s/step - loss: 0.1723 - acc: 0.9390 - val_loss: 1.1818 - val_acc: 0.9350\n",
            "Epoch 54/100\n",
            "100/100 [==============================] - 254s 3s/step - loss: 0.1944 - acc: 0.9300 - val_loss: 0.2404 - val_acc: 0.9380\n",
            "Epoch 55/100\n",
            "100/100 [==============================] - 250s 2s/step - loss: 0.1789 - acc: 0.9345 - val_loss: 0.0136 - val_acc: 0.9370\n",
            "Epoch 56/100\n",
            "100/100 [==============================] - 250s 3s/step - loss: 0.1702 - acc: 0.9325 - val_loss: 0.0348 - val_acc: 0.9400\n",
            "Epoch 57/100\n",
            "100/100 [==============================] - 253s 3s/step - loss: 0.1499 - acc: 0.9435 - val_loss: 0.0605 - val_acc: 0.9330\n",
            "Epoch 58/100\n",
            "100/100 [==============================] - 250s 2s/step - loss: 0.1775 - acc: 0.9310 - val_loss: 0.0025 - val_acc: 0.9370\n",
            "Epoch 59/100\n",
            "100/100 [==============================] - 253s 3s/step - loss: 0.1518 - acc: 0.9465 - val_loss: 0.0024 - val_acc: 0.9370\n",
            "Epoch 60/100\n",
            "100/100 [==============================] - 249s 2s/step - loss: 0.1717 - acc: 0.9380 - val_loss: 0.0177 - val_acc: 0.9390\n",
            "Epoch 61/100\n",
            "100/100 [==============================] - 249s 2s/step - loss: 0.1731 - acc: 0.9430 - val_loss: 0.0263 - val_acc: 0.9390\n",
            "Epoch 62/100\n",
            "100/100 [==============================] - 253s 3s/step - loss: 0.1667 - acc: 0.9445 - val_loss: 0.0584 - val_acc: 0.9370\n",
            "Epoch 63/100\n",
            "100/100 [==============================] - 250s 2s/step - loss: 0.1709 - acc: 0.9395 - val_loss: 0.0207 - val_acc: 0.9390\n",
            "Epoch 64/100\n",
            "100/100 [==============================] - 253s 3s/step - loss: 0.1615 - acc: 0.9430 - val_loss: 0.1945 - val_acc: 0.9370\n",
            "Epoch 65/100\n",
            "100/100 [==============================] - 250s 2s/step - loss: 0.1725 - acc: 0.9350 - val_loss: 0.1519 - val_acc: 0.9370\n",
            "Epoch 66/100\n",
            "100/100 [==============================] - 255s 3s/step - loss: 0.1487 - acc: 0.9430 - val_loss: 0.1915 - val_acc: 0.9400\n",
            "Epoch 67/100\n",
            "100/100 [==============================] - 253s 3s/step - loss: 0.1547 - acc: 0.9415 - val_loss: 0.1638 - val_acc: 0.9400\n",
            "Epoch 68/100\n",
            "100/100 [==============================] - 253s 3s/step - loss: 0.1481 - acc: 0.9455 - val_loss: 0.4841 - val_acc: 0.9360\n",
            "Epoch 69/100\n",
            "100/100 [==============================] - 254s 3s/step - loss: 0.1631 - acc: 0.9435 - val_loss: 0.1400 - val_acc: 0.9390\n",
            "Epoch 70/100\n",
            "100/100 [==============================] - 252s 3s/step - loss: 0.1541 - acc: 0.9415 - val_loss: 0.4494 - val_acc: 0.9350\n",
            "Epoch 71/100\n",
            "100/100 [==============================] - 256s 3s/step - loss: 0.1937 - acc: 0.9365 - val_loss: 0.1694 - val_acc: 0.9410\n",
            "Epoch 72/100\n",
            "100/100 [==============================] - 250s 3s/step - loss: 0.1604 - acc: 0.9455 - val_loss: 0.1148 - val_acc: 0.9380\n",
            "Epoch 73/100\n",
            "100/100 [==============================] - 251s 3s/step - loss: 0.1526 - acc: 0.9415 - val_loss: 0.3116 - val_acc: 0.9370\n",
            "Epoch 74/100\n",
            "100/100 [==============================] - 253s 3s/step - loss: 0.1601 - acc: 0.9455 - val_loss: 0.4634 - val_acc: 0.9390\n",
            "Epoch 75/100\n",
            "100/100 [==============================] - 250s 2s/step - loss: 0.1764 - acc: 0.9475 - val_loss: 0.2506 - val_acc: 0.9370\n",
            "Epoch 76/100\n",
            "100/100 [==============================] - 253s 3s/step - loss: 0.1294 - acc: 0.9535 - val_loss: 0.2476 - val_acc: 0.9360\n",
            "Epoch 77/100\n",
            "100/100 [==============================] - 250s 3s/step - loss: 0.1590 - acc: 0.9450 - val_loss: 0.0507 - val_acc: 0.9360\n",
            "Epoch 78/100\n",
            "100/100 [==============================] - 254s 3s/step - loss: 0.1533 - acc: 0.9445 - val_loss: 0.1623 - val_acc: 0.9300\n",
            "Epoch 79/100\n",
            "100/100 [==============================] - 251s 3s/step - loss: 0.1607 - acc: 0.9440 - val_loss: 0.2076 - val_acc: 0.9370\n",
            "Epoch 80/100\n",
            "100/100 [==============================] - 250s 3s/step - loss: 0.1586 - acc: 0.9445 - val_loss: 0.2798 - val_acc: 0.9320\n",
            "Epoch 81/100\n",
            "100/100 [==============================] - 253s 3s/step - loss: 0.1787 - acc: 0.9380 - val_loss: 0.2551 - val_acc: 0.9420\n",
            "Epoch 82/100\n",
            "100/100 [==============================] - 250s 3s/step - loss: 0.1450 - acc: 0.9475 - val_loss: 0.2552 - val_acc: 0.9400\n",
            "Epoch 83/100\n",
            "100/100 [==============================] - 253s 3s/step - loss: 0.1471 - acc: 0.9435 - val_loss: 0.0021 - val_acc: 0.9390\n",
            "Epoch 84/100\n",
            "100/100 [==============================] - 250s 3s/step - loss: 0.1396 - acc: 0.9440 - val_loss: 1.3326e-05 - val_acc: 0.9390\n",
            "Epoch 85/100\n",
            "100/100 [==============================] - 252s 3s/step - loss: 0.1753 - acc: 0.9400 - val_loss: 0.0108 - val_acc: 0.9370\n",
            "Epoch 86/100\n",
            "100/100 [==============================] - 259s 3s/step - loss: 0.1546 - acc: 0.9420 - val_loss: 0.0990 - val_acc: 0.9420\n",
            "Epoch 87/100\n",
            "100/100 [==============================] - 256s 3s/step - loss: 0.1665 - acc: 0.9395 - val_loss: 0.0054 - val_acc: 0.9400\n",
            "Epoch 88/100\n",
            "100/100 [==============================] - 258s 3s/step - loss: 0.1373 - acc: 0.9485 - val_loss: 0.0293 - val_acc: 0.9370\n",
            "Epoch 89/100\n",
            "100/100 [==============================] - 255s 3s/step - loss: 0.1624 - acc: 0.9455 - val_loss: 0.2001 - val_acc: 0.9360\n",
            "Epoch 90/100\n",
            "100/100 [==============================] - 257s 3s/step - loss: 0.1633 - acc: 0.9475 - val_loss: 0.0930 - val_acc: 0.9350\n",
            "Epoch 91/100\n",
            "100/100 [==============================] - 254s 3s/step - loss: 0.1598 - acc: 0.9440 - val_loss: 0.0591 - val_acc: 0.9380\n",
            "Epoch 92/100\n",
            "100/100 [==============================] - 254s 3s/step - loss: 0.1309 - acc: 0.9550 - val_loss: 0.0284 - val_acc: 0.9390\n",
            "Epoch 93/100\n",
            "100/100 [==============================] - 260s 3s/step - loss: 0.1374 - acc: 0.9510 - val_loss: 0.0919 - val_acc: 0.9390\n",
            "Epoch 94/100\n",
            "100/100 [==============================] - 255s 3s/step - loss: 0.1323 - acc: 0.9480 - val_loss: 0.0022 - val_acc: 0.9370\n",
            "Epoch 95/100\n",
            "100/100 [==============================] - 258s 3s/step - loss: 0.1376 - acc: 0.9475 - val_loss: 0.1042 - val_acc: 0.9350\n",
            "Epoch 96/100\n",
            "100/100 [==============================] - 254s 3s/step - loss: 0.1281 - acc: 0.9525 - val_loss: 0.0241 - val_acc: 0.9360\n",
            "Epoch 97/100\n",
            "100/100 [==============================] - 253s 3s/step - loss: 0.1539 - acc: 0.9495 - val_loss: 0.0303 - val_acc: 0.9440\n",
            "Epoch 98/100\n",
            "100/100 [==============================] - 258s 3s/step - loss: 0.1538 - acc: 0.9425 - val_loss: 0.0581 - val_acc: 0.9370\n",
            "Epoch 99/100\n",
            "100/100 [==============================] - 254s 3s/step - loss: 0.1483 - acc: 0.9440 - val_loss: 0.1229 - val_acc: 0.9390\n",
            "Epoch 100/100\n",
            "100/100 [==============================] - 259s 3s/step - loss: 0.1360 - acc: 0.9560 - val_loss: 0.3265 - val_acc: 0.9430\n"
          ],
          "name": "stdout"
        }
      ]
    },
    {
      "cell_type": "markdown",
      "metadata": {
        "id": "eVBQgh5M-Rtz",
        "colab_type": "text"
      },
      "source": [
        "## Display learning curves during fine-tuning"
      ]
    },
    {
      "cell_type": "code",
      "metadata": {
        "id": "mbkIw7Ie-NP4",
        "colab_type": "code",
        "outputId": "fdcfd3e5-0802-4029-ff62-fa535b57b941",
        "colab": {
          "base_uri": "https://localhost:8080/",
          "height": 545
        }
      },
      "source": [
        "%matplotlib inline\n",
        "\n",
        "import matplotlib.pyplot as plt\n",
        "\n",
        "acc = history.history['acc']\n",
        "val_acc = history.history['val_acc']\n",
        "\n",
        "loss = history.history['loss']\n",
        "val_loss = history.history['val_loss']\n",
        "\n",
        "epochs = range(1, len(acc) + 1)\n",
        "\n",
        "# training and validation accuracy\n",
        "\n",
        "plt.plot(epochs, acc, 'bo', label='training acc')\n",
        "plt.plot(epochs, val_acc, 'b', label='validation acc')\n",
        "plt.title('training and validation accuracy')\n",
        "plt.legend()\n",
        "\n",
        "plt.figure()\n",
        "\n",
        "# training and validation loss\n",
        "\n",
        "plt.plot(epochs, loss, 'bo', label='training loss')\n",
        "plt.plot(epochs, val_loss, 'b', label='validation loss')\n",
        "plt.title('training and validation loss')\n",
        "plt.legend()\n",
        "\n",
        "plt.show()"
      ],
      "execution_count": 21,
      "outputs": [
        {
          "output_type": "display_data",
          "data": {
            "image/png": "[encoded data removed]",
            "text/plain": [
              "<Figure size 432x288 with 1 Axes>"
            ]
          },
          "metadata": {
            "tags": [],
            "needs_background": "light"
          }
        },
        {
          "output_type": "display_data",
          "data": {
            "image/png": "[encoded data removed]",
            "text/plain": [
              "<Figure size 432x288 with 1 Axes>"
            ]
          },
          "metadata": {
            "tags": [],
            "needs_background": "light"
          }
        }
      ]
    },
    {
      "cell_type": "markdown",
      "metadata": {
        "id": "he3Nw6TOJwjx",
        "colab_type": "text"
      },
      "source": [
        "## Print out validation loss and accuracy"
      ]
    },
    {
      "cell_type": "code",
      "metadata": {
        "id": "SVQtrk7uJdhl",
        "colab_type": "code",
        "colab": {}
      },
      "source": [
        "val_loss, val_acc = model.evaluate_generator(validation_generator, steps=50)"
      ],
      "execution_count": 0,
      "outputs": []
    },
    {
      "cell_type": "code",
      "metadata": {
        "id": "HpdddLi1SUMe",
        "colab_type": "code",
        "outputId": "f1ba035e-9cbe-4a77-e7d2-30680d685f26",
        "colab": {
          "base_uri": "https://localhost:8080/",
          "height": 51
        }
      },
      "source": [
        "print(\"Validation loss:\", val_loss)\n",
        "print(\"Validation accuracy:\", val_acc)"
      ],
      "execution_count": 23,
      "outputs": [
        {
          "output_type": "stream",
          "text": [
            "Validation loss: 0.0065468670800328255\n",
            "Validation accuracy: 0.9430000185966492\n"
          ],
          "name": "stdout"
        }
      ]
    },
    {
      "cell_type": "markdown",
      "metadata": {
        "id": "7Ww756WToby8",
        "colab_type": "text"
      },
      "source": [
        "## Save the model"
      ]
    },
    {
      "cell_type": "code",
      "metadata": {
        "id": "0lTUpUdwobKW",
        "colab_type": "code",
        "colab": {}
      },
      "source": [
        "model_fname = 'cats_and_dogs_small_4.h5' \n",
        "model.save(model_fname)"
      ],
      "execution_count": 0,
      "outputs": []
    },
    {
      "cell_type": "code",
      "metadata": {
        "id": "YhEoI8ZTok-X",
        "colab_type": "code",
        "colab": {
          "base_uri": "https://localhost:8080/",
          "height": 442
        },
        "outputId": "57ee4f3e-6778-4181-d6ee-aada60264a0f"
      },
      "source": [
        "from google.colab import files\n",
        "\n",
        "with open(model_fname, 'r') as f:\n",
        "  files.download(model_fname)"
      ],
      "execution_count": 0,
      "outputs": [
        {
          "output_type": "stream",
          "text": [
            "----------------------------------------\n",
            "Exception happened during processing of request from ('::ffff:127.0.0.1', 59808, 0, 0)\n",
            "Traceback (most recent call last):\n",
            "  File \"/usr/lib/python3.6/socketserver.py\", line 320, in _handle_request_noblock\n",
            "    self.process_request(request, client_address)\n",
            "  File \"/usr/lib/python3.6/socketserver.py\", line 351, in process_request\n",
            "    self.finish_request(request, client_address)\n",
            "  File \"/usr/lib/python3.6/socketserver.py\", line 364, in finish_request\n",
            "    self.RequestHandlerClass(request, client_address, self)\n",
            "  File \"/usr/lib/python3.6/socketserver.py\", line 724, in __init__\n",
            "    self.handle()\n",
            "  File \"/usr/lib/python3.6/http/server.py\", line 418, in handle\n",
            "    self.handle_one_request()\n",
            "  File \"/usr/lib/python3.6/http/server.py\", line 406, in handle_one_request\n",
            "    method()\n",
            "  File \"/usr/lib/python3.6/http/server.py\", line 639, in do_GET\n",
            "    self.copyfile(f, self.wfile)\n",
            "  File \"/usr/lib/python3.6/http/server.py\", line 800, in copyfile\n",
            "    shutil.copyfileobj(source, outputfile)\n",
            "  File \"/usr/lib/python3.6/shutil.py\", line 82, in copyfileobj\n",
            "    fdst.write(buf)\n",
            "  File \"/usr/lib/python3.6/socketserver.py\", line 803, in write\n",
            "    self._sock.sendall(b)\n",
            "ConnectionResetError: [Errno 104] Connection reset by peer\n",
            "----------------------------------------\n"
          ],
          "name": "stderr"
        }
      ]
    }
  ]
}