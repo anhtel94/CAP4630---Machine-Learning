{
  "nbformat": 4,
  "nbformat_minor": 0,
  "metadata": {
    "colab": {
      "name": "HW4-problem1.ipynb",
      "provenance": [],
      "collapsed_sections": [],
      "authorship_tag": "ABX9TyN+gMchVbmGF+qMrN7VIZAw",
      "include_colab_link": true
    },
    "kernelspec": {
      "name": "python3",
      "display_name": "Python 3"
    }
  },
  "cells": [
    {
      "cell_type": "markdown",
      "metadata": {
        "id": "view-in-github",
        "colab_type": "text"
      },
      "source": [
        "<a href=\"https://colab.research.google.com/github/anhtel94/CAP4630---Machine-Learning/blob/master/HW_4/HW4_problem1.ipynb\" target=\"_parent\"><img src=\"https://colab.research.google.com/assets/colab-badge.svg\" alt=\"Open In Colab\"/></a>"
      ]
    },
    {
      "cell_type": "markdown",
      "metadata": {
        "id": "Ta-rBoNugfyP",
        "colab_type": "text"
      },
      "source": [
        "**Problem 1**"
      ]
    },
    {
      "cell_type": "code",
      "metadata": {
        "id": "DDtqjEy4gbQ9",
        "colab_type": "code",
        "colab": {
          "base_uri": "https://localhost:8080/",
          "height": 1000
        },
        "outputId": "af12a2a7-387f-4465-de76-3aa295ac4755"
      },
      "source": [
        "import numpy as np\n",
        "\n",
        "def conv2d_prime(input_mat, kernal_mat):\n",
        "  filter = len(kernal_mat)\n",
        "  size = len(input_mat) - len(kernal_mat) + 1\n",
        "  output_mat = np.zeros((size, size))\n",
        "\n",
        "  for i in range(size):\n",
        "    for j in range(size):\n",
        "      output_mat[i][j] = sum(sum(np.multiply(input_mat[i:(i+filter),j:(j+filter)], kernal_mat)))\n",
        "  return output_mat\n",
        "\n",
        "input_size = int(input(\"Enter size n of input matrix (n x n):\"))\n",
        "input_mat = []\n",
        "print(\"Enter the entires input matrix (by row-then-column order):\")\n",
        "for i in range(input_size):\n",
        "  a = []\n",
        "  for j in range(input_size):\n",
        "    a.append(int(input()))\n",
        "  input_mat.append(a)\n",
        "\n",
        "print(np.array(input_mat))\n",
        "\n",
        "kernal_size = int(input(\"Enter size n of kernal matrix (m x m):\"))\n",
        "kernal_mat = []\n",
        "\n",
        "if kernal_size > input_size:\n",
        "  raise Exception('Size of input matrix must bigger than kernal matrix')\n",
        "\n",
        "print(\"Enter the entires kernal matrix (by row-then-column order):\")\n",
        "for i in range(kernal_size):\n",
        "  b = []\n",
        "  for j in range(kernal_size):\n",
        "    b.append(int(input()))\n",
        "  kernal_mat.append(b)\n",
        "\n",
        "print(np.array(kernal_mat))\n",
        "\n",
        "print(conv2d_prime(np.array(input_mat),np.array(kernal_mat)))"
      ],
      "execution_count": 44,
      "outputs": [
        {
          "output_type": "stream",
          "text": [
            "Enter size n of input matrix (n x n):6\n",
            "Enter the entires input matrix (by row-then-column order):\n",
            "0\n",
            "1\n",
            "2\n",
            "3\n",
            "4\n",
            "5\n",
            "0\n",
            "1\n",
            "2\n",
            "3\n",
            "4\n",
            "5\n",
            "0\n",
            "1\n",
            "2\n",
            "3\n",
            "4\n",
            "5\n",
            "0\n",
            "1\n",
            "2\n",
            "3\n",
            "4\n",
            "5\n",
            "0\n",
            "1\n",
            "2\n",
            "3\n",
            "4\n",
            "5\n",
            "0\n",
            "1\n",
            "2\n",
            "3\n",
            "4\n",
            "5\n",
            "[[0 1 2 3 4 5]\n",
            " [0 1 2 3 4 5]\n",
            " [0 1 2 3 4 5]\n",
            " [0 1 2 3 4 5]\n",
            " [0 1 2 3 4 5]\n",
            " [0 1 2 3 4 5]]\n",
            "Enter size n of kernal matrix (m x m):3\n",
            "Enter the entires kernal matrix (by row-then-column order):\n",
            "1\n",
            "1\n",
            "1\n",
            "1\n",
            "1\n",
            "1\n",
            "1\n",
            "1\n",
            "1\n",
            "[[1 1 1]\n",
            " [1 1 1]\n",
            " [1 1 1]]\n",
            "[[ 9. 18. 27. 36.]\n",
            " [ 9. 18. 27. 36.]\n",
            " [ 9. 18. 27. 36.]\n",
            " [ 9. 18. 27. 36.]]\n"
          ],
          "name": "stdout"
        }
      ]
    }
  ]
}