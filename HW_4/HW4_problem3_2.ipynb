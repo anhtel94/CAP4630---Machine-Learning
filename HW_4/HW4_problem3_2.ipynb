{
  "nbformat": 4,
  "nbformat_minor": 0,
  "metadata": {
    "colab": {
      "name": "HW4-problem3-2.ipynb",
      "provenance": [],
      "collapsed_sections": [],
      "authorship_tag": "ABX9TyPZh/6yIcA9WbRj9pgnTxhC",
      "include_colab_link": true
    },
    "kernelspec": {
      "name": "python3",
      "display_name": "Python 3"
    }
  },
  "cells": [
    {
      "cell_type": "markdown",
      "metadata": {
        "id": "view-in-github",
        "colab_type": "text"
      },
      "source": [
        "<a href=\"https://colab.research.google.com/github/anhtel94/CAP4630---Machine-Learning/blob/master/HW_4/HW4_problem3_2.ipynb\" target=\"_parent\"><img src=\"https://colab.research.google.com/assets/colab-badge.svg\" alt=\"Open In Colab\"/></a>"
      ]
    },
    {
      "cell_type": "markdown",
      "metadata": {
        "id": "KKCv0lc3ie4j",
        "colab_type": "text"
      },
      "source": [
        "**Download the data**"
      ]
    },
    {
      "cell_type": "markdown",
      "metadata": {
        "id": "t3I1jd7cKV6_",
        "colab_type": "text"
      },
      "source": [
        "Download the example data, a zip. of 2,000 JPG pictures of cats and dogs and extract it locally in ```/tmp```.\n",
        "\n"
      ]
    },
    {
      "cell_type": "code",
      "metadata": {
        "id": "JWjprHEXJ5Qi",
        "colab_type": "code",
        "outputId": "2c6a114d-666a-4e30-b0f5-cb110c7e6040",
        "colab": {
          "base_uri": "https://localhost:8080/",
          "height": 224
        }
      },
      "source": [
        "!wget --no-check-certificate \\\n",
        "    https://storage.googleapis.com/mledu-datasets/cats_and_dogs_filtered.zip \\\n",
        "    -O /tmp/cats_and_dogs_filtered.zip"
      ],
      "execution_count": 7,
      "outputs": [
        {
          "output_type": "stream",
          "text": [
            "--2020-04-22 03:16:34--  https://storage.googleapis.com/mledu-datasets/cats_and_dogs_filtered.zip\n",
            "Resolving storage.googleapis.com (storage.googleapis.com)... 172.217.193.128, 2607:f8b0:400c:c07::80\n",
            "Connecting to storage.googleapis.com (storage.googleapis.com)|172.217.193.128|:443... connected.\n",
            "HTTP request sent, awaiting response... 200 OK\n",
            "Length: 68606236 (65M) [application/zip]\n",
            "Saving to: ‘/tmp/cats_and_dogs_filtered.zip’\n",
            "\n",
            "/tmp/cats_and_dogs_ 100%[===================>]  65.43M   103MB/s    in 0.6s    \n",
            "\n",
            "2020-04-22 03:16:35 (103 MB/s) - ‘/tmp/cats_and_dogs_filtered.zip’ saved [68606236/68606236]\n",
            "\n"
          ],
          "name": "stdout"
        }
      ]
    },
    {
      "cell_type": "code",
      "metadata": {
        "id": "WvoHtdA-K6Rw",
        "colab_type": "code",
        "colab": {}
      },
      "source": [
        "import os\n",
        "import zipfile\n",
        "\n",
        "local_zip = '/tmp/cats_and_dogs_filtered.zip'\n",
        "zip_ref = zipfile.ZipFile(local_zip, 'r')\n",
        "zip_ref.extractall('/tmp')\n",
        "zip_ref.close()"
      ],
      "execution_count": 0,
      "outputs": []
    },
    {
      "cell_type": "code",
      "metadata": {
        "id": "dL8ikM89LlsH",
        "colab_type": "code",
        "colab": {}
      },
      "source": [
        "base_dir = '/tmp/cats_and_dogs_filtered'\n",
        "train_dir = os.path.join(base_dir, 'train')\n",
        "validation_dir = os.path.join(base_dir, 'validation')\n",
        "\n",
        "# Directory with our training cat pictures\n",
        "train_cats_dir = os.path.join(train_dir, 'cats')\n",
        "\n",
        "# Directory with our training dog pictures\n",
        "train_dogs_dir = os.path.join(train_dir, 'dogs')\n",
        "\n",
        "# Directory with our validation cat pictures\n",
        "validation_cats_dir = os.path.join(validation_dir, 'cats')\n",
        "\n",
        "# Directory with our validation dog pictures\n",
        "validation_dogs_dir = os.path.join(validation_dir, 'dogs')"
      ],
      "execution_count": 0,
      "outputs": []
    },
    {
      "cell_type": "markdown",
      "metadata": {
        "id": "inyP8bcdXnn-",
        "colab_type": "text"
      },
      "source": [
        "## Build network with pre-trained convolution base and custom densely connected layers"
      ]
    },
    {
      "cell_type": "markdown",
      "metadata": {
        "id": "jHknKUD_jb-7",
        "colab_type": "text"
      },
      "source": [
        "Using: ResNet50v2"
      ]
    },
    {
      "cell_type": "markdown",
      "metadata": {
        "id": "kQ48W5T9rHWu",
        "colab_type": "text"
      },
      "source": [
        "### Load the convolutional base"
      ]
    },
    {
      "cell_type": "code",
      "metadata": {
        "id": "Y0FgtANCXm_H",
        "colab_type": "code",
        "colab": {}
      },
      "source": [
        "from keras.applications import VGG16\n",
        "from keras.applications import ResNet50V2\n",
        "\n",
        "conv_base = ResNet50V2(\n",
        "    weights='imagenet', \n",
        "    include_top=False, \n",
        "    input_shape=(150, 150, 3))"
      ],
      "execution_count": 0,
      "outputs": []
    },
    {
      "cell_type": "markdown",
      "metadata": {
        "id": "D6OBHOO9q1ou",
        "colab_type": "text"
      },
      "source": [
        "### Freeze the convolutional base"
      ]
    },
    {
      "cell_type": "code",
      "metadata": {
        "colab_type": "code",
        "id": "Xi3nxThuj1L2",
        "colab": {}
      },
      "source": [
        "conv_base.trainable = False"
      ],
      "execution_count": 0,
      "outputs": []
    },
    {
      "cell_type": "markdown",
      "metadata": {
        "id": "Qfx6PqhPrb7Q",
        "colab_type": "text"
      },
      "source": [
        "### Concatenate the convolutional base and densely connected layers"
      ]
    },
    {
      "cell_type": "code",
      "metadata": {
        "id": "qUpmocDAO3xm",
        "colab_type": "code",
        "colab": {}
      },
      "source": [
        "from keras import layers\n",
        "from keras import models\n",
        "from keras import optimizers\n",
        "\n",
        "model = models.Sequential()\n",
        "model.add(conv_base)\n",
        "model.add(layers.MaxPooling2D(2, 2))\n",
        "model.add(layers.Flatten())\n",
        "model.add(layers.Dense(256, activation='relu'))\n",
        "model.add(layers.Dense(128, activation='relu'))\n",
        "#model.add(layers.Dropout(0.1))\n",
        "model.add(layers.Dense(1, activation='sigmoid'))"
      ],
      "execution_count": 0,
      "outputs": []
    },
    {
      "cell_type": "code",
      "metadata": {
        "id": "Fh6gZSeAjF7c",
        "colab_type": "code",
        "outputId": "77fed1ac-292d-43e8-b161-15d491096570",
        "colab": {
          "base_uri": "https://localhost:8080/",
          "height": 357
        }
      },
      "source": [
        "model.summary()"
      ],
      "execution_count": 13,
      "outputs": [
        {
          "output_type": "stream",
          "text": [
            "Model: \"sequential_2\"\n",
            "_________________________________________________________________\n",
            "Layer (type)                 Output Shape              Param #   \n",
            "=================================================================\n",
            "resnet50v2 (Model)           (None, 5, 5, 2048)        23564800  \n",
            "_________________________________________________________________\n",
            "max_pooling2d_8 (MaxPooling2 (None, 2, 2, 2048)        0         \n",
            "_________________________________________________________________\n",
            "flatten_2 (Flatten)          (None, 8192)              0         \n",
            "_________________________________________________________________\n",
            "dense_1 (Dense)              (None, 256)               2097408   \n",
            "_________________________________________________________________\n",
            "dense_2 (Dense)              (None, 128)               32896     \n",
            "_________________________________________________________________\n",
            "dense_3 (Dense)              (None, 1)                 129       \n",
            "=================================================================\n",
            "Total params: 25,695,233\n",
            "Trainable params: 2,130,433\n",
            "Non-trainable params: 23,564,800\n",
            "_________________________________________________________________\n"
          ],
          "name": "stdout"
        }
      ]
    },
    {
      "cell_type": "markdown",
      "metadata": {
        "id": "eZjBiddhi5Qj",
        "colab_type": "text"
      },
      "source": [
        "## Train the model end to end with frozen convolutional base"
      ]
    },
    {
      "cell_type": "code",
      "metadata": {
        "id": "tfAQlC2Oi41L",
        "colab_type": "code",
        "outputId": "f1b4da93-cc79-4949-cdd1-14f9a6599d26",
        "colab": {
          "base_uri": "https://localhost:8080/",
          "height": 1000
        }
      },
      "source": [
        "from keras.preprocessing.image import ImageDataGenerator\n",
        "from keras import optimizers\n",
        "\n",
        "# data augmentation\n",
        "\n",
        "train_datagen = ImageDataGenerator(\n",
        "    rescale=1./255, \n",
        "    rotation_range=40,\n",
        "    width_shift_range=0.2,\n",
        "    height_shift_range=0.2,\n",
        "    shear_range=0.2,\n",
        "    zoom_range=0.2,\n",
        "    horizontal_flip=True,\n",
        "    fill_mode='nearest'\n",
        ")\n",
        "\n",
        "train_generator = train_datagen.flow_from_directory(\n",
        "    train_dir,\n",
        "    target_size=(150, 150),\n",
        "    batch_size=20,\n",
        "    class_mode='binary')\n",
        "\n",
        "validation_datagen = ImageDataGenerator(rescale=1./255)\n",
        "\n",
        "validation_generator = validation_datagen.flow_from_directory(\n",
        "    validation_dir,\n",
        "    target_size=(150, 150),\n",
        "    batch_size=20,\n",
        "    class_mode='binary')\n",
        "\n",
        "# compile model\n",
        "\n",
        "model.compile(\n",
        "    loss='binary_crossentropy', \n",
        "    optimizer=optimizers.RMSprop(lr=2e-5), \n",
        "    metrics=['acc'])\n",
        "\n",
        "# train\n",
        "\n",
        "history = model.fit_generator(\n",
        "    train_generator,\n",
        "    steps_per_epoch=100,\n",
        "    epochs=30,\n",
        "    validation_data=validation_generator,\n",
        "    validation_steps=50\n",
        ")"
      ],
      "execution_count": 14,
      "outputs": [
        {
          "output_type": "stream",
          "text": [
            "Found 2000 images belonging to 2 classes.\n",
            "Found 1000 images belonging to 2 classes.\n",
            "Epoch 1/30\n",
            "100/100 [==============================] - 235s 2s/step - loss: 0.6353 - acc: 0.6720 - val_loss: 0.2763 - val_acc: 0.9150\n",
            "Epoch 2/30\n",
            "100/100 [==============================] - 235s 2s/step - loss: 0.4579 - acc: 0.7795 - val_loss: 0.1959 - val_acc: 0.9310\n",
            "Epoch 3/30\n",
            "100/100 [==============================] - 235s 2s/step - loss: 0.4473 - acc: 0.7885 - val_loss: 0.0043 - val_acc: 0.9450\n",
            "Epoch 4/30\n",
            "100/100 [==============================] - 237s 2s/step - loss: 0.4004 - acc: 0.8185 - val_loss: 0.1028 - val_acc: 0.9520\n",
            "Epoch 5/30\n",
            "100/100 [==============================] - 237s 2s/step - loss: 0.3589 - acc: 0.8410 - val_loss: 0.2490 - val_acc: 0.9510\n",
            "Epoch 6/30\n",
            "100/100 [==============================] - 241s 2s/step - loss: 0.3854 - acc: 0.8240 - val_loss: 0.1570 - val_acc: 0.9540\n",
            "Epoch 7/30\n",
            "100/100 [==============================] - 247s 2s/step - loss: 0.3466 - acc: 0.8450 - val_loss: 0.4423 - val_acc: 0.9510\n",
            "Epoch 8/30\n",
            "100/100 [==============================] - 252s 3s/step - loss: 0.3496 - acc: 0.8395 - val_loss: 0.4759 - val_acc: 0.9530\n",
            "Epoch 9/30\n",
            "100/100 [==============================] - 252s 3s/step - loss: 0.3320 - acc: 0.8555 - val_loss: 0.1001 - val_acc: 0.9460\n",
            "Epoch 10/30\n",
            "100/100 [==============================] - 247s 2s/step - loss: 0.3323 - acc: 0.8645 - val_loss: 0.3681 - val_acc: 0.9530\n",
            "Epoch 11/30\n",
            "100/100 [==============================] - 250s 2s/step - loss: 0.3402 - acc: 0.8485 - val_loss: 0.1468 - val_acc: 0.9510\n",
            "Epoch 12/30\n",
            "100/100 [==============================] - 246s 2s/step - loss: 0.3301 - acc: 0.8570 - val_loss: 2.6298e-04 - val_acc: 0.9540\n",
            "Epoch 13/30\n",
            "100/100 [==============================] - 248s 2s/step - loss: 0.3196 - acc: 0.8620 - val_loss: 0.1652 - val_acc: 0.9550\n",
            "Epoch 14/30\n",
            "100/100 [==============================] - 244s 2s/step - loss: 0.3087 - acc: 0.8600 - val_loss: 0.0053 - val_acc: 0.9540\n",
            "Epoch 15/30\n",
            "100/100 [==============================] - 243s 2s/step - loss: 0.2984 - acc: 0.8665 - val_loss: 0.1263 - val_acc: 0.9550\n",
            "Epoch 16/30\n",
            "100/100 [==============================] - 246s 2s/step - loss: 0.3120 - acc: 0.8620 - val_loss: 0.1483 - val_acc: 0.9580\n",
            "Epoch 17/30\n",
            "100/100 [==============================] - 254s 3s/step - loss: 0.3200 - acc: 0.8595 - val_loss: 0.0213 - val_acc: 0.9580\n",
            "Epoch 18/30\n",
            "100/100 [==============================] - 244s 2s/step - loss: 0.3127 - acc: 0.8705 - val_loss: 0.0021 - val_acc: 0.9580\n",
            "Epoch 19/30\n",
            "100/100 [==============================] - 245s 2s/step - loss: 0.3004 - acc: 0.8700 - val_loss: 0.1206 - val_acc: 0.9580\n",
            "Epoch 20/30\n",
            "100/100 [==============================] - 248s 2s/step - loss: 0.3063 - acc: 0.8700 - val_loss: 0.0056 - val_acc: 0.9620\n",
            "Epoch 21/30\n",
            "100/100 [==============================] - 248s 2s/step - loss: 0.2957 - acc: 0.8710 - val_loss: 0.0011 - val_acc: 0.9600\n",
            "Epoch 22/30\n",
            "100/100 [==============================] - 254s 3s/step - loss: 0.2967 - acc: 0.8725 - val_loss: 0.0418 - val_acc: 0.9530\n",
            "Epoch 23/30\n",
            "100/100 [==============================] - 255s 3s/step - loss: 0.3052 - acc: 0.8690 - val_loss: 0.5575 - val_acc: 0.9570\n",
            "Epoch 24/30\n",
            "100/100 [==============================] - 265s 3s/step - loss: 0.2789 - acc: 0.8700 - val_loss: 0.0160 - val_acc: 0.9550\n",
            "Epoch 25/30\n",
            "100/100 [==============================] - 259s 3s/step - loss: 0.2449 - acc: 0.8925 - val_loss: 0.0510 - val_acc: 0.9560\n",
            "Epoch 26/30\n",
            "100/100 [==============================] - 251s 3s/step - loss: 0.2512 - acc: 0.8875 - val_loss: 0.3372 - val_acc: 0.9560\n",
            "Epoch 27/30\n",
            "100/100 [==============================] - 249s 2s/step - loss: 0.2766 - acc: 0.8870 - val_loss: 0.3406 - val_acc: 0.9600\n",
            "Epoch 28/30\n",
            "100/100 [==============================] - 248s 2s/step - loss: 0.2659 - acc: 0.8870 - val_loss: 1.3219e-06 - val_acc: 0.9570\n",
            "Epoch 29/30\n",
            "100/100 [==============================] - 254s 3s/step - loss: 0.2614 - acc: 0.8895 - val_loss: 9.0018e-05 - val_acc: 0.9560\n",
            "Epoch 30/30\n",
            "100/100 [==============================] - 257s 3s/step - loss: 0.2642 - acc: 0.8840 - val_loss: 0.0458 - val_acc: 0.9620\n"
          ],
          "name": "stdout"
        }
      ]
    },
    {
      "cell_type": "markdown",
      "metadata": {
        "id": "xqRc_vHKc92U",
        "colab_type": "text"
      },
      "source": [
        "## Display curves of loss and accuracy during training"
      ]
    },
    {
      "cell_type": "code",
      "metadata": {
        "id": "ybWwdzz9bwuQ",
        "colab_type": "code",
        "colab": {
          "base_uri": "https://localhost:8080/",
          "height": 545
        },
        "outputId": "65c295be-1043-4119-ac47-1ce209cfe937"
      },
      "source": [
        "%matplotlib inline\n",
        "\n",
        "import matplotlib.pyplot as plt\n",
        "\n",
        "acc = history.history['acc']\n",
        "val_acc = history.history['val_acc']\n",
        "\n",
        "loss = history.history['loss']\n",
        "val_loss = history.history['val_loss']\n",
        "\n",
        "epochs = range(1, len(acc) + 1)\n",
        "\n",
        "# training and validation accuracy\n",
        "\n",
        "plt.plot(epochs, acc, 'bo', label='training acc')\n",
        "plt.plot(epochs, val_acc, 'b', label='validation acc')\n",
        "plt.title('training and validation accuracy')\n",
        "plt.legend()\n",
        "\n",
        "plt.figure()\n",
        "\n",
        "# training and validation loss\n",
        "\n",
        "plt.plot(epochs, loss, 'bo', label='training loss')\n",
        "plt.plot(epochs, val_loss, 'b', label='validation loss')\n",
        "plt.title('training and validation loss')\n",
        "plt.legend()\n",
        "\n",
        "plt.show()"
      ],
      "execution_count": 15,
      "outputs": [
        {
          "output_type": "display_data",
          "data": {
            "image/png": "[encoded data removed]",
            "text/plain": [
              "<Figure size 432x288 with 1 Axes>"
            ]
          },
          "metadata": {
            "tags": [],
            "needs_background": "light"
          }
        },
        {
          "output_type": "display_data",
          "data": {
            "image/png": "[encoded data removed]",
            "text/plain": [
              "<Figure size 432x288 with 1 Axes>"
            ]
          },
          "metadata": {
            "tags": [],
            "needs_background": "light"
          }
        }
      ]
    },
    {
      "cell_type": "markdown",
      "metadata": {
        "id": "lOWsxpey8lN0",
        "colab_type": "text"
      },
      "source": [
        "## Fine-tuning"
      ]
    },
    {
      "cell_type": "code",
      "metadata": {
        "id": "PwkVMx8N8qMw",
        "colab_type": "code",
        "colab": {}
      },
      "source": [
        "conv_base.trainable = True\n",
        "\n",
        "set_trainable = False\n",
        "for layer in conv_base.layers:\n",
        "  if layer.name == 'block5_conv1':\n",
        "    set_trainable = True\n",
        "  if set_trainable:\n",
        "    layer.trainable = True\n",
        "  else:\n",
        "    layer.trainable = False"
      ],
      "execution_count": 0,
      "outputs": []
    },
    {
      "cell_type": "code",
      "metadata": {
        "id": "DyN-J7rs9cvo",
        "colab_type": "code",
        "colab": {
          "base_uri": "https://localhost:8080/",
          "height": 1000
        },
        "outputId": "4bf2e898-411f-4557-de97-bf8547f0533b"
      },
      "source": [
        "# compile model\n",
        "\n",
        "model.compile(\n",
        "    loss='binary_crossentropy',\n",
        "    #\n",
        "    # choose a smaller learning rate\n",
        "    #\n",
        "    optimizer=optimizers.RMSprop(lr=1e-5), \n",
        "    metrics=['acc'])\n",
        "\n",
        "# train\n",
        "\n",
        "history = model.fit_generator(\n",
        "    train_generator,\n",
        "    steps_per_epoch=100,\n",
        "    epochs=100,\n",
        "    validation_data=validation_generator,\n",
        "    validation_steps=50)"
      ],
      "execution_count": 17,
      "outputs": [
        {
          "output_type": "stream",
          "text": [
            "Epoch 1/100\n",
            "100/100 [==============================] - 263s 3s/step - loss: 0.2739 - acc: 0.8770 - val_loss: 0.2164 - val_acc: 0.9240\n",
            "Epoch 2/100\n",
            "100/100 [==============================] - 258s 3s/step - loss: 0.2945 - acc: 0.8745 - val_loss: 0.3176 - val_acc: 0.9210\n",
            "Epoch 3/100\n",
            "100/100 [==============================] - 253s 3s/step - loss: 0.2546 - acc: 0.8970 - val_loss: 0.2647 - val_acc: 0.9220\n",
            "Epoch 4/100\n",
            "100/100 [==============================] - 246s 2s/step - loss: 0.2494 - acc: 0.8880 - val_loss: 0.1744 - val_acc: 0.9230\n",
            "Epoch 5/100\n",
            "100/100 [==============================] - 246s 2s/step - loss: 0.2471 - acc: 0.8955 - val_loss: 0.0994 - val_acc: 0.9240\n",
            "Epoch 6/100\n",
            "100/100 [==============================] - 242s 2s/step - loss: 0.2529 - acc: 0.8880 - val_loss: 0.0653 - val_acc: 0.9240\n",
            "Epoch 7/100\n",
            "100/100 [==============================] - 245s 2s/step - loss: 0.2539 - acc: 0.8895 - val_loss: 0.0931 - val_acc: 0.9220\n",
            "Epoch 8/100\n",
            "100/100 [==============================] - 251s 3s/step - loss: 0.2429 - acc: 0.8985 - val_loss: 0.1183 - val_acc: 0.9260\n",
            "Epoch 9/100\n",
            "100/100 [==============================] - 251s 3s/step - loss: 0.2431 - acc: 0.9040 - val_loss: 0.0402 - val_acc: 0.9250\n",
            "Epoch 10/100\n",
            "100/100 [==============================] - 246s 2s/step - loss: 0.2532 - acc: 0.8900 - val_loss: 0.1939 - val_acc: 0.9240\n",
            "Epoch 11/100\n",
            "100/100 [==============================] - 239s 2s/step - loss: 0.2515 - acc: 0.8925 - val_loss: 0.1575 - val_acc: 0.9200\n",
            "Epoch 12/100\n",
            "100/100 [==============================] - 241s 2s/step - loss: 0.2379 - acc: 0.8975 - val_loss: 0.0507 - val_acc: 0.9250\n",
            "Epoch 13/100\n",
            "100/100 [==============================] - 244s 2s/step - loss: 0.2319 - acc: 0.9015 - val_loss: 0.0848 - val_acc: 0.9230\n",
            "Epoch 14/100\n",
            "100/100 [==============================] - 240s 2s/step - loss: 0.2268 - acc: 0.9020 - val_loss: 0.3675 - val_acc: 0.9220\n",
            "Epoch 15/100\n",
            "100/100 [==============================] - 241s 2s/step - loss: 0.2647 - acc: 0.8855 - val_loss: 0.2695 - val_acc: 0.9250\n",
            "Epoch 16/100\n",
            "100/100 [==============================] - 245s 2s/step - loss: 0.2497 - acc: 0.8915 - val_loss: 0.0438 - val_acc: 0.9250\n",
            "Epoch 17/100\n",
            "100/100 [==============================] - 245s 2s/step - loss: 0.2525 - acc: 0.8895 - val_loss: 0.0282 - val_acc: 0.9230\n",
            "Epoch 18/100\n",
            "100/100 [==============================] - 243s 2s/step - loss: 0.2403 - acc: 0.8930 - val_loss: 0.4263 - val_acc: 0.9230\n",
            "Epoch 19/100\n",
            "100/100 [==============================] - 242s 2s/step - loss: 0.2415 - acc: 0.9020 - val_loss: 0.0217 - val_acc: 0.9240\n",
            "Epoch 20/100\n",
            "100/100 [==============================] - 240s 2s/step - loss: 0.2705 - acc: 0.8855 - val_loss: 0.2505 - val_acc: 0.9260\n",
            "Epoch 21/100\n",
            "100/100 [==============================] - 244s 2s/step - loss: 0.2566 - acc: 0.8985 - val_loss: 0.2812 - val_acc: 0.9200\n",
            "Epoch 22/100\n",
            "100/100 [==============================] - 240s 2s/step - loss: 0.2319 - acc: 0.8970 - val_loss: 0.0542 - val_acc: 0.9220\n",
            "Epoch 23/100\n",
            "100/100 [==============================] - 239s 2s/step - loss: 0.2154 - acc: 0.9065 - val_loss: 0.3130 - val_acc: 0.9250\n",
            "Epoch 24/100\n",
            "100/100 [==============================] - 238s 2s/step - loss: 0.2453 - acc: 0.8935 - val_loss: 0.0485 - val_acc: 0.9300\n",
            "Epoch 25/100\n",
            "100/100 [==============================] - 239s 2s/step - loss: 0.2422 - acc: 0.8990 - val_loss: 0.1888 - val_acc: 0.9200\n",
            "Epoch 26/100\n",
            "100/100 [==============================] - 241s 2s/step - loss: 0.2560 - acc: 0.8850 - val_loss: 0.0112 - val_acc: 0.9280\n",
            "Epoch 27/100\n",
            "100/100 [==============================] - 244s 2s/step - loss: 0.2204 - acc: 0.9125 - val_loss: 0.0444 - val_acc: 0.9210\n",
            "Epoch 28/100\n",
            "100/100 [==============================] - 242s 2s/step - loss: 0.2614 - acc: 0.8910 - val_loss: 0.0698 - val_acc: 0.9300\n",
            "Epoch 29/100\n",
            "100/100 [==============================] - 243s 2s/step - loss: 0.2429 - acc: 0.8905 - val_loss: 0.1956 - val_acc: 0.9290\n",
            "Epoch 30/100\n",
            "100/100 [==============================] - 243s 2s/step - loss: 0.2192 - acc: 0.9010 - val_loss: 0.1797 - val_acc: 0.9270\n",
            "Epoch 31/100\n",
            "100/100 [==============================] - 242s 2s/step - loss: 0.2225 - acc: 0.9085 - val_loss: 0.1608 - val_acc: 0.9270\n",
            "Epoch 32/100\n",
            "100/100 [==============================] - 242s 2s/step - loss: 0.2115 - acc: 0.9115 - val_loss: 0.5447 - val_acc: 0.9270\n",
            "Epoch 33/100\n",
            "100/100 [==============================] - 244s 2s/step - loss: 0.2328 - acc: 0.9030 - val_loss: 0.0197 - val_acc: 0.9200\n",
            "Epoch 34/100\n",
            "100/100 [==============================] - 246s 2s/step - loss: 0.2328 - acc: 0.9005 - val_loss: 0.1047 - val_acc: 0.9270\n",
            "Epoch 35/100\n",
            "100/100 [==============================] - 244s 2s/step - loss: 0.2362 - acc: 0.8960 - val_loss: 0.0109 - val_acc: 0.9280\n",
            "Epoch 36/100\n",
            "100/100 [==============================] - 245s 2s/step - loss: 0.2136 - acc: 0.9065 - val_loss: 0.3557 - val_acc: 0.9230\n",
            "Epoch 37/100\n",
            "100/100 [==============================] - 245s 2s/step - loss: 0.2238 - acc: 0.9120 - val_loss: 0.4284 - val_acc: 0.9200\n",
            "Epoch 38/100\n",
            "100/100 [==============================] - 244s 2s/step - loss: 0.2170 - acc: 0.9090 - val_loss: 0.1185 - val_acc: 0.9250\n",
            "Epoch 39/100\n",
            "100/100 [==============================] - 243s 2s/step - loss: 0.2152 - acc: 0.9190 - val_loss: 0.0095 - val_acc: 0.9300\n",
            "Epoch 40/100\n",
            "100/100 [==============================] - 244s 2s/step - loss: 0.2174 - acc: 0.9115 - val_loss: 0.0996 - val_acc: 0.9280\n",
            "Epoch 41/100\n",
            "100/100 [==============================] - 247s 2s/step - loss: 0.2193 - acc: 0.9070 - val_loss: 0.0072 - val_acc: 0.9230\n",
            "Epoch 42/100\n",
            "100/100 [==============================] - 250s 3s/step - loss: 0.2261 - acc: 0.9070 - val_loss: 0.4332 - val_acc: 0.9230\n",
            "Epoch 43/100\n",
            "100/100 [==============================] - 244s 2s/step - loss: 0.2128 - acc: 0.9105 - val_loss: 0.0842 - val_acc: 0.9270\n",
            "Epoch 44/100\n",
            "100/100 [==============================] - 245s 2s/step - loss: 0.2167 - acc: 0.9100 - val_loss: 0.4251 - val_acc: 0.9290\n",
            "Epoch 45/100\n",
            "100/100 [==============================] - 248s 2s/step - loss: 0.2264 - acc: 0.9035 - val_loss: 0.4515 - val_acc: 0.9260\n",
            "Epoch 46/100\n",
            "100/100 [==============================] - 246s 2s/step - loss: 0.2080 - acc: 0.9100 - val_loss: 0.2468 - val_acc: 0.9320\n",
            "Epoch 47/100\n",
            "100/100 [==============================] - 250s 3s/step - loss: 0.2243 - acc: 0.8985 - val_loss: 0.4042 - val_acc: 0.9270\n",
            "Epoch 48/100\n",
            "100/100 [==============================] - 246s 2s/step - loss: 0.2125 - acc: 0.9165 - val_loss: 0.0190 - val_acc: 0.9240\n",
            "Epoch 49/100\n",
            "100/100 [==============================] - 245s 2s/step - loss: 0.2095 - acc: 0.9185 - val_loss: 0.0651 - val_acc: 0.9270\n",
            "Epoch 50/100\n",
            "100/100 [==============================] - 250s 3s/step - loss: 0.2103 - acc: 0.9140 - val_loss: 0.3564 - val_acc: 0.9220\n",
            "Epoch 51/100\n",
            "100/100 [==============================] - 250s 2s/step - loss: 0.2228 - acc: 0.9110 - val_loss: 0.3292 - val_acc: 0.9320\n",
            "Epoch 52/100\n",
            "100/100 [==============================] - 243s 2s/step - loss: 0.2175 - acc: 0.9105 - val_loss: 0.3989 - val_acc: 0.9290\n",
            "Epoch 53/100\n",
            "100/100 [==============================] - 243s 2s/step - loss: 0.2279 - acc: 0.8995 - val_loss: 0.3376 - val_acc: 0.9270\n",
            "Epoch 54/100\n",
            "100/100 [==============================] - 244s 2s/step - loss: 0.2122 - acc: 0.9145 - val_loss: 0.1353 - val_acc: 0.9260\n",
            "Epoch 55/100\n",
            "100/100 [==============================] - 244s 2s/step - loss: 0.2383 - acc: 0.8990 - val_loss: 0.0652 - val_acc: 0.9260\n",
            "Epoch 56/100\n",
            "100/100 [==============================] - 245s 2s/step - loss: 0.2185 - acc: 0.9045 - val_loss: 0.0691 - val_acc: 0.9260\n",
            "Epoch 57/100\n",
            "100/100 [==============================] - 245s 2s/step - loss: 0.2286 - acc: 0.9070 - val_loss: 0.1699 - val_acc: 0.9280\n",
            "Epoch 58/100\n",
            "100/100 [==============================] - 250s 3s/step - loss: 0.2150 - acc: 0.9160 - val_loss: 0.0898 - val_acc: 0.9270\n",
            "Epoch 59/100\n",
            "100/100 [==============================] - 245s 2s/step - loss: 0.2180 - acc: 0.9075 - val_loss: 0.1476 - val_acc: 0.9250\n",
            "Epoch 60/100\n",
            "100/100 [==============================] - 244s 2s/step - loss: 0.2149 - acc: 0.9090 - val_loss: 0.0318 - val_acc: 0.9270\n",
            "Epoch 61/100\n",
            "100/100 [==============================] - 245s 2s/step - loss: 0.2147 - acc: 0.9075 - val_loss: 0.1532 - val_acc: 0.9270\n",
            "Epoch 62/100\n",
            "100/100 [==============================] - 245s 2s/step - loss: 0.2036 - acc: 0.9155 - val_loss: 0.1392 - val_acc: 0.9260\n",
            "Epoch 63/100\n",
            "100/100 [==============================] - 249s 2s/step - loss: 0.2174 - acc: 0.9095 - val_loss: 0.1962 - val_acc: 0.9290\n",
            "Epoch 64/100\n",
            "100/100 [==============================] - 248s 2s/step - loss: 0.2022 - acc: 0.9170 - val_loss: 0.0140 - val_acc: 0.9260\n",
            "Epoch 65/100\n",
            "100/100 [==============================] - 248s 2s/step - loss: 0.2155 - acc: 0.9135 - val_loss: 0.0912 - val_acc: 0.9280\n",
            "Epoch 66/100\n",
            "100/100 [==============================] - 243s 2s/step - loss: 0.2113 - acc: 0.9185 - val_loss: 0.1052 - val_acc: 0.9270\n",
            "Epoch 67/100\n",
            "100/100 [==============================] - 242s 2s/step - loss: 0.2059 - acc: 0.9100 - val_loss: 0.5942 - val_acc: 0.9270\n",
            "Epoch 68/100\n",
            "100/100 [==============================] - 248s 2s/step - loss: 0.2248 - acc: 0.9075 - val_loss: 0.0813 - val_acc: 0.9210\n",
            "Epoch 69/100\n",
            "100/100 [==============================] - 251s 3s/step - loss: 0.1997 - acc: 0.9125 - val_loss: 0.0450 - val_acc: 0.9240\n",
            "Epoch 70/100\n",
            "100/100 [==============================] - 248s 2s/step - loss: 0.2122 - acc: 0.9045 - val_loss: 0.0960 - val_acc: 0.9270\n",
            "Epoch 71/100\n",
            "100/100 [==============================] - 248s 2s/step - loss: 0.1979 - acc: 0.9220 - val_loss: 0.0657 - val_acc: 0.9260\n",
            "Epoch 72/100\n",
            "100/100 [==============================] - 248s 2s/step - loss: 0.2067 - acc: 0.9085 - val_loss: 0.1985 - val_acc: 0.9270\n",
            "Epoch 73/100\n",
            "100/100 [==============================] - 245s 2s/step - loss: 0.2059 - acc: 0.9185 - val_loss: 0.1263 - val_acc: 0.9300\n",
            "Epoch 74/100\n",
            "100/100 [==============================] - 243s 2s/step - loss: 0.2056 - acc: 0.9185 - val_loss: 0.2741 - val_acc: 0.9290\n",
            "Epoch 75/100\n",
            "100/100 [==============================] - 245s 2s/step - loss: 0.2156 - acc: 0.9180 - val_loss: 0.0639 - val_acc: 0.9300\n",
            "Epoch 76/100\n",
            "100/100 [==============================] - 245s 2s/step - loss: 0.1997 - acc: 0.9105 - val_loss: 0.1987 - val_acc: 0.9260\n",
            "Epoch 77/100\n",
            "100/100 [==============================] - 247s 2s/step - loss: 0.1833 - acc: 0.9280 - val_loss: 0.0931 - val_acc: 0.9270\n",
            "Epoch 78/100\n",
            "100/100 [==============================] - 251s 3s/step - loss: 0.2027 - acc: 0.9145 - val_loss: 0.1059 - val_acc: 0.9230\n",
            "Epoch 79/100\n",
            "100/100 [==============================] - 251s 3s/step - loss: 0.2308 - acc: 0.9080 - val_loss: 0.1855 - val_acc: 0.9250\n",
            "Epoch 80/100\n",
            "100/100 [==============================] - 250s 2s/step - loss: 0.1998 - acc: 0.9120 - val_loss: 0.4341 - val_acc: 0.9200\n",
            "Epoch 81/100\n",
            "100/100 [==============================] - 251s 3s/step - loss: 0.2076 - acc: 0.9060 - val_loss: 0.3650 - val_acc: 0.9260\n",
            "Epoch 82/100\n",
            "100/100 [==============================] - 246s 2s/step - loss: 0.1813 - acc: 0.9245 - val_loss: 0.0106 - val_acc: 0.9290\n",
            "Epoch 83/100\n",
            "100/100 [==============================] - 245s 2s/step - loss: 0.2042 - acc: 0.9110 - val_loss: 0.5962 - val_acc: 0.9300\n",
            "Epoch 84/100\n",
            "100/100 [==============================] - 243s 2s/step - loss: 0.2001 - acc: 0.9160 - val_loss: 0.1735 - val_acc: 0.9310\n",
            "Epoch 85/100\n",
            "100/100 [==============================] - 243s 2s/step - loss: 0.1796 - acc: 0.9305 - val_loss: 0.2648 - val_acc: 0.9290\n",
            "Epoch 86/100\n",
            "100/100 [==============================] - 246s 2s/step - loss: 0.1983 - acc: 0.9145 - val_loss: 0.0125 - val_acc: 0.9310\n",
            "Epoch 87/100\n",
            "100/100 [==============================] - 252s 3s/step - loss: 0.2006 - acc: 0.9175 - val_loss: 0.1487 - val_acc: 0.9250\n",
            "Epoch 88/100\n",
            "100/100 [==============================] - 247s 2s/step - loss: 0.1891 - acc: 0.9215 - val_loss: 0.0753 - val_acc: 0.9230\n",
            "Epoch 89/100\n",
            "100/100 [==============================] - 246s 2s/step - loss: 0.2096 - acc: 0.9125 - val_loss: 0.1693 - val_acc: 0.9260\n",
            "Epoch 90/100\n",
            "100/100 [==============================] - 252s 3s/step - loss: 0.1896 - acc: 0.9210 - val_loss: 0.0201 - val_acc: 0.9310\n",
            "Epoch 91/100\n",
            "100/100 [==============================] - 247s 2s/step - loss: 0.1864 - acc: 0.9210 - val_loss: 0.3337 - val_acc: 0.9270\n",
            "Epoch 92/100\n",
            "100/100 [==============================] - 247s 2s/step - loss: 0.1908 - acc: 0.9210 - val_loss: 0.0340 - val_acc: 0.9250\n",
            "Epoch 93/100\n",
            "100/100 [==============================] - 247s 2s/step - loss: 0.2084 - acc: 0.9220 - val_loss: 0.6467 - val_acc: 0.9290\n",
            "Epoch 94/100\n",
            "100/100 [==============================] - 247s 2s/step - loss: 0.2005 - acc: 0.9210 - val_loss: 0.2572 - val_acc: 0.9300\n",
            "Epoch 95/100\n",
            "100/100 [==============================] - 247s 2s/step - loss: 0.1904 - acc: 0.9125 - val_loss: 0.0284 - val_acc: 0.9280\n",
            "Epoch 96/100\n",
            "100/100 [==============================] - 248s 2s/step - loss: 0.1813 - acc: 0.9305 - val_loss: 0.1199 - val_acc: 0.9310\n",
            "Epoch 97/100\n",
            "100/100 [==============================] - 253s 3s/step - loss: 0.1874 - acc: 0.9185 - val_loss: 0.1615 - val_acc: 0.9300\n",
            "Epoch 98/100\n",
            "100/100 [==============================] - 252s 3s/step - loss: 0.2040 - acc: 0.9190 - val_loss: 0.1013 - val_acc: 0.9300\n",
            "Epoch 99/100\n",
            "100/100 [==============================] - 253s 3s/step - loss: 0.2020 - acc: 0.9165 - val_loss: 0.0023 - val_acc: 0.9290\n",
            "Epoch 100/100\n",
            "100/100 [==============================] - 253s 3s/step - loss: 0.1976 - acc: 0.9185 - val_loss: 0.0193 - val_acc: 0.9320\n"
          ],
          "name": "stdout"
        }
      ]
    },
    {
      "cell_type": "markdown",
      "metadata": {
        "id": "eVBQgh5M-Rtz",
        "colab_type": "text"
      },
      "source": [
        "## Display learning curves during fine-tuning"
      ]
    },
    {
      "cell_type": "code",
      "metadata": {
        "id": "mbkIw7Ie-NP4",
        "colab_type": "code",
        "colab": {
          "base_uri": "https://localhost:8080/",
          "height": 545
        },
        "outputId": "427b605f-6fea-447e-95b2-88d7ea826918"
      },
      "source": [
        "%matplotlib inline\n",
        "\n",
        "import matplotlib.pyplot as plt\n",
        "\n",
        "acc = history.history['acc']\n",
        "val_acc = history.history['val_acc']\n",
        "\n",
        "loss = history.history['loss']\n",
        "val_loss = history.history['val_loss']\n",
        "\n",
        "epochs = range(1, len(acc) + 1)\n",
        "\n",
        "# training and validation accuracy\n",
        "\n",
        "plt.plot(epochs, acc, 'bo', label='training acc')\n",
        "plt.plot(epochs, val_acc, 'b', label='validation acc')\n",
        "plt.title('training and validation accuracy')\n",
        "plt.legend()\n",
        "\n",
        "plt.figure()\n",
        "\n",
        "# training and validation loss\n",
        "\n",
        "plt.plot(epochs, loss, 'bo', label='training loss')\n",
        "plt.plot(epochs, val_loss, 'b', label='validation loss')\n",
        "plt.title('training and validation loss')\n",
        "plt.legend()\n",
        "\n",
        "plt.show()"
      ],
      "execution_count": 18,
      "outputs": [
        {
          "output_type": "display_data",
          "data": {
            "image/png": "[encoded data removed]",
            "text/plain": [
              "<Figure size 432x288 with 1 Axes>"
            ]
          },
          "metadata": {
            "tags": [],
            "needs_background": "light"
          }
        },
        {
          "output_type": "display_data",
          "data": {
            "image/png": "[encoded data removed]",
            "text/plain": [
              "<Figure size 432x288 with 1 Axes>"
            ]
          },
          "metadata": {
            "tags": [],
            "needs_background": "light"
          }
        }
      ]
    },
    {
      "cell_type": "markdown",
      "metadata": {
        "id": "he3Nw6TOJwjx",
        "colab_type": "text"
      },
      "source": [
        "## Print out validation loss and accuracy"
      ]
    },
    {
      "cell_type": "code",
      "metadata": {
        "id": "SVQtrk7uJdhl",
        "colab_type": "code",
        "colab": {}
      },
      "source": [
        "val_loss, val_acc = model.evaluate_generator(validation_generator, steps=50)"
      ],
      "execution_count": 0,
      "outputs": []
    },
    {
      "cell_type": "code",
      "metadata": {
        "id": "HpdddLi1SUMe",
        "colab_type": "code",
        "colab": {
          "base_uri": "https://localhost:8080/",
          "height": 51
        },
        "outputId": "7d333dc0-fc9e-43a6-db73-bf6f3f90638e"
      },
      "source": [
        "print(\"Validation loss:\", val_loss)\n",
        "print(\"Validation accuracy:\", val_acc)"
      ],
      "execution_count": 20,
      "outputs": [
        {
          "output_type": "stream",
          "text": [
            "Validation loss: 0.10225609689950943\n",
            "Validation accuracy: 0.9319999814033508\n"
          ],
          "name": "stdout"
        }
      ]
    },
    {
      "cell_type": "markdown",
      "metadata": {
        "id": "7Ww756WToby8",
        "colab_type": "text"
      },
      "source": [
        "## Save the model"
      ]
    },
    {
      "cell_type": "code",
      "metadata": {
        "id": "0lTUpUdwobKW",
        "colab_type": "code",
        "colab": {}
      },
      "source": [
        "model_fname = 'cats_and_dogs_small_4.h5' \n",
        "model.save(model_fname)"
      ],
      "execution_count": 0,
      "outputs": []
    },
    {
      "cell_type": "code",
      "metadata": {
        "id": "YhEoI8ZTok-X",
        "colab_type": "code",
        "colab": {}
      },
      "source": [
        "from google.colab import files\n",
        "\n",
        "with open(model_fname, 'r') as f:\n",
        "  files.download(model_fname)"
      ],
      "execution_count": 0,
      "outputs": []
    }
  ]
}