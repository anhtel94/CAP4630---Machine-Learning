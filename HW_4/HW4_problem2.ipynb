{
  "nbformat": 4,
  "nbformat_minor": 0,
  "metadata": {
    "colab": {
      "name": "HW4-problem2.ipynb",
      "provenance": [],
      "collapsed_sections": [],
      "authorship_tag": "ABX9TyPzJDl+RvCRvTYB2YzlGihK",
      "include_colab_link": true
    },
    "kernelspec": {
      "name": "python3",
      "display_name": "Python 3"
    }
  },
  "cells": [
    {
      "cell_type": "markdown",
      "metadata": {
        "id": "view-in-github",
        "colab_type": "text"
      },
      "source": [
        "<a href=\"https://colab.research.google.com/github/anhtel94/CAP4630---Machine-Learning/blob/master/HW_4/HW4_problem2.ipynb\" target=\"_parent\"><img src=\"https://colab.research.google.com/assets/colab-badge.svg\" alt=\"Open In Colab\"/></a>"
      ]
    },
    {
      "cell_type": "code",
      "metadata": {
        "id": "S4_zqE_J_yC1",
        "colab_type": "code",
        "colab": {
          "base_uri": "https://localhost:8080/",
          "height": 850
        },
        "outputId": "d69890c4-69e8-40ea-8c65-0bde3e68b399"
      },
      "source": [
        "import numpy as np\n",
        "import math\n",
        "\n",
        "def maxpooling2d_prime(input_mat, s):\n",
        "  input_size = len(input_mat)\n",
        "  if s > input_size:\n",
        "    raise Exception('Size of input matrix must bigger than s')\n",
        "  size = math.ceil(input_size / s)\n",
        "  output_mat = np.zeros((size, size))\n",
        "\n",
        "  for i in range(size):\n",
        "    for j in range(size):\n",
        "      ##print(input_mat[i:(i+s), j:(j+s)])\n",
        "      output_mat[i][j] = np.max([input_mat[(i*s):(i*s+s), (j*s):(j*s+s)]])\n",
        "  return output_mat\n",
        "\n",
        "input_size = int(input(\"Enter size n of input matrix (n x n):\"))\n",
        "input_mat = []\n",
        "print(\"Enter the entires input matrix (by row-then-column order):\")\n",
        "for i in range(input_size):\n",
        "  a = []\n",
        "  for j in range(input_size):\n",
        "    a.append(int(input()))\n",
        "  input_mat.append(a)\n",
        "\n",
        "print(np.array(input_mat))\n",
        "\n",
        "s = int(input(\"Enter size s:\"))\n",
        "\n",
        "print(s)\n",
        "\n",
        "print(maxpooling2d_prime(np.array(input_mat), s))"
      ],
      "execution_count": 6,
      "outputs": [
        {
          "output_type": "stream",
          "text": [
            "Enter size n of input matrix (n x n):6\n",
            "Enter the entires input matrix (by row-then-column order):\n",
            "1\n",
            "2\n",
            "1\n",
            "2\n",
            "4\n",
            "5\n",
            "2\n",
            "4\n",
            "2\n",
            "1\n",
            "0\n",
            "3\n",
            "1\n",
            "2\n",
            "4\n",
            "2\n",
            "4\n",
            "5\n",
            "2\n",
            "1\n",
            "2\n",
            "1\n",
            "2\n",
            "1\n",
            "1\n",
            "1\n",
            "2\n",
            "3\n",
            "1\n",
            "2\n",
            "1\n",
            "1\n",
            "2\n",
            "3\n",
            "1\n",
            "2\n",
            "[[1 2 1 2 4 5]\n",
            " [2 4 2 1 0 3]\n",
            " [1 2 4 2 4 5]\n",
            " [2 1 2 1 2 1]\n",
            " [1 1 2 3 1 2]\n",
            " [1 1 2 3 1 2]]\n",
            "Enter size s:2\n",
            "2\n",
            "[[4. 2. 5.]\n",
            " [2. 4. 5.]\n",
            " [1. 3. 2.]]\n"
          ],
          "name": "stdout"
        }
      ]
    }
  ]
}