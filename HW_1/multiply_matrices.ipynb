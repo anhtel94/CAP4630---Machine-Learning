{
  "nbformat": 4,
  "nbformat_minor": 0,
  "metadata": {
    "colab": {
      "name": "Untitled0.ipynb",
      "provenance": [],
      "authorship_tag": "ABX9TyNW08ehxNuWcvCfit7BoCNJ",
      "include_colab_link": true
    },
    "kernelspec": {
      "name": "python3",
      "display_name": "Python 3"
    }
  },
  "cells": [
    {
      "cell_type": "markdown",
      "metadata": {
        "id": "view-in-github",
        "colab_type": "text"
      },
      "source": [
        "<a href=\"https://colab.research.google.com/github/anhtel94/CAP4630---Machine-Learning/blob/master/HW_1/multiply_matrices.ipynb\" target=\"_parent\"><img src=\"https://colab.research.google.com/assets/colab-badge.svg\" alt=\"Open In Colab\"/></a>"
      ]
    },
    {
      "cell_type": "markdown",
      "metadata": {
        "id": "7OiOa1cEuWoe",
        "colab_type": "text"
      },
      "source": [
        "Problem 2: multiply_matrices"
      ]
    },
    {
      "cell_type": "markdown",
      "metadata": {
        "id": "RChompvncMJZ",
        "colab_type": "text"
      },
      "source": [
        " Matrix A shape(m, n) and matrix B shape(i, j) are able to product and form matrix C shape(m, j) if and only if n = i and both A and B are not empty."
      ]
    },
    {
      "cell_type": "markdown",
      "metadata": {
        "id": "eVi1fg4icIFD",
        "colab_type": "text"
      },
      "source": [
        "$$\n",
        "\\begin{bmatrix} \n",
        "a_11 & \\cdots & a_1n \\\\\n",
        "\\vdots & \\ddots & \\vdots \\\\\n",
        "a_m1 & \\cdots & a_mn\n",
        "\\end{bmatrix}\n",
        "*\n",
        "\\begin{bmatrix} \n",
        "b_11 & \\cdots & b_1j \\\\\n",
        "\\vdots & \\ddots & \\vdots \\\\\n",
        "b_i1 & \\cdots & b_ij\n",
        "\\end{bmatrix}\n",
        "=\n",
        "\\begin{bmatrix} \n",
        "c_11 & \\cdots & c_1j \\\\\n",
        "\\vdots & \\ddots & \\vdots \\\\\n",
        "c_m1 & \\cdots & c_mj\n",
        "\\end{bmatrix}\n",
        "$$"
      ]
    },
    {
      "cell_type": "markdown",
      "metadata": {
        "id": "FCK4ut_pyekt",
        "colab_type": "text"
      },
      "source": [
        "Coding part:"
      ]
    },
    {
      "cell_type": "code",
      "metadata": {
        "id": "zMqMRUZjydck",
        "colab_type": "code",
        "colab": {}
      },
      "source": [
        "import numpy as np\n",
        "\n",
        "# Create arrays for testing coding part\n"
      ],
      "execution_count": 0,
      "outputs": []
    }
  ]
}