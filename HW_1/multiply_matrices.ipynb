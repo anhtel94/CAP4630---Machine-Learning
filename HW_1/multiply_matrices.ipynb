{
  "nbformat": 4,
  "nbformat_minor": 0,
  "metadata": {
    "colab": {
      "name": "Untitled0.ipynb",
      "provenance": [],
      "authorship_tag": "ABX9TyPuH+u7TLHUduG0bKy1S/lD",
      "include_colab_link": true
    },
    "kernelspec": {
      "name": "python3",
      "display_name": "Python 3"
    }
  },
  "cells": [
    {
      "cell_type": "markdown",
      "metadata": {
        "id": "view-in-github",
        "colab_type": "text"
      },
      "source": [
        "<a href=\"https://colab.research.google.com/github/anhtel94/CAP4630---Machine-Learning/blob/master/HW_1/multiply_matrices.ipynb\" target=\"_parent\"><img src=\"https://colab.research.google.com/assets/colab-badge.svg\" alt=\"Open In Colab\"/></a>"
      ]
    },
    {
      "cell_type": "markdown",
      "metadata": {
        "id": "7OiOa1cEuWoe",
        "colab_type": "text"
      },
      "source": [
        "Problem 2: multiply_matrices"
      ]
    },
    {
      "cell_type": "markdown",
      "metadata": {
        "id": "RChompvncMJZ",
        "colab_type": "text"
      },
      "source": [
        " Matrix A shape(m, n) and matrix B shape(i, j) are able to product and form matrix C shape(m, j) if and only if n = i and both A and B are not empty."
      ]
    },
    {
      "cell_type": "markdown",
      "metadata": {
        "id": "eVi1fg4icIFD",
        "colab_type": "text"
      },
      "source": [
        "$$\n",
        "\\begin{bmatrix} \n",
        "a_11 & \\cdots & a_1n \\\\\n",
        "\\vdots & \\ddots & \\vdots \\\\\n",
        "a_m1 & \\cdots & a_mn\n",
        "\\end{bmatrix}\n",
        "*\n",
        "\\begin{bmatrix} \n",
        "b_11 & \\cdots & b_1j \\\\\n",
        "\\vdots & \\ddots & \\vdots \\\\\n",
        "b_i1 & \\cdots & b_ij\n",
        "\\end{bmatrix}\n",
        "=\n",
        "\\begin{bmatrix} \n",
        "c_11 & \\cdots & c_1j \\\\\n",
        "\\vdots & \\ddots & \\vdots \\\\\n",
        "c_m1 & \\cdots & c_mj\n",
        "\\end{bmatrix}\n",
        "$$"
      ]
    },
    {
      "cell_type": "markdown",
      "metadata": {
        "id": "FCK4ut_pyekt",
        "colab_type": "text"
      },
      "source": [
        "Coding part:"
      ]
    },
    {
      "cell_type": "code",
      "metadata": {
        "id": "zMqMRUZjydck",
        "colab_type": "code",
        "outputId": "b2f97666-c509-499a-c02c-4c3dbe5812ee",
        "colab": {
          "base_uri": "https://localhost:8080/",
          "height": 778
        }
      },
      "source": [
        "import numpy as np\n",
        "\n",
        "# Create arrays for testing coding part\n",
        "# Array A shape (4, 3) of random numbers 0-9\n",
        "A = np.random.randint(0, 10, (4, 3))\n",
        "print('Matrix A is:\\n', A)\n",
        "\n",
        "# Array B shape (3,5) of random numbers 0-9\n",
        "B = np.random.randint(0, 10, (3,5))\n",
        "print('Matrix B is:\\n', B)\n",
        "\n",
        "# Array C shape (4, 3) of random numbers 0-9\n",
        "C = np.random.randint(0, 10, (4, 3))\n",
        "print('Matrix C is:\\n', C)\n",
        "\n",
        "# Array D is an empty array\n",
        "D = np.empty((0,0))\n",
        "print('Matrix D is an empty array.')\n",
        "\n",
        "# Function check if 2 matrices can be product\n",
        "def multiply_matrices(A, B):\n",
        "  # Check if A or B is an empty matrix\n",
        "  if A.size == 0:\n",
        "    raise Exception('These two matrices are incompatible, at least one is empty!')\n",
        "    return\n",
        "  elif B.size == 0:\n",
        "    raise Exception('These two matrices are incompatible, at least one is empty!')\n",
        "    return\n",
        "  else:\n",
        "    # Number of A's columns\n",
        "    Ac = A.shape[1] \n",
        "    # Number of B's rows\n",
        "    Br = B.shape[0]\n",
        "  # Check if number of columns of A is equal number of rows of B\n",
        "  if Ac == Br:\n",
        "    # Number of A's rows\n",
        "    Ar = A.shape[0]\n",
        "    # Number of B's columns\n",
        "    Bc = B.shape[1]\n",
        "\n",
        "    C = np.zeros((Ar, Bc))\n",
        "    r = 0\n",
        "    c = 0\n",
        "    # Loop through matrix C to calculate each element\n",
        "    # Loop through rows\n",
        "    for val1 in C:\n",
        "      if r == Ar:\n",
        "        break\n",
        "      # Loop through columns\n",
        "      for val2 in C[0]:\n",
        "        C[r,c] = sum(np.multiply(A[r],B[:Bc, c]))\n",
        "        c = c + 1\n",
        "        if c == Bc:\n",
        "          c = 0\n",
        "          r = r + 1\n",
        "          continue\n",
        "  else:\n",
        "    raise Exception('These two matrices are incompatible, number of columns in first matrix is different than number of rows in second matrix!')\n",
        "  return C\n",
        "\n",
        "  \n",
        "# Testing 2 compatible matrices\n",
        "print('\\nTesting A * B')\n",
        "print('A * B = \\n', multiply_matrices(A, B))\n",
        "# Testing 2 incompatible matrices with different size\n",
        "print('\\nTesting A * C')\n",
        "multiply_matrices(A,C)\n",
        "# Testing 2 incompatible matrices with one is empty matrix\n",
        "print('\\nTesting A * D')\n",
        "multiply_matrices(A,D)"
      ],
      "execution_count": 24,
      "outputs": [
        {
          "output_type": "stream",
          "text": [
            "Matrix A is:\n",
            " [[9 2 2]\n",
            " [9 3 0]\n",
            " [1 1 0]\n",
            " [4 5 5]]\n",
            "Matrix B is:\n",
            " [[7 6 2 1 3]\n",
            " [7 6 0 3 4]\n",
            " [2 8 2 1 3]]\n",
            "Matrix C is:\n",
            " [[5 9 9]\n",
            " [0 9 6]\n",
            " [9 6 3]\n",
            " [1 0 5]]\n",
            "Matrix D is an empty array.\n",
            "\n",
            "Testing A * B\n",
            "A * B = \n",
            " [[81. 82. 22. 17. 41.]\n",
            " [84. 72. 18. 18. 39.]\n",
            " [14. 12.  2.  4.  7.]\n",
            " [73. 94. 18. 24. 47.]]\n",
            "\n",
            "Testing A * C\n"
          ],
          "name": "stdout"
        },
        {
          "output_type": "error",
          "ename": "Exception",
          "evalue": "ignored",
          "traceback": [
            "\u001b[0;31m---------------------------------------------------------------------------\u001b[0m",
            "\u001b[0;31mException\u001b[0m                                 Traceback (most recent call last)",
            "\u001b[0;32m<ipython-input-24-cae9be018192>\u001b[0m in \u001b[0;36m<module>\u001b[0;34m()\u001b[0m\n\u001b[1;32m     65\u001b[0m \u001b[0;31m# Testing 2 incompatible matrices with different size\u001b[0m\u001b[0;34m\u001b[0m\u001b[0;34m\u001b[0m\u001b[0;34m\u001b[0m\u001b[0m\n\u001b[1;32m     66\u001b[0m \u001b[0mprint\u001b[0m\u001b[0;34m(\u001b[0m\u001b[0;34m'\\nTesting A * C'\u001b[0m\u001b[0;34m)\u001b[0m\u001b[0;34m\u001b[0m\u001b[0;34m\u001b[0m\u001b[0m\n\u001b[0;32m---> 67\u001b[0;31m \u001b[0mmultiply_matrices\u001b[0m\u001b[0;34m(\u001b[0m\u001b[0mA\u001b[0m\u001b[0;34m,\u001b[0m\u001b[0mC\u001b[0m\u001b[0;34m)\u001b[0m\u001b[0;34m\u001b[0m\u001b[0;34m\u001b[0m\u001b[0m\n\u001b[0m\u001b[1;32m     68\u001b[0m \u001b[0;31m# Testing 2 incompatible matrices with one is empty matrix\u001b[0m\u001b[0;34m\u001b[0m\u001b[0;34m\u001b[0m\u001b[0;34m\u001b[0m\u001b[0m\n\u001b[1;32m     69\u001b[0m \u001b[0mprint\u001b[0m\u001b[0;34m(\u001b[0m\u001b[0;34m'\\nTesting A * D'\u001b[0m\u001b[0;34m)\u001b[0m\u001b[0;34m\u001b[0m\u001b[0;34m\u001b[0m\u001b[0m\n",
            "\u001b[0;32m<ipython-input-24-cae9be018192>\u001b[0m in \u001b[0;36mmultiply_matrices\u001b[0;34m(A, B)\u001b[0m\n\u001b[1;32m     56\u001b[0m           \u001b[0;32mcontinue\u001b[0m\u001b[0;34m\u001b[0m\u001b[0;34m\u001b[0m\u001b[0m\n\u001b[1;32m     57\u001b[0m   \u001b[0;32melse\u001b[0m\u001b[0;34m:\u001b[0m\u001b[0;34m\u001b[0m\u001b[0;34m\u001b[0m\u001b[0m\n\u001b[0;32m---> 58\u001b[0;31m     \u001b[0;32mraise\u001b[0m \u001b[0mException\u001b[0m\u001b[0;34m(\u001b[0m\u001b[0;34m'These two matrices are incompatible, number of columns in first matrix is different than number of rows in second matrix!'\u001b[0m\u001b[0;34m)\u001b[0m\u001b[0;34m\u001b[0m\u001b[0;34m\u001b[0m\u001b[0m\n\u001b[0m\u001b[1;32m     59\u001b[0m   \u001b[0;32mreturn\u001b[0m \u001b[0mC\u001b[0m\u001b[0;34m\u001b[0m\u001b[0;34m\u001b[0m\u001b[0m\n\u001b[1;32m     60\u001b[0m \u001b[0;34m\u001b[0m\u001b[0m\n",
            "\u001b[0;31mException\u001b[0m: These two matrices are incompatible, number of columns in first matrix is different than number of rows in second matrix!"
          ]
        }
      ]
    }
  ]
}