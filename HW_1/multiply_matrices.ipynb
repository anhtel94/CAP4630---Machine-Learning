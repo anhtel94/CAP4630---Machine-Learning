{
  "nbformat": 4,
  "nbformat_minor": 0,
  "metadata": {
    "colab": {
      "name": "Untitled0.ipynb",
      "provenance": [],
      "authorship_tag": "ABX9TyNngqSaB36GpA83TsKno5M0",
      "include_colab_link": true
    },
    "kernelspec": {
      "name": "python3",
      "display_name": "Python 3"
    }
  },
  "cells": [
    {
      "cell_type": "markdown",
      "metadata": {
        "id": "view-in-github",
        "colab_type": "text"
      },
      "source": [
        "<a href=\"https://colab.research.google.com/github/anhtel94/CAP4630---Machine-Learning/blob/master/HW_1/multiply_matrices.ipynb\" target=\"_parent\"><img src=\"https://colab.research.google.com/assets/colab-badge.svg\" alt=\"Open In Colab\"/></a>"
      ]
    },
    {
      "cell_type": "markdown",
      "metadata": {
        "id": "7OiOa1cEuWoe",
        "colab_type": "text"
      },
      "source": [
        "Problem 2: multiply_matrices"
      ]
    },
    {
      "cell_type": "markdown",
      "metadata": {
        "id": "RChompvncMJZ",
        "colab_type": "text"
      },
      "source": [
        " Matrix A shape(m, n) and matrix B shape(i, j) are able to product and form matrix C shape(m, j) if and only if n = i and both A and B are not empty."
      ]
    },
    {
      "cell_type": "markdown",
      "metadata": {
        "id": "eVi1fg4icIFD",
        "colab_type": "text"
      },
      "source": [
        "$$\n",
        "\\begin{bmatrix} \n",
        "a_11 & \\cdots & a_1n \\\\\n",
        "\\vdots & \\ddots & \\vdots \\\\\n",
        "a_m1 & \\cdots & a_mn\n",
        "\\end{bmatrix}\n",
        "*\n",
        "\\begin{bmatrix} \n",
        "b_11 & \\cdots & b_1j \\\\\n",
        "\\vdots & \\ddots & \\vdots \\\\\n",
        "b_i1 & \\cdots & b_ij\n",
        "\\end{bmatrix}\n",
        "=\n",
        "\\begin{bmatrix} \n",
        "c_11 & \\cdots & c_1j \\\\\n",
        "\\vdots & \\ddots & \\vdots \\\\\n",
        "c_m1 & \\cdots & c_mj\n",
        "\\end{bmatrix}\n",
        "$$"
      ]
    },
    {
      "cell_type": "markdown",
      "metadata": {
        "id": "FCK4ut_pyekt",
        "colab_type": "text"
      },
      "source": [
        "Coding part:"
      ]
    },
    {
      "cell_type": "code",
      "metadata": {
        "id": "zMqMRUZjydck",
        "colab_type": "code",
        "colab": {
          "base_uri": "https://localhost:8080/",
          "height": 391
        },
        "outputId": "adfe09a7-8a25-4786-ac27-c0718f84d277"
      },
      "source": [
        "import numpy as np\n",
        "\n",
        "# Create arrays for testing coding part\n",
        "# Array A shape (4, 3) of random numbers 0-9\n",
        "A = np.random.randint(0, 10, (4, 3))\n",
        "print('Matrix A is:\\n', A)\n",
        "\n",
        "# Array B shape (3,5) of random numbers 0-9\n",
        "B = np.random.randint(0, 10, (3,5))\n",
        "print('Matrix B is:\\n', B)\n",
        "\n",
        "# Array C shape (4, 3) of random numbers 0-9\n",
        "C = np.random.randint(0, 10, (4, 3))\n",
        "print('Matrix C is:\\n', C)\n",
        "\n",
        "# Array D is an empty array\n",
        "D = np.empty((0,0))\n",
        "print('Matrix D is an empty array.')\n",
        "\n",
        "print('Size of D = ', D.size)\n",
        "\n",
        "# Function check if 2 matrices can be product\n",
        "def multiply_matrices(A, B):\n",
        "  # Check if A or B is an empty matrix\n",
        "  if A.size == 0:\n",
        "    print('There is an empty matrix!')\n",
        "    return\n",
        "  elif B.size == 0:\n",
        "    print('There is an empty matrix!')\n",
        "    return\n",
        "  else:\n",
        "    a = A.shape[1]\n",
        "    b = B.shape[0]\n",
        "  # Check if number of columns of A is equal number of rows of B\n",
        "  if a == b:\n",
        "    print('A and B are compatible!')\n",
        "    C = np.zeros((A.shape[0], B.shape[1]))\n",
        "    test = 0\n",
        "    for val in C[0]:\n",
        "      test = test + 1\n",
        "\n",
        "    print(test)\n",
        "  return C\n",
        "\n",
        "  \n",
        "# Testing 2 compatible matrices\n",
        "multiply_matrices(A, B)"
      ],
      "execution_count": 61,
      "outputs": [
        {
          "output_type": "stream",
          "text": [
            "Matrix A is:\n",
            " [[1 2 7]\n",
            " [9 0 9]\n",
            " [3 1 2]\n",
            " [2 6 0]]\n",
            "Matrix B is:\n",
            " [[8 8 0 8 2]\n",
            " [1 9 8 2 9]\n",
            " [9 5 7 4 6]]\n",
            "Matrix C is:\n",
            " [[9 2 3]\n",
            " [1 8 7]\n",
            " [3 7 1]\n",
            " [4 8 4]]\n",
            "Matrix D is an empty array.\n",
            "Size of D =  0\n",
            "A and B are compatible!\n",
            "5\n"
          ],
          "name": "stdout"
        },
        {
          "output_type": "execute_result",
          "data": {
            "text/plain": [
              "array([[0., 0., 0., 0., 0.],\n",
              "       [0., 0., 0., 0., 0.],\n",
              "       [0., 0., 0., 0., 0.],\n",
              "       [0., 0., 0., 0., 0.]])"
            ]
          },
          "metadata": {
            "tags": []
          },
          "execution_count": 61
        }
      ]
    }
  ]
}