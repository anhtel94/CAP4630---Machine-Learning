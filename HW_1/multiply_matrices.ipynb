{
  "nbformat": 4,
  "nbformat_minor": 0,
  "metadata": {
    "colab": {
      "name": "Untitled0.ipynb",
      "provenance": [],
      "authorship_tag": "ABX9TyPmOUEwdt7QiDLYOOOaUiZl",
      "include_colab_link": true
    },
    "kernelspec": {
      "name": "python3",
      "display_name": "Python 3"
    }
  },
  "cells": [
    {
      "cell_type": "markdown",
      "metadata": {
        "id": "view-in-github",
        "colab_type": "text"
      },
      "source": [
        "<a href=\"https://colab.research.google.com/github/anhtel94/CAP4630---Machine-Learning/blob/master/HW_1/multiply_matrices.ipynb\" target=\"_parent\"><img src=\"https://colab.research.google.com/assets/colab-badge.svg\" alt=\"Open In Colab\"/></a>"
      ]
    },
    {
      "cell_type": "markdown",
      "metadata": {
        "id": "7OiOa1cEuWoe",
        "colab_type": "text"
      },
      "source": [
        "Problem 2: multiply_matrices"
      ]
    },
    {
      "cell_type": "markdown",
      "metadata": {
        "id": "RChompvncMJZ",
        "colab_type": "text"
      },
      "source": [
        " Matrix A shape(m, n) and matrix B shape(i, j) are able to product and form matrix C shape(m, j) if and only if n = i and both A and B are not empty."
      ]
    },
    {
      "cell_type": "markdown",
      "metadata": {
        "id": "eVi1fg4icIFD",
        "colab_type": "text"
      },
      "source": [
        "$$\n",
        "\\begin{bmatrix} \n",
        "a_11 & \\cdots & a_1n \\\\\n",
        "\\vdots & \\ddots & \\vdots \\\\\n",
        "a_m1 & \\cdots & a_mn\n",
        "\\end{bmatrix}\n",
        "*\n",
        "\\begin{bmatrix} \n",
        "b_11 & \\cdots & b_1j \\\\\n",
        "\\vdots & \\ddots & \\vdots \\\\\n",
        "b_i1 & \\cdots & b_ij\n",
        "\\end{bmatrix}\n",
        "=\n",
        "\\begin{bmatrix} \n",
        "c_11 & \\cdots & c_1j \\\\\n",
        "\\vdots & \\ddots & \\vdots \\\\\n",
        "c_m1 & \\cdots & c_mj\n",
        "\\end{bmatrix}\n",
        "$$"
      ]
    },
    {
      "cell_type": "markdown",
      "metadata": {
        "id": "FCK4ut_pyekt",
        "colab_type": "text"
      },
      "source": [
        "Coding part:"
      ]
    },
    {
      "cell_type": "code",
      "metadata": {
        "id": "zMqMRUZjydck",
        "colab_type": "code",
        "outputId": "5f9369f5-8393-425a-daec-dd41fb7fc3c4",
        "colab": {
          "base_uri": "https://localhost:8080/",
          "height": 727
        }
      },
      "source": [
        "import numpy as np\n",
        "\n",
        "# Create arrays for testing coding part\n",
        "# Array A shape (4, 3) of random numbers 0-9\n",
        "A = np.random.randint(0, 10, (4, 3))\n",
        "print('Matrix A is:\\n', A)\n",
        "\n",
        "# Array B shape (3,5) of random numbers 0-9\n",
        "B = np.random.randint(0, 10, (3,5))\n",
        "print('Matrix B is:\\n', B)\n",
        "\n",
        "# Array C shape (4, 3) of random numbers 0-9\n",
        "C = np.random.randint(0, 10, (4, 3))\n",
        "print('Matrix C is:\\n', C)\n",
        "\n",
        "# Array D is an empty array\n",
        "D = np.empty((0,0))\n",
        "print('Matrix D is an empty array.')\n",
        "\n",
        "# Function check if 2 matrices can be product\n",
        "def multiply_matrices(A, B):\n",
        "  # Check if A or B is an empty matrix\n",
        "  if A.size == 0:\n",
        "    raise Exception('These two matrices are incompatible, at least one is empty!')\n",
        "    return\n",
        "  elif B.size == 0:\n",
        "    raise Exception('These two matrices are incompatible, at least one is empty!')\n",
        "    return\n",
        "  else:\n",
        "    # Number of A's columns\n",
        "    Ac = A.shape[1] \n",
        "    # Number of B's rows\n",
        "    Br = B.shape[0]\n",
        "  # Check if number of columns of A is equal number of rows of B\n",
        "  if Ac == Br:\n",
        "    # Number of A's rows\n",
        "    Ar = A.shape[0]\n",
        "    # Number of B's columns\n",
        "    Bc = B.shape[1]\n",
        "\n",
        "    C = np.zeros((Ar, Bc))\n",
        "    r = 0\n",
        "    c = 0\n",
        "    # Loop through matrix C to calculate each element\n",
        "    # Loop through rows\n",
        "    for val1 in C:\n",
        "      if r == Ar:\n",
        "        break\n",
        "      # Loop through columns\n",
        "      for val2 in C[0]:\n",
        "        C[r,c] = sum(np.multiply(A[r],B[:Bc, c]))\n",
        "        c = c + 1\n",
        "        if c == Bc:\n",
        "          c = 0\n",
        "          r = r + 1\n",
        "          continue\n",
        "  else:\n",
        "    raise Exception('These two matrices are incompatible, number of columns in first matrix is different than number of rows in second matrix!')\n",
        "  return C\n",
        "\n",
        "  \n",
        "# Testing 2 compatible matrices\n",
        "print('A * B = \\n', multiply_matrices(A, B))\n",
        "# Testing 2 incompatible matrices with different size\n",
        "multiply_matrices(A,C)\n",
        "# Testing 2 incompatible matrices with one is empty matrix\n",
        "multiply_matrices(A,D)"
      ],
      "execution_count": 22,
      "outputs": [
        {
          "output_type": "stream",
          "text": [
            "Matrix A is:\n",
            " [[2 4 6]\n",
            " [0 0 8]\n",
            " [5 4 4]\n",
            " [0 0 3]]\n",
            "Matrix B is:\n",
            " [[1 7 8 6 7]\n",
            " [9 2 7 4 0]\n",
            " [7 5 4 2 8]]\n",
            "Matrix C is:\n",
            " [[2 0 9]\n",
            " [7 0 2]\n",
            " [6 2 2]\n",
            " [3 0 3]]\n",
            "Matrix D is an empty array.\n",
            "Size of D =  0\n",
            "A * B = \n",
            " [[80. 52. 68. 40. 62.]\n",
            " [56. 40. 32. 16. 64.]\n",
            " [69. 63. 84. 54. 67.]\n",
            " [21. 15. 12.  6. 24.]]\n"
          ],
          "name": "stdout"
        },
        {
          "output_type": "error",
          "ename": "Exception",
          "evalue": "ignored",
          "traceback": [
            "\u001b[0;31m---------------------------------------------------------------------------\u001b[0m",
            "\u001b[0;31mException\u001b[0m                                 Traceback (most recent call last)",
            "\u001b[0;32m<ipython-input-22-9cdd34f44f4d>\u001b[0m in \u001b[0;36m<module>\u001b[0;34m()\u001b[0m\n\u001b[1;32m     65\u001b[0m \u001b[0mprint\u001b[0m\u001b[0;34m(\u001b[0m\u001b[0;34m'A * B = \\n'\u001b[0m\u001b[0;34m,\u001b[0m \u001b[0mmultiply_matrices\u001b[0m\u001b[0;34m(\u001b[0m\u001b[0mA\u001b[0m\u001b[0;34m,\u001b[0m \u001b[0mB\u001b[0m\u001b[0;34m)\u001b[0m\u001b[0;34m)\u001b[0m\u001b[0;34m\u001b[0m\u001b[0;34m\u001b[0m\u001b[0m\n\u001b[1;32m     66\u001b[0m \u001b[0;31m# Testing 2 incompatible matrices with different size\u001b[0m\u001b[0;34m\u001b[0m\u001b[0;34m\u001b[0m\u001b[0;34m\u001b[0m\u001b[0m\n\u001b[0;32m---> 67\u001b[0;31m \u001b[0mmultiply_matrices\u001b[0m\u001b[0;34m(\u001b[0m\u001b[0mA\u001b[0m\u001b[0;34m,\u001b[0m\u001b[0mC\u001b[0m\u001b[0;34m)\u001b[0m\u001b[0;34m\u001b[0m\u001b[0;34m\u001b[0m\u001b[0m\n\u001b[0m\u001b[1;32m     68\u001b[0m \u001b[0;31m# Testing 2 incompatible matrices with one is empty matrix\u001b[0m\u001b[0;34m\u001b[0m\u001b[0;34m\u001b[0m\u001b[0;34m\u001b[0m\u001b[0m\n\u001b[1;32m     69\u001b[0m \u001b[0mmultiply_matrices\u001b[0m\u001b[0;34m(\u001b[0m\u001b[0mA\u001b[0m\u001b[0;34m,\u001b[0m\u001b[0mD\u001b[0m\u001b[0;34m)\u001b[0m\u001b[0;34m\u001b[0m\u001b[0;34m\u001b[0m\u001b[0m\n",
            "\u001b[0;32m<ipython-input-22-9cdd34f44f4d>\u001b[0m in \u001b[0;36mmultiply_matrices\u001b[0;34m(A, B)\u001b[0m\n\u001b[1;32m     58\u001b[0m           \u001b[0;32mcontinue\u001b[0m\u001b[0;34m\u001b[0m\u001b[0;34m\u001b[0m\u001b[0m\n\u001b[1;32m     59\u001b[0m   \u001b[0;32melse\u001b[0m\u001b[0;34m:\u001b[0m\u001b[0;34m\u001b[0m\u001b[0;34m\u001b[0m\u001b[0m\n\u001b[0;32m---> 60\u001b[0;31m     \u001b[0;32mraise\u001b[0m \u001b[0mException\u001b[0m\u001b[0;34m(\u001b[0m\u001b[0;34m'These two matrices are incompatible, number of columns in first matrix is different than number of rows in second matrix!'\u001b[0m\u001b[0;34m)\u001b[0m\u001b[0;34m\u001b[0m\u001b[0;34m\u001b[0m\u001b[0m\n\u001b[0m\u001b[1;32m     61\u001b[0m   \u001b[0;32mreturn\u001b[0m \u001b[0mC\u001b[0m\u001b[0;34m\u001b[0m\u001b[0;34m\u001b[0m\u001b[0m\n\u001b[1;32m     62\u001b[0m \u001b[0;34m\u001b[0m\u001b[0m\n",
            "\u001b[0;31mException\u001b[0m: These two matrices are incompatible, number of columns in first matrix is different than number of rows in second matrix!"
          ]
        }
      ]
    }
  ]
}