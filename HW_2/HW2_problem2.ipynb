{
  "nbformat": 4,
  "nbformat_minor": 0,
  "metadata": {
    "colab": {
      "name": "HW2_problem2.ipynb",
      "provenance": [],
      "collapsed_sections": [],
      "authorship_tag": "ABX9TyMO+KsQ4PNfj1W3OVFhXHU1",
      "include_colab_link": true
    },
    "kernelspec": {
      "name": "python3",
      "display_name": "Python 3"
    }
  },
  "cells": [
    {
      "cell_type": "markdown",
      "metadata": {
        "id": "view-in-github",
        "colab_type": "text"
      },
      "source": [
        "<a href=\"https://colab.research.google.com/github/anhtel94/CAP4630---Machine-Learning/blob/master/HW_2/HW2_problem2.ipynb\" target=\"_parent\"><img src=\"https://colab.research.google.com/assets/colab-badge.svg\" alt=\"Open In Colab\"/></a>"
      ]
    },
    {
      "cell_type": "markdown",
      "metadata": {
        "id": "BGqyg2_7gp7A",
        "colab_type": "text"
      },
      "source": [
        "## Imports"
      ]
    },
    {
      "cell_type": "code",
      "metadata": {
        "id": "PEa4r1jHcSTo",
        "colab_type": "code",
        "colab": {}
      },
      "source": [
        "import numpy as np\n",
        "%matplotlib inline\n",
        "import matplotlib as mpl\n",
        "import matplotlib.pyplot as plt\n",
        "mpl.rc('axes', labelsize=14)\n",
        "mpl.rc('xtick', labelsize=12)\n",
        "mpl.rc('ytick', labelsize=12)"
      ],
      "execution_count": 0,
      "outputs": []
    },
    {
      "cell_type": "markdown",
      "metadata": {
        "id": "jKQkCwH3gf-p",
        "colab_type": "text"
      },
      "source": [
        "## Generate random data"
      ]
    },
    {
      "cell_type": "code",
      "metadata": {
        "id": "-cHx4CB0cWV3",
        "colab_type": "code",
        "colab": {}
      },
      "source": [
        "# generate m random pairs (x, y)\n",
        "\n",
        "m = 100\n",
        "X = 2 * np.random.rand(m, 1)\n",
        "y = 4 + 3 * X + np.random.rand(m, 1)"
      ],
      "execution_count": 0,
      "outputs": []
    },
    {
      "cell_type": "code",
      "metadata": {
        "id": "ct1FjBPqcYLK",
        "colab_type": "code",
        "colab": {
          "base_uri": "https://localhost:8080/",
          "height": 290
        },
        "outputId": "bf3bfe12-5d0e-40a3-9496-e47594dc26fa"
      },
      "source": [
        "plt.plot(X, y, \"b.\")\n",
        "plt.xlabel(\"$x_1$\", fontsize=18)\n",
        "plt.ylabel(\"$y$\", rotation=0, fontsize=18)\n",
        "plt.axis([0, 2, 0, 15])\n",
        "plt.show()"
      ],
      "execution_count": 127,
      "outputs": [
        {
          "output_type": "display_data",
          "data": {
            "image/png": "[encoded data removed]",
            "text/plain": [
              "<Figure size 432x288 with 1 Axes>"
            ]
          },
          "metadata": {
            "tags": []
          }
        }
      ]
    },
    {
      "cell_type": "code",
      "metadata": {
        "id": "cGykyVwVcaIE",
        "colab_type": "code",
        "colab": {
          "base_uri": "https://localhost:8080/",
          "height": 34
        },
        "outputId": "8a6fb19d-51b4-45a9-c921-521d5fcdcea0"
      },
      "source": [
        "print(X.shape)"
      ],
      "execution_count": 128,
      "outputs": [
        {
          "output_type": "stream",
          "text": [
            "(100, 1)\n"
          ],
          "name": "stdout"
        }
      ]
    },
    {
      "cell_type": "code",
      "metadata": {
        "id": "L1fyYzWXccSe",
        "colab_type": "code",
        "colab": {
          "base_uri": "https://localhost:8080/",
          "height": 102
        },
        "outputId": "dd954bc2-b380-461e-9113-69b46c3dc9a5"
      },
      "source": [
        "# show the first 5 rows\n",
        "print(X[:5, :])"
      ],
      "execution_count": 129,
      "outputs": [
        {
          "output_type": "stream",
          "text": [
            "[[1.06448998]\n",
            " [0.25148302]\n",
            " [0.26542931]\n",
            " [0.28708472]\n",
            " [1.87963958]]\n"
          ],
          "name": "stdout"
        }
      ]
    },
    {
      "cell_type": "markdown",
      "metadata": {
        "id": "v0YY-q9Zj0pv",
        "colab_type": "text"
      },
      "source": [
        "## Combine bias $b=w_0$ and weight $w_1$"
      ]
    },
    {
      "cell_type": "markdown",
      "metadata": {
        "id": "-qm83_mNkJX9",
        "colab_type": "text"
      },
      "source": [
        "Linear regression predicts $\\hat{y}=b + w_1 x_1$. It will be convenient to rewrite this as a dot product.  Define $w=(w_0, w_1)$ and $x=(1, x_1)$.  Then, we have $\\hat{y}=w \\boldsymbol{\\cdot} x$."
      ]
    },
    {
      "cell_type": "code",
      "metadata": {
        "id": "VmYytw5LSeki",
        "colab_type": "code",
        "colab": {}
      },
      "source": [
        "# add x0 = 1 \n",
        "X_b = np.column_stack([np.ones((m, 1)), X])"
      ],
      "execution_count": 0,
      "outputs": []
    },
    {
      "cell_type": "code",
      "metadata": {
        "id": "QwrdvAfuiRaf",
        "colab_type": "code",
        "outputId": "48a571dc-2b7c-4353-9d1c-33e16086c9a8",
        "colab": {
          "base_uri": "https://localhost:8080/",
          "height": 34
        }
      },
      "source": [
        "print(X_b.shape)"
      ],
      "execution_count": 131,
      "outputs": [
        {
          "output_type": "stream",
          "text": [
            "(100, 2)\n"
          ],
          "name": "stdout"
        }
      ]
    },
    {
      "cell_type": "code",
      "metadata": {
        "id": "eVzZOlJHicUH",
        "colab_type": "code",
        "outputId": "5636c94b-c833-42a8-b186-896da2c30394",
        "colab": {
          "base_uri": "https://localhost:8080/",
          "height": 102
        }
      },
      "source": [
        "# show the first 5 rows\n",
        "print(X_b[:5, :])"
      ],
      "execution_count": 132,
      "outputs": [
        {
          "output_type": "stream",
          "text": [
            "[[1.         1.06448998]\n",
            " [1.         0.25148302]\n",
            " [1.         0.26542931]\n",
            " [1.         0.28708472]\n",
            " [1.         1.87963958]]\n"
          ],
          "name": "stdout"
        }
      ]
    },
    {
      "cell_type": "code",
      "metadata": {
        "id": "pkcH-nGGiPgn",
        "colab_type": "code",
        "colab": {}
      },
      "source": [
        "# create array with x1=0 and x1=2\n",
        "X_new = np.array([[0], [2], [3]])\n",
        "# add x0 = 1 to each instance\n",
        "X_new_b = np.column_stack([np.ones((3, 1)), X_new])"
      ],
      "execution_count": 0,
      "outputs": []
    },
    {
      "cell_type": "code",
      "metadata": {
        "id": "fhIiph8piIJg",
        "colab_type": "code",
        "outputId": "70b51ba7-21ff-485b-b8f5-698086b5ba36",
        "colab": {
          "base_uri": "https://localhost:8080/",
          "height": 68
        }
      },
      "source": [
        "print(X_new_b)"
      ],
      "execution_count": 134,
      "outputs": [
        {
          "output_type": "stream",
          "text": [
            "[[1. 0.]\n",
            " [1. 2.]\n",
            " [1. 3.]]\n"
          ],
          "name": "stdout"
        }
      ]
    },
    {
      "cell_type": "markdown",
      "metadata": {
        "id": "M2Jxr5VzdPmi",
        "colab_type": "text"
      },
      "source": [
        "# Linear regression using mini-batch gradient descent\n",
        "A few training examples are selected to compute the gradient."
      ]
    },
    {
      "cell_type": "code",
      "metadata": {
        "id": "3GVquvurdLnq",
        "colab_type": "code",
        "colab": {}
      },
      "source": [
        ""
      ],
      "execution_count": 0,
      "outputs": []
    },
    {
      "cell_type": "code",
      "metadata": {
        "id": "k_O5EQtmSjVS",
        "colab_type": "code",
        "colab": {}
      },
      "source": [
        "# number of epochs\n",
        "epochs = 20\n",
        "# learning rate\n",
        "lr = 0.01\n",
        "# fix initial random weight for gradient descent (batch gradient descent)\n",
        "np.random.seed(42)\n",
        "initial_weight = np.random.randn(2, 1) "
      ],
      "execution_count": 0,
      "outputs": []
    },
    {
      "cell_type": "code",
      "metadata": {
        "id": "SUa3UH9EdFR-",
        "colab_type": "code",
        "colab": {}
      },
      "source": [
        "weight = initial_weight\n",
        "weight_path_mgd = []\n",
        "batch_size = 4\n",
        "\n",
        "weight_path_mgd.append(weight)\n",
        "for epoch in range(epochs):\n",
        "    shuffled_indices = np.random.permutation(m)\n",
        "    X_b_shuffled = X_b[shuffled_indices]\n",
        "    y_shuffled = y[shuffled_indices]\n",
        "    for i in range(0, m, batch_size):\n",
        "        xi = X_b_shuffled[i:i+batch_size]\n",
        "        yi = y_shuffled[i:i+batch_size]\n",
        "        gradient = 1 / batch_size * xi.T.dot(xi.dot(weight) - yi)\n",
        "        weight = weight - lr * gradient\n",
        "        weight_path_mgd.append(weight)"
      ],
      "execution_count": 0,
      "outputs": []
    },
    {
      "cell_type": "code",
      "metadata": {
        "id": "iiZOkXV8bI9x",
        "colab_type": "code",
        "colab": {
          "base_uri": "https://localhost:8080/",
          "height": 51
        },
        "outputId": "9ddc9123-624d-4179-bf08-a1aa1d186d2a"
      },
      "source": [
        "weight_path_mgd[-1]"
      ],
      "execution_count": 137,
      "outputs": [
        {
          "output_type": "execute_result",
          "data": {
            "text/plain": [
              "array([[4.00334798],\n",
              "       [3.40135069]])"
            ]
          },
          "metadata": {
            "tags": []
          },
          "execution_count": 137
        }
      ]
    },
    {
      "cell_type": "code",
      "metadata": {
        "id": "pI-gm1WfbKj-",
        "colab_type": "code",
        "colab": {}
      },
      "source": [
        "weight_path_mgd = np.array(weight_path_mgd)"
      ],
      "execution_count": 0,
      "outputs": []
    },
    {
      "cell_type": "markdown",
      "metadata": {
        "id": "FFnmrdNfqoKT",
        "colab_type": "text"
      },
      "source": [
        "### Compare the three types"
      ]
    },
    {
      "cell_type": "code",
      "metadata": {
        "id": "BGHEQbJFeCL3",
        "colab_type": "code",
        "outputId": "efecd07c-b8fc-4f55-82e9-7ac643d36610",
        "colab": {
          "base_uri": "https://localhost:8080/",
          "height": 751
        }
      },
      "source": [
        "plt.figure(figsize=(12,12))\n",
        "plt.plot(weight_path_mgd[:, 0], weight_path_mgd[:, 1], \"g-s\", linewidth=2, label=\"mini-batch\")\n",
        "plt.legend(loc=\"upper left\", fontsize=16)\n",
        "plt.xlabel(r\"$w_0$\", fontsize=20)\n",
        "plt.ylabel(r\"$w_1$   \", fontsize=20, rotation=0)\n",
        "plt.axis([-1, 5, -1, 4])\n",
        "plt.show()"
      ],
      "execution_count": 139,
      "outputs": [
        {
          "output_type": "display_data",
          "data": {
            "image/png": "[encoded data removed]",
            "text/plain": [
              "<Figure size 864x864 with 1 Axes>"
            ]
          },
          "metadata": {
            "tags": []
          }
        }
      ]
    },
    {
      "cell_type": "code",
      "metadata": {
        "id": "FAPF5gizeM-E",
        "colab_type": "code",
        "colab": {}
      },
      "source": [
        ""
      ],
      "execution_count": 0,
      "outputs": []
    },
    {
      "cell_type": "code",
      "metadata": {
        "id": "hzRt0oCqeTTu",
        "colab_type": "code",
        "outputId": "8f65160d-8504-4bf7-c969-bf98903cad9e",
        "colab": {
          "base_uri": "https://localhost:8080/",
          "height": 751
        }
      },
      "source": [
        "plt.figure(figsize=(12,12))\n",
        "plt.plot(weight_path_mgd[:, 0], weight_path_mgd[:, 1], \"g-s\", linewidth=2, label=\"mini-batch\")\n",
        "plt.legend(loc=\"upper left\", fontsize=16)\n",
        "plt.xlabel(r\"$w_0$\", fontsize=20)\n",
        "plt.ylabel(r\"$w_1$   \", fontsize=20, rotation=0)\n",
        "plt.axis([3, 4.5, 2.5, 4])\n",
        "plt.show()"
      ],
      "execution_count": 140,
      "outputs": [
        {
          "output_type": "display_data",
          "data": {
            "image/png": "[encoded data removed]",
            "text/plain": [
              "<Figure size 864x864 with 1 Axes>"
            ]
          },
          "metadata": {
            "tags": []
          }
        }
      ]
    }
  ]
}